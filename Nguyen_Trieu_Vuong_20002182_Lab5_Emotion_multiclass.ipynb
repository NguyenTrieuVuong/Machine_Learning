{
  "nbformat": 4,
  "nbformat_minor": 0,
  "metadata": {
    "colab": {
      "provenance": [],
      "gpuType": "T4"
    },
    "kernelspec": {
      "name": "python3",
      "display_name": "Python 3"
    },
    "language_info": {
      "name": "python"
    },
    "gpuClass": "standard"
  },
  "cells": [
    {
      "cell_type": "code",
      "execution_count": 38,
      "metadata": {
        "id": "kALbgacZ5bWO",
        "colab": {
          "base_uri": "https://localhost:8080/"
        },
        "outputId": "adcebbd9-eace-404f-b659-b8b2092802fb"
      },
      "outputs": [
        {
          "output_type": "stream",
          "name": "stdout",
          "text": [
            "Drive already mounted at /content/gdrive; to attempt to forcibly remount, call drive.mount(\"/content/gdrive\", force_remount=True).\n"
          ]
        }
      ],
      "source": [
        "from google.colab import drive\n",
        "drive.mount('/content/gdrive')"
      ]
    },
    {
      "cell_type": "code",
      "source": [
        "!unzip /content/gdrive/Shareddrives/nhan_dien_dac_diem_khuon_mat/emotions_data.zip -d \"/content/\""
      ],
      "metadata": {
        "id": "wbDsueZtYR3R",
        "colab": {
          "base_uri": "https://localhost:8080/"
        },
        "outputId": "1c860c15-1331-4329-c140-18b888ec62ba"
      },
      "execution_count": 39,
      "outputs": [
        {
          "output_type": "stream",
          "name": "stdout",
          "text": [
            "Archive:  /content/gdrive/Shareddrives/nhan_dien_dac_diem_khuon_mat/emotions_data.zip\n",
            "replace /content/images/images/train/angry/0.jpg? [y]es, [n]o, [A]ll, [N]one, [r]ename: N\n"
          ]
        }
      ]
    },
    {
      "cell_type": "markdown",
      "source": [
        "## **Import thư viện và data**"
      ],
      "metadata": {
        "id": "HGUQPPLtlFDt"
      }
    },
    {
      "cell_type": "code",
      "source": [
        "import glob\n",
        "import numpy as np\n",
        "from matplotlib import pyplot as plt\n",
        "import seaborn as sn\n",
        "import pandas as pd\n",
        "import cv2"
      ],
      "metadata": {
        "id": "ItSQ-urkYaPN"
      },
      "execution_count": 40,
      "outputs": []
    },
    {
      "cell_type": "code",
      "source": [
        "train_dir = '/content/images/train'\n",
        "test_dir = '/content/images/validation'\n",
        "categories = [\"angry\", \"disgust\", \"fear\", \"happy\", \"neutral\", \"sad\", \"surprise\" ]\n",
        "img_size = 64"
      ],
      "metadata": {
        "id": "7lHaOAO5cN82"
      },
      "execution_count": 41,
      "outputs": []
    },
    {
      "cell_type": "code",
      "source": [
        "X_train_label = []\n",
        "X_train_list = []\n",
        "X_test_label = []\n",
        "X_test_list = []"
      ],
      "metadata": {
        "id": "8nq9g4CPc8lX"
      },
      "execution_count": 42,
      "outputs": []
    },
    {
      "cell_type": "markdown",
      "source": [
        "## **Load data và preprocessing**"
      ],
      "metadata": {
        "id": "v3uJUKBqlKVd"
      }
    },
    {
      "cell_type": "markdown",
      "source": [
        "### - Tập train"
      ],
      "metadata": {
        "id": "0iJjiXevlMph"
      }
    },
    {
      "cell_type": "code",
      "source": [
        "angry_train_list = glob.glob(train_dir+\"/\"+categories[0]+\"/*\")\n",
        "disgust_train_list = glob.glob(train_dir+\"/\"+categories[1]+\"/*\")\n",
        "fear_train_list = glob.glob(train_dir+\"/\"+categories[2]+\"/*\")\n",
        "happy_train_list = glob.glob(train_dir+\"/\"+categories[3]+\"/*\")\n",
        "neutral_train_list = glob.glob(train_dir+\"/\"+categories[4]+\"/*\")\n",
        "sad_train_list = glob.glob(train_dir+\"/\"+categories[5]+\"/*\")\n",
        "surprise_train_list = glob.glob(train_dir+\"/\"+categories[6]+\"/*\")\n",
        "for name in angry_train_list:\n",
        "  X_train_label.append(0)\n",
        "  img = cv2.imread(name)\n",
        "  img = cv2.cvtColor(img,cv2.COLOR_BGR2GRAY)\n",
        "  img = cv2.resize(img,(img_size,img_size))\n",
        "  X_train_list.append((img))\n",
        "for name in disgust_train_list:\n",
        "  X_train_label.append(1)\n",
        "  img = cv2.imread(name)\n",
        "  img = cv2.cvtColor(img,cv2.COLOR_BGR2GRAY)\n",
        "  img = cv2.resize(img,(img_size,img_size))\n",
        "  X_train_list.append((img))\n",
        "for name in fear_train_list:\n",
        "  X_train_label.append(2)\n",
        "  img = cv2.imread(name)\n",
        "  img = cv2.cvtColor(img,cv2.COLOR_BGR2GRAY)\n",
        "  img = cv2.resize(img,(img_size,img_size))\n",
        "  X_train_list.append((img))\n",
        "for name in happy_train_list:\n",
        "  X_train_label.append(3)\n",
        "  img = cv2.imread(name)\n",
        "  img = cv2.cvtColor(img,cv2.COLOR_BGR2GRAY)\n",
        "  img = cv2.resize(img,(img_size,img_size))\n",
        "  X_train_list.append((img))\n",
        "for name in neutral_train_list:\n",
        "  X_train_label.append(4)\n",
        "  img = cv2.imread(name)\n",
        "  img = cv2.cvtColor(img,cv2.COLOR_BGR2GRAY)\n",
        "  img = cv2.resize(img,(img_size,img_size))\n",
        "  X_train_list.append((img))\n",
        "for name in sad_train_list:\n",
        "  X_train_label.append(5)\n",
        "  img = cv2.imread(name)\n",
        "  img = cv2.cvtColor(img,cv2.COLOR_BGR2GRAY)\n",
        "  img = cv2.resize(img,(img_size,img_size))\n",
        "  X_train_list.append((img))\n",
        "for name in surprise_train_list:\n",
        "  X_train_label.append(6)\n",
        "  img = cv2.imread(name)\n",
        "  img = cv2.cvtColor(img,cv2.COLOR_BGR2GRAY)\n",
        "  img = cv2.resize(img,(img_size,img_size))\n",
        "  X_train_list.append((img))"
      ],
      "metadata": {
        "id": "9xy5sEGAdBWP"
      },
      "execution_count": 43,
      "outputs": []
    },
    {
      "cell_type": "markdown",
      "source": [
        "### - Tập test"
      ],
      "metadata": {
        "id": "DNO1t8HVlXWI"
      }
    },
    {
      "cell_type": "code",
      "source": [
        "angry_test_list = glob.glob(test_dir+\"/\"+categories[0]+\"/*\")\n",
        "disgust_test_list = glob.glob(test_dir+\"/\"+categories[1]+\"/*\")\n",
        "fear_test_list = glob.glob(test_dir+\"/\"+categories[2]+\"/*\")\n",
        "happy_test_list = glob.glob(test_dir+\"/\"+categories[3]+\"/*\")\n",
        "neutral_test_list = glob.glob(test_dir+\"/\"+categories[4]+\"/*\")\n",
        "sad_test_list = glob.glob(test_dir+\"/\"+categories[5]+\"/*\")\n",
        "surprise_test_list = glob.glob(test_dir+\"/\"+categories[6]+\"/*\")\n",
        "for name in angry_test_list:\n",
        "  X_test_label.append(0)\n",
        "  img = cv2.imread(name)\n",
        "  img = cv2.cvtColor(img,cv2.COLOR_BGR2GRAY)\n",
        "  img = cv2.resize(img,(img_size,img_size))\n",
        "  X_test_list.append((img))\n",
        "for name in disgust_test_list:\n",
        "  X_test_label.append(1)\n",
        "  img = cv2.imread(name)\n",
        "  img = cv2.cvtColor(img,cv2.COLOR_BGR2GRAY)\n",
        "  img = cv2.resize(img,(img_size,img_size))\n",
        "  X_test_list.append((img))\n",
        "for name in fear_test_list:\n",
        "  X_test_label.append(2)\n",
        "  img = cv2.imread(name)\n",
        "  img = cv2.cvtColor(img,cv2.COLOR_BGR2GRAY)\n",
        "  img = cv2.resize(img,(img_size,img_size))\n",
        "  X_test_list.append((img))\n",
        "for name in happy_test_list:\n",
        "  X_test_label.append(3)\n",
        "  img = cv2.imread(name)\n",
        "  img = cv2.cvtColor(img,cv2.COLOR_BGR2GRAY)\n",
        "  img = cv2.resize(img,(img_size,img_size))\n",
        "  X_test_list.append((img))\n",
        "for name in neutral_test_list:\n",
        "  X_test_label.append(4)\n",
        "  img = cv2.imread(name)\n",
        "  img = cv2.cvtColor(img,cv2.COLOR_BGR2GRAY)\n",
        "  img = cv2.resize(img,(img_size,img_size))\n",
        "  X_test_list.append((img))\n",
        "for name in sad_test_list:\n",
        "  X_test_label.append(5)\n",
        "  img = cv2.imread(name)\n",
        "  img = cv2.cvtColor(img,cv2.COLOR_BGR2GRAY)\n",
        "  img = cv2.resize(img,(img_size,img_size))\n",
        "  X_test_list.append((img))\n",
        "for name in surprise_test_list:\n",
        "  X_test_label.append(6)\n",
        "  img = cv2.imread(name)\n",
        "  img = cv2.cvtColor(img,cv2.COLOR_BGR2GRAY)\n",
        "  img = cv2.resize(img,(img_size,img_size))\n",
        "  X_test_list.append((img))"
      ],
      "metadata": {
        "id": "_bKIhbG4d69c"
      },
      "execution_count": 44,
      "outputs": []
    },
    {
      "cell_type": "code",
      "source": [
        "X_train = np.array(X_train_list)\n",
        "y_train = np.array(X_train_label)\n",
        "X_test = np.array(X_test_list)\n",
        "y_test = np.array(X_test_label)"
      ],
      "metadata": {
        "id": "0Emf-DSNeRRj"
      },
      "execution_count": 45,
      "outputs": []
    },
    {
      "cell_type": "markdown",
      "source": [
        "## **Duỗi vector, chuẩn hoá input**"
      ],
      "metadata": {
        "id": "N_cALJ9oldMM"
      }
    },
    {
      "cell_type": "code",
      "source": [
        "X_train_scaled = np.array([x.ravel()/255. for x in X_train])\n",
        "X_test_scaled = np.array([x.ravel()/255. for x in X_test])"
      ],
      "metadata": {
        "id": "MDWpaQSEeY_f"
      },
      "execution_count": 46,
      "outputs": []
    },
    {
      "cell_type": "markdown",
      "source": [
        "## **Chuẩn hoá output**"
      ],
      "metadata": {
        "id": "6reDnTBXleYc"
      }
    },
    {
      "cell_type": "code",
      "source": [
        "classes = np.unique(y_train)\n",
        "\n",
        "y_train_onehot = np.zeros((len(y_train), len(classes)))\n",
        "for i in range(len(y_train)):\n",
        "    y_train_onehot[i, y_train[i]] = 1\n",
        "\n",
        "y_test_onehot = np.zeros((len(y_test), len(classes)))\n",
        "for i in range(len(y_test)):\n",
        "    y_test_onehot[i, y_test[i]] = 1"
      ],
      "metadata": {
        "id": "bO7c7twElPCV"
      },
      "execution_count": 47,
      "outputs": []
    },
    {
      "cell_type": "code",
      "source": [
        "print(y_train.shape)\n",
        "print(y_train_onehot.shape)"
      ],
      "metadata": {
        "colab": {
          "base_uri": "https://localhost:8080/"
        },
        "id": "PSk9pdu2asay",
        "outputId": "b0e40796-c002-4618-9ae6-189e854ab71b"
      },
      "execution_count": 48,
      "outputs": [
        {
          "output_type": "stream",
          "name": "stdout",
          "text": [
            "(28821,)\n",
            "(28821, 7)\n"
          ]
        }
      ]
    },
    {
      "cell_type": "code",
      "source": [
        "print(y_test_onehot.shape)"
      ],
      "metadata": {
        "colab": {
          "base_uri": "https://localhost:8080/"
        },
        "id": "Z6EFriHRejtb",
        "outputId": "6471ce89-b426-42d0-d351-17dd7da3c7ab"
      },
      "execution_count": 49,
      "outputs": [
        {
          "output_type": "stream",
          "name": "stdout",
          "text": [
            "(7066, 7)\n"
          ]
        }
      ]
    },
    {
      "cell_type": "markdown",
      "source": [
        "# **Huấn luyện dữ liệu**"
      ],
      "metadata": {
        "id": "jV-hUkU2lhzc"
      }
    },
    {
      "cell_type": "code",
      "source": [
        "def predict(X,w):\n",
        "  h = np.dot(X,w)\n",
        "  h = np.float64(h)\n",
        "  softmax = np.exp(h)\n",
        "  y_pred = softmax/np.sum(softmax, axis = 1, keepdims = True)\n",
        "  return y_pred\n",
        "def loss(X,w,y):\n",
        "  y_pred = predict(X,w)\n",
        "  theta = 1e-4\n",
        "  l = -np.sum(y*np.log(y_pred)+theta)/y.shape[0]\n",
        "  return l\n",
        "def grad(X,w,y):\n",
        "  y_pred = predict(X,w)\n",
        "  delta = y_pred - y\n",
        "  return np.dot(X.T,delta)/X.shape[0]\n",
        "def gradient_descent(X,y,lr = 5e-3,epochs = 300):\n",
        "  w = np.zeros((X.shape[1],y.shape[1]))\n",
        "  losses = []\n",
        "  for i in range(epochs):\n",
        "    w -= lr*grad(X,w,y)\n",
        "    l = loss(X,w,y)\n",
        "    losses.append(l)\n",
        "  print(f'Loss cross entropy: {loss(X,w,y)}')\n",
        "  return losses,w\n",
        "# def sgd(X, y, lr=1e-5, epochs=100, batch_size=32):\n",
        "#     w = np.zeros((X.shape[1], y.shape[1]))\n",
        "#     for epoch in range(epochs):\n",
        "#         indices = np.random.permutation(X.shape[0])\n",
        "#         X = X[indices]\n",
        "#         y = y[indices]\n",
        "#         for i in range(0, X.shape[0], batch_size):\n",
        "#             X_batch = X[i:i+batch_size]\n",
        "#             y_batch = y[i:i+batch_size]\n",
        "#             # grad = np.dot(X_batch.T, predict(X_batch, w) - y_batch) / X_batch.shape[0]\n",
        "#             w -= lr * grad(X_batch,w,y_batch)\n",
        "#         print(f\"Epoch {epoch+1}/{epochs} loss: {loss(X, w, y)}\")\n",
        "#     return w\n"
      ],
      "metadata": {
        "id": "caY6MrfTfG9h"
      },
      "execution_count": 50,
      "outputs": []
    },
    {
      "cell_type": "markdown",
      "source": [
        "### **Tính loss**"
      ],
      "metadata": {
        "id": "1pz__NDR8rn_"
      }
    },
    {
      "cell_type": "code",
      "source": [
        "losses,w = gradient_descent(X_train_scaled, y_train_onehot)\n",
        "# w = sgd(X_train_scaled, y_train_scaled)"
      ],
      "metadata": {
        "colab": {
          "base_uri": "https://localhost:8080/"
        },
        "id": "paI6ZHkOjPrB",
        "outputId": "42c3e32a-520a-4d52-d700-27957a7b71ed"
      },
      "execution_count": 51,
      "outputs": [
        {
          "output_type": "stream",
          "name": "stdout",
          "text": [
            "Loss cross entropy: 1.7316008706438177\n"
          ]
        }
      ]
    },
    {
      "cell_type": "markdown",
      "source": [
        "### **Vẽ đồ thị Loss ban đầu**"
      ],
      "metadata": {
        "id": "6OJulHysln33"
      }
    },
    {
      "cell_type": "code",
      "source": [
        "plt.plot(losses)\n",
        "plt.xlabel(\"epochs\")\n",
        "plt.ylabel(\"loss\")"
      ],
      "metadata": {
        "id": "IDlGQ8P5jX4t",
        "colab": {
          "base_uri": "https://localhost:8080/",
          "height": 466
        },
        "outputId": "b2be06e8-5609-402f-b93c-2dc6cf37c6ae"
      },
      "execution_count": 52,
      "outputs": [
        {
          "output_type": "execute_result",
          "data": {
            "text/plain": [
              "Text(0, 0.5, 'loss')"
            ]
          },
          "metadata": {},
          "execution_count": 52
        },
        {
          "output_type": "display_data",
          "data": {
            "text/plain": [
              "<Figure size 640x480 with 1 Axes>"
            ],
            "image/png": "[encoded data removed]"
          },
          "metadata": {}
        }
      ]
    },
    {
      "cell_type": "code",
      "source": [
        "# Tính y dự đoán\n",
        "y_pred_onehot = predict(X_test_scaled, w)\n",
        "# Tìm y sao cho hiệu quả lớn nhất\n",
        "y_pred = np.argmax(y_pred_onehot, axis=1)"
      ],
      "metadata": {
        "id": "xzmqO0ApjaTe"
      },
      "execution_count": 53,
      "outputs": []
    },
    {
      "cell_type": "markdown",
      "source": [
        "## **Hàm đánh giá**"
      ],
      "metadata": {
        "id": "RANByqbXlp6C"
      }
    },
    {
      "cell_type": "code",
      "source": [
        "def evaluation(y_test, y_pred):\n",
        "    # Tính accuracy\n",
        "    accuracy = np.mean(y_pred == y_test)\n",
        "\n",
        "    # Tính precision và recall\n",
        "    precision = np.zeros(len(classes))\n",
        "    recall = np.zeros(len(classes))\n",
        "    for i in range(len(classes)):\n",
        "        tp = np.sum((y_pred == i) & (y_test == i))\n",
        "        tn = np.sum((y_pred != i) & (y_test != i))\n",
        "        fp = np.sum((y_pred == i) & (y_test != i))\n",
        "        fn = np.sum((y_pred != i) & (y_test == i))\n",
        "    precision = tp / (tp + fp) if (tp + fp) != 0 else 0\n",
        "    recall = tp / (tp + fn) if (tp + fn) != 0 else 0\n",
        "\n",
        "    # Tính macro-averaged precision and recall\n",
        "    macro_precision = np.mean(precision)\n",
        "    macro_recall = np.mean(recall)\n",
        "    print(f'tp = {tp}, tn = {tn}, fp = {fp}, fn = {fn}')\n",
        "    print(f'Accuracy: {accuracy}, Precision: {macro_precision}, Recall: {macro_recall}')\n"
      ],
      "metadata": {
        "id": "98onGAc7jbRv"
      },
      "execution_count": 54,
      "outputs": []
    },
    {
      "cell_type": "markdown",
      "source": [
        "### **Đánh giá accuracy, recall, precision**"
      ],
      "metadata": {
        "id": "R69a5tHMlr8_"
      }
    },
    {
      "cell_type": "code",
      "source": [
        "evaluation(y_test, y_pred)"
      ],
      "metadata": {
        "id": "Pfn1It_PlTa6",
        "colab": {
          "base_uri": "https://localhost:8080/"
        },
        "outputId": "01c885e4-b773-4703-c124-646f690a90aa"
      },
      "execution_count": 55,
      "outputs": [
        {
          "output_type": "stream",
          "name": "stdout",
          "text": [
            "tp = 172, tn = 6020, fp = 249, fn = 625\n",
            "Accuracy: 0.32097367676195865, Precision: 0.4085510688836104, Recall: 0.21580928481806774\n"
          ]
        }
      ]
    },
    {
      "cell_type": "markdown",
      "source": [
        "# **Hàm LogisticRegression, có bổ sung bias**"
      ],
      "metadata": {
        "id": "HTYNtP6CmKJj"
      }
    },
    {
      "cell_type": "code",
      "source": [
        "class LogisticRegression:\n",
        "    def __init__(self, lr = 1e-4, epochs = 10):\n",
        "        self.lr = lr\n",
        "        self.epochs = epochs\n",
        "    # Hàm thêm bias vào tập X\n",
        "    def addBias(self,X):\n",
        "        bias = np.ones((X.shape[0],1))\n",
        "        X = np.hstack((bias,X));\n",
        "        return X\n",
        "    # Hàm sigmoid\n",
        "    def predict(self,X,w):\n",
        "        h = np.dot(X,w)\n",
        "        h = np.float64(h)\n",
        "        softmax = np.exp(h)\n",
        "        y_pred = softmax/np.sum(softmax, axis = 1, keepdims = True)\n",
        "        return y_pred\n",
        "    # Hàm loss\n",
        "    def loss(self,X,w,y):\n",
        "        y_pred = self.predict(X,w)\n",
        "        theta = 1e-4\n",
        "        return -np.sum(y*np.log(y_pred)+theta)/y.shape[0]\n",
        "    # Hàm gradient\n",
        "    def grad(self,X,w,y):\n",
        "        y_pred = self.predict(X,w)\n",
        "        delta = y_pred - y\n",
        "        return np.dot(X.T,delta)/X.shape[0]\n",
        "    # Hàm gradient descent\n",
        "    def gradient_descent(self,X,y,lr = 5e-3, epochs = 300):\n",
        "        w = np.zeros((X.shape[1], y.shape[1]))\n",
        "        losses = []\n",
        "        for i in range(epochs):\n",
        "          w-= lr*self.grad(X,w,y)\n",
        "          l = self.loss(X,w,y)\n",
        "          losses.append(l)\n",
        "        print(f'Loss cross entropy: {self.loss(X,w,y)}')\n",
        "        return losses, w"
      ],
      "metadata": {
        "id": "51R97QFa9jHT"
      },
      "execution_count": 56,
      "outputs": []
    },
    {
      "cell_type": "markdown",
      "source": [
        "# **Thêm bias vào tập train và tính loss**"
      ],
      "metadata": {
        "id": "TV8m6-BwnHzi"
      }
    },
    {
      "cell_type": "code",
      "source": [
        "model = LogisticRegression()\n",
        "X_train_scaled_bias = model.addBias(X_train_scaled)\n",
        "X_test_scaled_bias = model.addBias(X_test_scaled)\n",
        "losses,w = model.gradient_descent(X_train_scaled_bias,y_train_onehot)"
      ],
      "metadata": {
        "id": "Ct61e3JimWmV",
        "colab": {
          "base_uri": "https://localhost:8080/"
        },
        "outputId": "5198bd58-09ae-43a0-e2af-ca55d1dd36b1"
      },
      "execution_count": 57,
      "outputs": [
        {
          "output_type": "stream",
          "name": "stdout",
          "text": [
            "Loss cross entropy: 1.7309707547591657\n"
          ]
        }
      ]
    },
    {
      "cell_type": "code",
      "source": [
        "# Tính y dự đoán sau khi thêm bias\n",
        "y_pred = model.predict(X_test_scaled_bias,w)\n",
        "# Tìm giá trị làm cho hiệu quả lớn nhất\n",
        "y_pred = np.argmax(y_pred_onehot, axis=1)"
      ],
      "metadata": {
        "id": "9IFtkezcm0OH"
      },
      "execution_count": 58,
      "outputs": []
    },
    {
      "cell_type": "markdown",
      "source": [
        "# **Đánh giá mô hình sau khi thêm bias**"
      ],
      "metadata": {
        "id": "o4ETnlKWm5cZ"
      }
    },
    {
      "cell_type": "code",
      "source": [
        "evaluation(y_test,y_pred)"
      ],
      "metadata": {
        "id": "kH-Ct0gGm1dr",
        "colab": {
          "base_uri": "https://localhost:8080/"
        },
        "outputId": "d0e11882-3a58-465b-a0ac-77f8617ff0c7"
      },
      "execution_count": 59,
      "outputs": [
        {
          "output_type": "stream",
          "name": "stdout",
          "text": [
            "tp = 172, tn = 6020, fp = 249, fn = 625\n",
            "Accuracy: 0.32097367676195865, Precision: 0.4085510688836104, Recall: 0.21580928481806774\n"
          ]
        }
      ]
    },
    {
      "cell_type": "markdown",
      "source": [
        "## **Vẽ confusion matrix dùng thư viện sklearn**\n",
        "\n"
      ],
      "metadata": {
        "id": "Ea6-UoTcm3S9"
      }
    },
    {
      "cell_type": "code",
      "source": [
        "import sklearn.metrics\n",
        "\n",
        "# Tạo confusion matrix\n",
        "cm = sklearn.metrics.confusion_matrix(y_test, y_pred)\n",
        "\n",
        "# Vẽ confusion matrix\n",
        "plt.figure()\n",
        "sn.heatmap(cm, annot=True, fmt='d', cmap='Blues')\n",
        "plt.title('Confusion Matrix')\n",
        "plt.xlabel('Predicted')\n",
        "plt.ylabel('True')\n",
        "plt.show()"
      ],
      "metadata": {
        "id": "wPjVfr6km20j",
        "colab": {
          "base_uri": "https://localhost:8080/",
          "height": 472
        },
        "outputId": "e2d32b07-b255-4009-dbdf-42c43b32d644"
      },
      "execution_count": 60,
      "outputs": [
        {
          "output_type": "display_data",
          "data": {
            "text/plain": [
              "<Figure size 640x480 with 2 Axes>"
            ],
            "image/png": "[encoded data removed]"
          },
          "metadata": {}
        }
      ]
    }
  ]
}