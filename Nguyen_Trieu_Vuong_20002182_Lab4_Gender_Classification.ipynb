{
  "cells": [
    {
      "cell_type": "markdown",
      "metadata": {
        "id": "7qmiV7znaHOL"
      },
      "source": [
        "##**Tải data vào colab**"
      ]
    },
    {
      "cell_type": "code",
      "execution_count": 85,
      "metadata": {
        "colab": {
          "base_uri": "https://localhost:8080/"
        },
        "id": "geg69BsbyYfS",
        "outputId": "951cff22-99c2-4cb9-a496-c6c843ad8959"
      },
      "outputs": [
        {
          "output_type": "stream",
          "name": "stdout",
          "text": [
            "Drive already mounted at /content/gdrive; to attempt to forcibly remount, call drive.mount(\"/content/gdrive\", force_remount=True).\n"
          ]
        }
      ],
      "source": [
        "from google.colab import drive\n",
        "drive.mount('/content/gdrive')"
      ]
    },
    {
      "cell_type": "code",
      "execution_count": 86,
      "metadata": {
        "colab": {
          "base_uri": "https://localhost:8080/"
        },
        "id": "jbmwL9Aby_9e",
        "outputId": "52348e05-4026-4b83-c7be-d1c193b88bae"
      },
      "outputs": [
        {
          "output_type": "stream",
          "name": "stdout",
          "text": [
            "Archive:  /content/gdrive/Shareddrives/nhan_dien_dac_diem_khuon_mat/gender_data.zip\n",
            "replace /content/Training/female/131422.jpg.jpg? [y]es, [n]o, [A]ll, [N]one, [r]ename: N\n"
          ]
        }
      ],
      "source": [
        "!unzip /content/gdrive/Shareddrives/nhan_dien_dac_diem_khuon_mat/gender_data.zip -d \"/content\""
      ]
    },
    {
      "cell_type": "markdown",
      "metadata": {
        "id": "99A9Z8oUaa9X"
      },
      "source": [
        "## **Import thư viện**"
      ]
    },
    {
      "cell_type": "code",
      "execution_count": 87,
      "metadata": {
        "id": "KyFxdxxIzuGn"
      },
      "outputs": [],
      "source": [
        "import os\n",
        "import cv2\n",
        "import numpy as np\n",
        "import pandas as pd\n",
        "from matplotlib import pyplot as plt\n",
        "import glob\n",
        "import seaborn as sn\n",
        "from tqdm import tqdm"
      ]
    },
    {
      "cell_type": "markdown",
      "metadata": {
        "id": "7wvex5IdbZPH"
      },
      "source": [
        "## **Chia 2 thư mục train và test**"
      ]
    },
    {
      "cell_type": "code",
      "execution_count": 88,
      "metadata": {
        "id": "XweyWXtf0fPs"
      },
      "outputs": [],
      "source": [
        "train_dir = '/content/Training'\n",
        "test_dir = '/content/Validation'\n",
        "categories = [\"female\", \"male\"]\n",
        "img_size = 50"
      ]
    },
    {
      "cell_type": "code",
      "execution_count": 89,
      "metadata": {
        "id": "gUia7yN3omOG"
      },
      "outputs": [],
      "source": [
        "X_train_label = []\n",
        "X_train_list = []\n",
        "X_test_label = []\n",
        "X_test_list = []"
      ]
    },
    {
      "cell_type": "markdown",
      "metadata": {
        "id": "v_vRLZESbh-A"
      },
      "source": [
        "## **Load data và preprocessing**"
      ]
    },
    {
      "cell_type": "code",
      "execution_count": 90,
      "metadata": {
        "id": "G-AYrki9mT6E"
      },
      "outputs": [],
      "source": [
        "female_train_list = glob.glob(train_dir+\"/\"+categories[0]+\"/*\")\n",
        "male_train_list = glob.glob(train_dir+\"/\"+categories[1]+\"/*\")\n",
        "for name in female_train_list:\n",
        "  X_train_label.append(0)\n",
        "  img = cv2.imread(name)\n",
        "  img = cv2.cvtColor(img,cv2.COLOR_BGR2GRAY)\n",
        "  img = cv2.resize(img,(img_size,img_size))\n",
        "  X_train_list.append((img))\n",
        "for name in male_train_list:\n",
        "  X_train_label.append(1)\n",
        "  img = cv2.imread(name)\n",
        "  img = cv2.cvtColor(img,cv2.COLOR_BGR2GRAY)\n",
        "  img = cv2.resize(img,(img_size,img_size))\n",
        "  X_train_list.append((img))"
      ]
    },
    {
      "cell_type": "code",
      "execution_count": null,
      "metadata": {
        "colab": {
          "base_uri": "https://localhost:8080/"
        },
        "id": "zGoafgHvsCxS",
        "outputId": "57f486f7-1134-4bcf-ed0c-cb1930707ec7"
      },
      "outputs": [
        {
          "name": "stdout",
          "output_type": "stream",
          "text": [
            "47009\n",
            "47009\n"
          ]
        }
      ],
      "source": [
        "print(len(X_train_list))\n",
        "print(len(X_train_label))"
      ]
    },
    {
      "cell_type": "code",
      "execution_count": 91,
      "metadata": {
        "id": "Fv1qcrHBqQM4"
      },
      "outputs": [],
      "source": [
        "female_test_list = glob.glob(test_dir+\"/\"+categories[0]+\"/*\")\n",
        "male_test_list = glob.glob(test_dir+\"/\"+categories[1]+\"/*\")\n",
        "for name in female_test_list:\n",
        "  X_test_label.append(0)\n",
        "  img = cv2.imread(name)\n",
        "  img = cv2.cvtColor(img,cv2.COLOR_BGR2GRAY)\n",
        "  img = cv2.resize(img,(img_size,img_size))\n",
        "  X_test_list.append((img))\n",
        "for name in male_test_list:\n",
        "  X_test_label.append(1)\n",
        "  img = cv2.imread(name)\n",
        "  img = cv2.cvtColor(img,cv2.COLOR_BGR2GRAY)\n",
        "  img = cv2.resize(img,(img_size,img_size))\n",
        "  X_test_list.append((img))"
      ]
    },
    {
      "cell_type": "code",
      "execution_count": 92,
      "metadata": {
        "colab": {
          "base_uri": "https://localhost:8080/"
        },
        "id": "rfRfUBOCr7_1",
        "outputId": "43c1de5b-6aa9-4f8d-8f95-4173d61ce268"
      },
      "outputs": [
        {
          "output_type": "stream",
          "name": "stdout",
          "text": [
            "11649\n",
            "11649\n"
          ]
        }
      ],
      "source": [
        "print(len(X_test_list))\n",
        "print(len(X_test_label))"
      ]
    },
    {
      "cell_type": "code",
      "execution_count": 93,
      "metadata": {
        "colab": {
          "base_uri": "https://localhost:8080/"
        },
        "id": "33Uf2t61q7mG",
        "outputId": "d63ec433-2759-402e-aa40-81c07cf4bf98"
      },
      "outputs": [
        {
          "output_type": "stream",
          "name": "stdout",
          "text": [
            "(47009, 50, 50)\n",
            "(47009,)\n"
          ]
        }
      ],
      "source": [
        "X_train = np.array(X_train_list)\n",
        "y_train = np.array(X_train_label)\n",
        "\n",
        "print(X_train.shape)\n",
        "print(y_train.shape)"
      ]
    },
    {
      "cell_type": "code",
      "execution_count": 94,
      "metadata": {
        "colab": {
          "base_uri": "https://localhost:8080/"
        },
        "id": "IxFGUlv8seri",
        "outputId": "df6725db-174e-4569-e367-519869946137"
      },
      "outputs": [
        {
          "output_type": "stream",
          "name": "stdout",
          "text": [
            "(11649, 50, 50)\n",
            "(11649,)\n"
          ]
        }
      ],
      "source": [
        "X_test = np.array(X_test_list)\n",
        "y_test = np.array(X_test_label)\n",
        "\n",
        "print(X_test.shape)\n",
        "print(y_test.shape)"
      ]
    },
    {
      "cell_type": "markdown",
      "metadata": {
        "id": "XZHLTVpnb-69"
      },
      "source": [
        "## **Duỗi vector, chuẩn hoá input**"
      ]
    },
    {
      "cell_type": "code",
      "execution_count": 95,
      "metadata": {
        "colab": {
          "base_uri": "https://localhost:8080/"
        },
        "id": "rYM8pG6OspjZ",
        "outputId": "fa7daa43-9e77-45b0-bd9f-d1ea581edc36"
      },
      "outputs": [
        {
          "output_type": "stream",
          "name": "stdout",
          "text": [
            "(47009, 2500)\n",
            "(11649, 2500)\n"
          ]
        }
      ],
      "source": [
        "X_train_scaled = np.array([x.ravel()/255. for x in X_train])\n",
        "X_test_scaled = np.array([x.ravel()/255. for x in X_test])\n",
        "\n",
        "print(X_train_scaled.shape)\n",
        "print(X_test_scaled.shape)"
      ]
    },
    {
      "cell_type": "markdown",
      "metadata": {
        "id": "4f7hL9iNcw9u"
      },
      "source": [
        "## **Chuẩn hoá output**"
      ]
    },
    {
      "cell_type": "code",
      "execution_count": 96,
      "metadata": {
        "id": "0ikyPXEos9sR"
      },
      "outputs": [],
      "source": [
        "y_train_scaled = np.array([y for y in y_train])\n",
        "y_test_scaled = np.array([y for y in y_test])"
      ]
    },
    {
      "cell_type": "markdown",
      "metadata": {
        "id": "VgY2Kar7dR-N"
      },
      "source": [
        "## **Xây dựng và huấn luyện mô hình**"
      ]
    },
    {
      "cell_type": "code",
      "execution_count": null,
      "metadata": {
        "id": "IpqAwKQmtDuT"
      },
      "outputs": [],
      "source": [
        "# Hàm sigmoid\n",
        "def g(z):\n",
        "  z = np.float64(z)\n",
        "  return np.exp(z)/(1+np.exp(z))\n",
        "# Hàm xác suất dự đoán\n",
        "def predict_prob(X,w):\n",
        "  z=np.dot(X,w)\n",
        "  a = g(z)\n",
        "  return a\n",
        "# Hàm dự đoán binary\n",
        "def predict(X,w):\n",
        "  y_hat = predict_prob(X,w)\n",
        "  y_hat[y_hat >=0.5] = 1\n",
        "  y_hat[y_hat <0.5] = 0\n",
        "  return y_hat\n",
        "# Hàm loss\n",
        "def loss(X,y,w):\n",
        "  y_hat = predict_prob(X,w)\n",
        "  theta=1e-4\n",
        "  l = y*np.log(y_hat+theta) + (1-y)*np.log(1-y_hat+theta)\n",
        "  return -np.mean(l)\n",
        "# Hàm grad\n",
        "def grad(X,y,w):\n",
        "  y_hat = predict_prob(X,w)\n",
        "  delta = y_hat - y\n",
        "  dw = np.dot(X.T,delta)\n",
        "  return dw\n",
        "# Hàm gradient descent\n",
        "def gradient_descent(X,y,lr = 1e-7, epochs = 1000):\n",
        "  w = np.zeros((X.shape[1],1))\n",
        "  losses = []\n",
        "  for i in range(epochs):\n",
        "    dw = grad(X,y,w)\n",
        "    w -= lr*dw\n",
        "    a = loss(X,y,w)\n",
        "    losses.append(a)\n",
        "  return losses,w"
      ]
    },
    {
      "cell_type": "markdown",
      "metadata": {
        "id": "gNw5UnIpo46C"
      },
      "source": [
        "## **Vẽ đồ thị hàm loss ban đầu**"
      ]
    },
    {
      "cell_type": "code",
      "execution_count": null,
      "metadata": {
        "id": "ExL9EJN-t-BR"
      },
      "outputs": [],
      "source": [
        "loss,w = gradient_descent(X_train_scaled,np.array([y_train_scaled]).T)"
      ]
    },
    {
      "cell_type": "code",
      "execution_count": null,
      "metadata": {
        "colab": {
          "base_uri": "https://localhost:8080/",
          "height": 470
        },
        "id": "QVOdk3IbsIsq",
        "outputId": "a373c502-b5bf-474d-8519-65ca07cbda73"
      },
      "outputs": [
        {
          "data": {
            "text/plain": [
              "Text(0, 0.5, 'loss')"
            ]
          },
          "execution_count": 72,
          "metadata": {},
          "output_type": "execute_result"
        },
        {
          "data": {
            "image/png": "[encoded data removed]",
            "text/plain": [
              "<Figure size 640x480 with 1 Axes>"
            ]
          },
          "metadata": {},
          "output_type": "display_data"
        }
      ],
      "source": [
        "plt.plot(loss)\n",
        "plt.xlabel(\"epochs\")\n",
        "plt.ylabel(\"loss\")"
      ]
    },
    {
      "cell_type": "code",
      "source": [
        "print(f\"Final loss: {loss[-1]}\")"
      ],
      "metadata": {
        "colab": {
          "base_uri": "https://localhost:8080/"
        },
        "id": "jqK_aN2wuIZr",
        "outputId": "370deb1b-9199-45f9-c642-eaf5ba3d57a5"
      },
      "execution_count": 117,
      "outputs": [
        {
          "output_type": "stream",
          "name": "stdout",
          "text": [
            "Final loss: 0.4909951632320063\n"
          ]
        }
      ]
    },
    {
      "cell_type": "code",
      "execution_count": null,
      "metadata": {
        "id": "0467oS_Kwmsh"
      },
      "outputs": [],
      "source": [
        "# Tính y dự đoán\n",
        "y_hat = predict(X_test_scaled,w)"
      ]
    },
    {
      "cell_type": "markdown",
      "metadata": {
        "id": "Wrb0nA-ZpAA3"
      },
      "source": [
        "## **Hàm dự đoán**"
      ]
    },
    {
      "cell_type": "code",
      "execution_count": null,
      "metadata": {
        "id": "1IS558gOyDw6"
      },
      "outputs": [],
      "source": [
        "def evaluation(y_true, y_pred):\n",
        "    tp = tn = fp = fn = 0 \n",
        "    # So sánh y_true và y_pred\n",
        "    for i in range(len(y_true)):\n",
        "        if y_true[i] == 1 and y_pred[i] == 1: \n",
        "            tp += 1 \n",
        "        elif y_true[i] == 0 and y_pred[i] == 0: \n",
        "            tn += 1 \n",
        "        elif y_true[i] == 0 and y_pred[i] == 1: \n",
        "            fp += 1 \n",
        "        elif y_true[i] == 1 and y_pred[i] == 0: \n",
        "            fn += 1 \n",
        "    \n",
        "    accuracy = (tp+tn)/(tp+tn+fp+fn)\n",
        "    precision = (tp)/(tp+fp)\n",
        "    recall = (tp)/(tp+fn)\n",
        "    f1_score = 2*precision*recall/(precision+recall)\n",
        "    # Tính true positive, true negative, false positive, false negative\n",
        "    print(f\"tp = {tp}, tn = {tn}, fp = {fp}, fn = {fn}\")\n",
        "    # Tính Accuracy, Precision, Recall, F1 score\n",
        "    print(f\"Accuracy = {accuracy}\")\n",
        "    print(f\"Precision = {precision}\")\n",
        "    print(f\"Recall = {recall}\")\n",
        "    print(f\"F1 Score = {f1_score}\")"
      ]
    },
    {
      "cell_type": "markdown",
      "metadata": {
        "id": "GxAggdSppJEN"
      },
      "source": [
        "## **Đánh giá accuracy, recall, precision, f1-score**"
      ]
    },
    {
      "cell_type": "code",
      "execution_count": null,
      "metadata": {
        "colab": {
          "base_uri": "https://localhost:8080/"
        },
        "id": "OrHOb8LRyFVa",
        "outputId": "faec7369-ff6b-43ee-8acb-05c08142b304"
      },
      "outputs": [
        {
          "name": "stdout",
          "output_type": "stream",
          "text": [
            "tp = 4491, tn = 4615, fp = 1226, fn = 1317\n",
            "Accuracy = 0.7816979998283115\n",
            "Precision = 0.785551862865139\n",
            "Recall = 0.7732438016528925\n",
            "F1 Score = 0.779349240780911\n"
          ]
        }
      ],
      "source": [
        "evaluation(y_test, y_hat)"
      ]
    },
    {
      "cell_type": "markdown",
      "metadata": {
        "id": "KBWiprz2qWER"
      },
      "source": [
        "# **Ứng dụng phương pháp regularization L2 vào mô hình**"
      ]
    },
    {
      "cell_type": "code",
      "execution_count": 112,
      "metadata": {
        "id": "RSD1pCOeoikb"
      },
      "outputs": [],
      "source": [
        "# Hàm sigmoid\n",
        "def g(z):\n",
        "    z = np.float64(z)\n",
        "    return np.exp(z)/(1+np.exp(z))\n",
        "# Hàm xác suất dự đoán\n",
        "def predict_prob(X, w):\n",
        "    z = np.dot(X, w)\n",
        "    a = g(z)\n",
        "    return a\n",
        "# Hàm dự đoán binary\n",
        "def predict(X, w):\n",
        "    y_hat = predict_prob(X, w)\n",
        "    y_hat[y_hat >= 0.5] = 1\n",
        "    y_hat[y_hat < 0.5] = 0\n",
        "    return y_hat\n",
        "# Hàm loss, có bổ sung L2 regularization\n",
        "def loss(X, y, w, lambda_):\n",
        "    y_hat = predict_prob(X, w)\n",
        "    theta = 1e-4\n",
        "    l = y*np.log(y_hat+theta) + (1-y)*np.log(1-y_hat+theta)\n",
        "    l2 = lambda_ * np.sum(w**2)\n",
        "    return -np.mean(l) + l2/(2*X.shape[0])\n",
        "# Hàm gradient, có bổ sung L2 regularization\n",
        "def grad(X, y, w, lambda_):\n",
        "    y_hat = predict_prob(X, w)\n",
        "    delta = y_hat - y\n",
        "    dw = np.dot(X.T, delta)\n",
        "    return dw\n",
        "# Hàm gradient descent\n",
        "def gradient_descent(X, y, lr=1e-7, epochs=1000, lambda_=1e-2):\n",
        "    w = np.zeros((X.shape[1], 1))\n",
        "    losses = []\n",
        "    for i in range(epochs):\n",
        "        dw = grad(X, y, w, lambda_)\n",
        "        w -= lr * dw\n",
        "        a = loss(X, y, w, lambda_)\n",
        "        losses.append(a)\n",
        "    return losses, w"
      ]
    },
    {
      "cell_type": "markdown",
      "metadata": {
        "id": "JYkfCivQv7Vt"
      },
      "source": [
        "## **Vẽ đồ thị Loss mới**"
      ]
    },
    {
      "cell_type": "code",
      "execution_count": 113,
      "metadata": {
        "id": "p-fLOFADY2MX"
      },
      "outputs": [],
      "source": [
        "loss,w = gradient_descent(X_train_scaled,np.array([y_train_scaled]).T)"
      ]
    },
    {
      "cell_type": "code",
      "execution_count": null,
      "metadata": {
        "colab": {
          "background_save": true
        },
        "id": "3uB0ZnQ2t-Aa",
        "outputId": "7c72c17e-f49c-41cb-a542-5e64b8c19ce7"
      },
      "outputs": [
        {
          "data": {
            "text/plain": [
              "Text(0, 0.5, 'loss')"
            ]
          },
          "execution_count": 78,
          "metadata": {},
          "output_type": "execute_result"
        },
        {
          "data": {
            "image/png": "[encoded data removed]",
            "text/plain": [
              "<Figure size 640x480 with 1 Axes>"
            ]
          },
          "metadata": {},
          "output_type": "display_data"
        }
      ],
      "source": [
        "plt.plot(loss)\n",
        "plt.xlabel(\"epochs\")\n",
        "plt.ylabel(\"loss\")"
      ]
    },
    {
      "cell_type": "code",
      "source": [
        "print(f\"Final loss: {loss[-1]}\")"
      ],
      "metadata": {
        "colab": {
          "base_uri": "https://localhost:8080/"
        },
        "id": "fXNo2OsbsYLN",
        "outputId": "3ecb6ca4-cf08-42e9-ed1e-9d704b26363d"
      },
      "execution_count": 123,
      "outputs": [
        {
          "output_type": "stream",
          "name": "stdout",
          "text": [
            "Final loss: 0.4909951632320063\n"
          ]
        }
      ]
    },
    {
      "cell_type": "code",
      "execution_count": 124,
      "metadata": {
        "id": "a8Y9lqhwAxvX"
      },
      "outputs": [],
      "source": [
        "# Tính y dự đoán\n",
        "y_hat = predict(X_test_scaled,w)"
      ]
    },
    {
      "cell_type": "markdown",
      "metadata": {
        "id": "ZrZb-z0zZ25B"
      },
      "source": [
        "### **Tính Accuracy, recall, precision, f1-score**"
      ]
    },
    {
      "cell_type": "code",
      "execution_count": 129,
      "metadata": {
        "colab": {
          "base_uri": "https://localhost:8080/"
        },
        "id": "k5cHDTz8RAFm",
        "outputId": "5c2969fa-a456-4d90-8feb-7185d8f69631"
      },
      "outputs": [
        {
          "output_type": "stream",
          "name": "stdout",
          "text": [
            "tp = 4491, tn = 4615, fp = 1226, fn = 1317\n",
            "Accuracy = 0.7816979998283115\n",
            "Precision = 0.785551862865139\n",
            "Recall = 0.7732438016528925\n",
            "F1 Score = 0.779349240780911\n"
          ]
        }
      ],
      "source": [
        "evaluation(y_test, y_hat)"
      ]
    },
    {
      "cell_type": "markdown",
      "metadata": {
        "id": "-Elb8-EcZsFg"
      },
      "source": [
        "## **Vẽ confusion matrix dùng thư viện sklearn**\n"
      ]
    },
    {
      "cell_type": "code",
      "execution_count": null,
      "metadata": {
        "colab": {
          "background_save": true
        },
        "id": "4qkyvIRnY1f9",
        "outputId": "df5a4493-6863-48d6-c800-68a8749e4258"
      },
      "outputs": [
        {
          "data": {
            "image/png": "[encoded data removed]",
            "text/plain": [
              "<Figure size 640x480 with 2 Axes>"
            ]
          },
          "metadata": {},
          "output_type": "display_data"
        }
      ],
      "source": [
        "import sklearn.metrics\n",
        "\n",
        "# Tạo confusion matrix\n",
        "cm = sklearn.metrics.confusion_matrix(y_test, y_hat)\n",
        "\n",
        "# Vẽ confusion matrix\n",
        "plt.figure()\n",
        "sn.heatmap(cm, annot=True, fmt='d', cmap='Blues')\n",
        "plt.title('Confusion Matrix')\n",
        "plt.xlabel('Predicted')\n",
        "plt.ylabel('True')\n",
        "plt.show()"
      ]
    },
    {
      "cell_type": "markdown",
      "metadata": {
        "id": "tZI7KBOSw614"
      },
      "source": [
        "## **Code và thực thi hàm batch_generator tối ưu hàm loss**"
      ]
    },
    {
      "cell_type": "code",
      "execution_count": 97,
      "metadata": {
        "id": "yYwJtamUCFGP",
        "colab": {
          "base_uri": "https://localhost:8080/"
        },
        "outputId": "e47e84d5-99b2-40c0-9d38-3b2ec9196116"
      },
      "outputs": [
        {
          "output_type": "stream",
          "name": "stdout",
          "text": [
            "Final loss: 0.4911840690638267\n"
          ]
        }
      ],
      "source": [
        "def batch_generator(X, y, batch_size):\n",
        "    # Chia nhiều batches để huấn luyện\n",
        "    idx = np.arange(X.shape[0])\n",
        "    np.random.shuffle(idx)\n",
        "\n",
        "    n_batch = len(idx) // batch_size\n",
        "    for i in range(n_batch):\n",
        "        i_start = i * batch_size\n",
        "        i_stop = min((i + 1) * batch_size, len(idx))\n",
        "        yield X[idx[i_start:i_stop], :], y[idx[i_start:i_stop],:]\n",
        "\n",
        "# Hàm sigmoid\n",
        "def g(z):\n",
        "    z = np.float64(z)\n",
        "    return np.exp(z) / (1 + np.exp(z))\n",
        "\n",
        "# Hàm xác suất dự đoán\n",
        "def predict_prob(X, w):\n",
        "    z = np.dot(X, w)\n",
        "    a = g(z)\n",
        "    return a\n",
        "\n",
        "# Hàm dự đoán binary\n",
        "def predict(X, w):\n",
        "    y_hat = predict_prob(X, w)\n",
        "    y_hat[y_hat >= 0.5] = 1\n",
        "    y_hat[y_hat < 0.5] = 0\n",
        "    return y_hat\n",
        "\n",
        "# Hàm loss, có bổ sung L2 regularization\n",
        "def loss(X, y, w, lambda_):\n",
        "    y_hat = predict_prob(X, w)\n",
        "    theta = 1e-5\n",
        "    l = y*np.log(y_hat+theta) + (1-y)*np.log(1-y_hat+theta)\n",
        "    l2 = lambda_ * np.sum(w**2)\n",
        "    return -np.mean(l) + l2/(2*X.shape[0])\n",
        "\n",
        "# Hàm gradient, có bổ sung L2 regularization\n",
        "def grad(X, y, w, lambda_):\n",
        "    y_hat = predict_prob(X, w)\n",
        "    delta = y_hat - y\n",
        "    dw = np.dot(X.T, delta)\n",
        "    return dw\n",
        "\n",
        "# Hàm gradient descent\n",
        "def gradient_descent(X, y, lr=1e-6, epochs=1000, lambda_=1e-2):\n",
        "    w = np.zeros((X.shape[1], 1))\n",
        "    losses = []\n",
        "    for i in range(epochs):\n",
        "        for X_batch, y_batch in batch_generator(X, y, batch_size):\n",
        "            dw = grad(X_batch, y_batch, w, lambda_)\n",
        "            w -= lr * dw\n",
        "        a = loss(X, y, w, lambda_)\n",
        "        losses.append(a)\n",
        "        # print(losses[-1])\n",
        "    return losses, w\n",
        "\n",
        "batch_size = 50\n",
        "lr = 1e-7\n",
        "epochs =1000\n",
        "lambda_ = 1e-5\n",
        "losses, weight = gradient_descent(X_train_scaled, np.array([y_train_scaled]).T, lr, epochs, lambda_)\n",
        "\n",
        "print(\"Final loss:\", losses[-1])\n"
      ]
    },
    {
      "cell_type": "code",
      "execution_count": 126,
      "metadata": {
        "id": "lrLYKklhCHTU",
        "colab": {
          "base_uri": "https://localhost:8080/",
          "height": 469
        },
        "outputId": "da24807d-bbec-4953-de6e-1d3dd630e696"
      },
      "outputs": [
        {
          "output_type": "execute_result",
          "data": {
            "text/plain": [
              "Text(0, 0.5, 'loss')"
            ]
          },
          "metadata": {},
          "execution_count": 126
        },
        {
          "output_type": "display_data",
          "data": {
            "text/plain": [
              "<Figure size 640x480 with 1 Axes>"
            ],
            "image/png": "[encoded data removed]"
          },
          "metadata": {}
        }
      ],
      "source": [
        "plt.plot(losses)\n",
        "plt.xlabel(\"epoch\")\n",
        "plt.ylabel(\"loss\")"
      ]
    },
    {
      "cell_type": "code",
      "source": [
        "y_pred = predict(X_test_scaled,weight)"
      ],
      "metadata": {
        "id": "uw80BGmGr4O5"
      },
      "execution_count": 127,
      "outputs": []
    },
    {
      "cell_type": "code",
      "source": [
        "evaluation(y_test_scaled,y_pred)"
      ],
      "metadata": {
        "colab": {
          "base_uri": "https://localhost:8080/"
        },
        "id": "qX98zIhysLDx",
        "outputId": "302e9a89-7daa-4513-e7e1-95afd0560181"
      },
      "execution_count": 128,
      "outputs": [
        {
          "output_type": "stream",
          "name": "stdout",
          "text": [
            "tp = 4491, tn = 4615, fp = 1226, fn = 1317\n",
            "Accuracy = 0.7816979998283115\n",
            "Precision = 0.785551862865139\n",
            "Recall = 0.7732438016528925\n",
            "F1 Score = 0.779349240780911\n"
          ]
        }
      ]
    },
    {
      "cell_type": "markdown",
      "source": [
        "# **Hàm binary1 bổ sung bias**"
      ],
      "metadata": {
        "id": "8oXQ7aKBumPG"
      }
    },
    {
      "cell_type": "code",
      "execution_count": 102,
      "metadata": {
        "id": "XJqSrTOpQM4z"
      },
      "outputs": [],
      "source": [
        "class binary1:\n",
        "    def __init__(self, lr = 1e-6, epochs = 1000):\n",
        "        self.lr = lr\n",
        "        self.epochs = epochs\n",
        "    # Hàm thêm bias vào tập X\n",
        "    def addBias(self,X):\n",
        "        bias = np.ones((X.shape[0],1))\n",
        "        X = np.hstack((bias,X));\n",
        "        return X\n",
        "    # Hàm sigmoid\n",
        "    def g(z):\n",
        "        z = np.float64(z)\n",
        "        return np.exp(z)/(1+np.exp(z))\n",
        "    # Hàm xác suất dự đoán\n",
        "    def predict_prob(self,X, w):\n",
        "        z = np.dot(X, w)\n",
        "        a = g(z)\n",
        "        return a\n",
        "    # Hàm dự đoán binary\n",
        "    def predict(self,X, w):\n",
        "        y_hat = self.predict_prob(X, w)\n",
        "        y_hat[y_hat >= 0.5] = 1\n",
        "        y_hat[y_hat < 0.5] = 0\n",
        "        return y_hat\n",
        "    # Hàm loss\n",
        "    def loss(self,X, y, w, lambda_):\n",
        "        y_hat = self.predict_prob(X, w)\n",
        "        theta = 1e-4\n",
        "        l = y*np.log(y_hat+theta) + (1-y)*np.log(1-y_hat+theta)\n",
        "        return -np.mean(l)\n",
        "    # Hàm gradient\n",
        "    def grad(self,X, y, w, lambda_):\n",
        "        y_hat = self.predict_prob(X, w)\n",
        "        delta = y_hat - y\n",
        "        dw = np.dot(X.T, delta)\n",
        "        return dw\n",
        "    # Hàm gradient descent\n",
        "    def gradient_descent(self,X, y, lr=1e-7, epochs=1000, lambda_=0.01):\n",
        "        w = np.zeros((X.shape[1], 1))\n",
        "        losses = []\n",
        "        for i in range(epochs):\n",
        "            dw = self.grad(X, y, w, lambda_)\n",
        "            w -= lr * dw\n",
        "            a = self.loss(X, y, w, lambda_)\n",
        "            losses.append(a)\n",
        "        return losses, w"
      ]
    },
    {
      "cell_type": "code",
      "source": [
        "model = binary1()\n",
        "X_train_scaled_bias = model.addBias(X_train_scaled)\n",
        "X_test_scaled_bias = model.addBias(X_test_scaled)\n",
        "loss,w = model.gradient_descent(X_train_scaled_bias,np.array([y_train_scaled]).T)"
      ],
      "metadata": {
        "id": "guPGFT78laJd"
      },
      "execution_count": 103,
      "outputs": []
    },
    {
      "cell_type": "code",
      "source": [
        "plt.xlabel(\"epochs\")\n",
        "plt.ylabel(\"loss\")\n",
        "plt.plot(loss)"
      ],
      "metadata": {
        "colab": {
          "base_uri": "https://localhost:8080/",
          "height": 470
        },
        "id": "tr_zBUKupdz6",
        "outputId": "4379b067-3e1f-4561-c55b-379d6e2e8a86"
      },
      "execution_count": 104,
      "outputs": [
        {
          "output_type": "execute_result",
          "data": {
            "text/plain": [
              "[<matplotlib.lines.Line2D at 0x7eff668d6c70>]"
            ]
          },
          "metadata": {},
          "execution_count": 104
        },
        {
          "output_type": "display_data",
          "data": {
            "text/plain": [
              "<Figure size 640x480 with 1 Axes>"
            ],
            "image/png": "[encoded data removed]"
          },
          "metadata": {}
        }
      ]
    },
    {
      "cell_type": "code",
      "source": [
        "print(f\"Final loss: {loss[-1]}\")"
      ],
      "metadata": {
        "colab": {
          "base_uri": "https://localhost:8080/"
        },
        "id": "ah94EC0XpjSX",
        "outputId": "b7e88588-1cfd-4d3d-a2ca-3b58b2ca1b8e"
      },
      "execution_count": 105,
      "outputs": [
        {
          "output_type": "stream",
          "name": "stdout",
          "text": [
            "Final loss: 0.49053260160519135\n"
          ]
        }
      ]
    },
    {
      "cell_type": "markdown",
      "source": [
        "# **Đánh giá mô hình sau khi thêm bias**"
      ],
      "metadata": {
        "id": "Ycz2qxBbuu5N"
      }
    },
    {
      "cell_type": "code",
      "source": [
        "y_pred = model.predict(X_test_scaled_bias,w)"
      ],
      "metadata": {
        "id": "SAV-uErpplC4"
      },
      "execution_count": 106,
      "outputs": []
    },
    {
      "cell_type": "code",
      "source": [
        "evaluation(y_test_scaled,y_pred)"
      ],
      "metadata": {
        "colab": {
          "base_uri": "https://localhost:8080/"
        },
        "id": "S3cnIrm1pmfB",
        "outputId": "4d97666b-23ac-4a79-8022-7e39cc346a24"
      },
      "execution_count": 107,
      "outputs": [
        {
          "output_type": "stream",
          "name": "stdout",
          "text": [
            "tp = 4495, tn = 4625, fp = 1216, fn = 1313\n",
            "Accuracy = 0.7828998197270152\n",
            "Precision = 0.7870775696025214\n",
            "Recall = 0.7739325068870524\n",
            "F1 Score = 0.7804496918135254\n"
          ]
        }
      ]
    }
  ],
  "metadata": {
    "colab": {
      "provenance": []
    },
    "kernelspec": {
      "display_name": "Python 3",
      "name": "python3"
    },
    "language_info": {
      "name": "python"
    }
  },
  "nbformat": 4,
  "nbformat_minor": 0
}