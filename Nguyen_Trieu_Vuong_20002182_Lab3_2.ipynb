{
  "cells": [
    {
      "cell_type": "code",
      "execution_count": 4,
      "metadata": {
        "id": "IvQducYseL-1"
      },
      "outputs": [],
      "source": [
        "import math\n",
        "import numpy as np\n",
        "import pandas as pd\n",
        "from matplotlib import pyplot as plt"
      ]
    },
    {
      "cell_type": "code",
      "execution_count": 5,
      "metadata": {
        "colab": {
          "base_uri": "https://localhost:8080/",
          "height": 206
        },
        "id": "ZlC7ec6xf3V1",
        "outputId": "d8f3225a-7a34-490c-97ef-756a216d7f5f"
      },
      "outputs": [
        {
          "data": {
            "text/html": [
              "<div>\n",
              "<style scoped>\n",
              "    .dataframe tbody tr th:only-of-type {\n",
              "        vertical-align: middle;\n",
              "    }\n",
              "\n",
              "    .dataframe tbody tr th {\n",
              "        vertical-align: top;\n",
              "    }\n",
              "\n",
              "    .dataframe thead th {\n",
              "        text-align: right;\n",
              "    }\n",
              "</style>\n",
              "<table border=\"1\" class=\"dataframe\">\n",
              "  <thead>\n",
              "    <tr style=\"text-align: right;\">\n",
              "      <th></th>\n",
              "      <th>label</th>\n",
              "      <th>message</th>\n",
              "      <th>length</th>\n",
              "      <th>punct</th>\n",
              "    </tr>\n",
              "  </thead>\n",
              "  <tbody>\n",
              "    <tr>\n",
              "      <th>0</th>\n",
              "      <td>ham</td>\n",
              "      <td>Go until jurong point, crazy.. Available only ...</td>\n",
              "      <td>111</td>\n",
              "      <td>9</td>\n",
              "    </tr>\n",
              "    <tr>\n",
              "      <th>1</th>\n",
              "      <td>ham</td>\n",
              "      <td>Ok lar... Joking wif u oni...</td>\n",
              "      <td>29</td>\n",
              "      <td>6</td>\n",
              "    </tr>\n",
              "    <tr>\n",
              "      <th>2</th>\n",
              "      <td>spam</td>\n",
              "      <td>Free entry in 2 a wkly comp to win FA Cup fina...</td>\n",
              "      <td>155</td>\n",
              "      <td>6</td>\n",
              "    </tr>\n",
              "    <tr>\n",
              "      <th>3</th>\n",
              "      <td>ham</td>\n",
              "      <td>U dun say so early hor... U c already then say...</td>\n",
              "      <td>49</td>\n",
              "      <td>6</td>\n",
              "    </tr>\n",
              "    <tr>\n",
              "      <th>4</th>\n",
              "      <td>ham</td>\n",
              "      <td>Nah I don't think he goes to usf, he lives aro...</td>\n",
              "      <td>61</td>\n",
              "      <td>2</td>\n",
              "    </tr>\n",
              "  </tbody>\n",
              "</table>\n",
              "</div>"
            ],
            "text/plain": [
              "  label                                            message  length  punct\n",
              "0   ham  Go until jurong point, crazy.. Available only ...     111      9\n",
              "1   ham                      Ok lar... Joking wif u oni...      29      6\n",
              "2  spam  Free entry in 2 a wkly comp to win FA Cup fina...     155      6\n",
              "3   ham  U dun say so early hor... U c already then say...      49      6\n",
              "4   ham  Nah I don't think he goes to usf, he lives aro...      61      2"
            ]
          },
          "execution_count": 5,
          "metadata": {},
          "output_type": "execute_result"
        }
      ],
      "source": [
        "data = pd.read_csv(\"E:/Python/smsspamcollection.tsv\", sep=\"\\t\")\n",
        "data.head()"
      ]
    },
    {
      "cell_type": "code",
      "execution_count": 6,
      "metadata": {
        "colab": {
          "base_uri": "https://localhost:8080/"
        },
        "id": "YtjK1V3cgFUI",
        "outputId": "a691ad98-d737-40f6-d8f8-df686511f80f"
      },
      "outputs": [
        {
          "data": {
            "text/plain": [
              "label      0\n",
              "message    0\n",
              "length     0\n",
              "punct      0\n",
              "dtype: int64"
            ]
          },
          "execution_count": 6,
          "metadata": {},
          "output_type": "execute_result"
        }
      ],
      "source": [
        "data.isnull().sum()"
      ]
    },
    {
      "cell_type": "code",
      "execution_count": 7,
      "metadata": {
        "colab": {
          "base_uri": "https://localhost:8080/"
        },
        "id": "YHD13TzRgm_e",
        "outputId": "8e5f1104-e638-4255-96c3-6b96d1bbd94f"
      },
      "outputs": [
        {
          "name": "stdout",
          "output_type": "stream",
          "text": [
            "(965, 4)\n",
            "(3860, 4)\n",
            "(149, 4)\n",
            "(598, 4)\n"
          ]
        }
      ],
      "source": [
        "# train_test split\n",
        "df_ham = data[data.label == \"ham\"]\n",
        "test_ham = df_ham.sample(frac = 0.2, random_state = 0)\n",
        "print(test_ham.shape)\n",
        "train_ham = df_ham.drop(test_ham.index)\n",
        "print(train_ham.shape)\n",
        "\n",
        "df_spam = data[data.label == \"spam\"]\n",
        "test_spam = df_spam.sample(frac = 0.2, random_state = 0)\n",
        "print(test_spam.shape)\n",
        "train_spam = df_spam.drop(test_spam.index)\n",
        "print(train_spam.shape)"
      ]
    },
    {
      "cell_type": "code",
      "execution_count": 8,
      "metadata": {
        "colab": {
          "base_uri": "https://localhost:8080/"
        },
        "id": "P8sO1Znkhhgx",
        "outputId": "1e479241-098b-4a72-8cbe-7702e6808672"
      },
      "outputs": [
        {
          "name": "stdout",
          "output_type": "stream",
          "text": [
            "(4458, 4)\n",
            "(1114, 4)\n"
          ]
        }
      ],
      "source": [
        "train_df = pd.concat((train_spam, train_ham))\n",
        "print(train_df.shape)\n",
        "\n",
        "test_df = pd.concat((test_spam, test_ham))\n",
        "print(test_df.shape)"
      ]
    },
    {
      "cell_type": "code",
      "execution_count": 9,
      "metadata": {
        "id": "LIe9bBUYhhat"
      },
      "outputs": [],
      "source": [
        "# text feature -> bag of word\n",
        "\n",
        "# vocab = unique words\n",
        "vocab = []\n",
        "\n",
        "# using text processing: tokenization\n",
        "for msg in train_df.message.values:\n",
        "  for t in msg.lower().split():\n",
        "    if t not in vocab:\n",
        "      vocab.append(t)"
      ]
    },
    {
      "cell_type": "code",
      "execution_count": 10,
      "metadata": {
        "colab": {
          "base_uri": "https://localhost:8080/"
        },
        "id": "3AChLhyuiahO",
        "outputId": "c9f393b6-b20e-4958-9828-1cfd7621397d"
      },
      "outputs": [
        {
          "data": {
            "text/plain": [
              "(4458, 11970)"
            ]
          },
          "execution_count": 10,
          "metadata": {},
          "output_type": "execute_result"
        }
      ],
      "source": [
        "# count vectorization\n",
        "vocab_size = len(vocab)\n",
        "word2idx = {t: i for i, t in enumerate(vocab)}\n",
        "X_train = np.zeros((train_df.shape[0], vocab_size))\n",
        "\n",
        "for i, msg in enumerate(train_df.message.values):\n",
        "  for t in msg.lower().split():\n",
        "    if t in vocab:\n",
        "      X_train[i,word2idx[t]]+=1\n",
        "X_train.shape"
      ]
    },
    {
      "cell_type": "code",
      "execution_count": 11,
      "metadata": {
        "colab": {
          "base_uri": "https://localhost:8080/"
        },
        "id": "VwCWu4BbjLQN",
        "outputId": "548bf462-5d71-4c39-a454-7d24133d3b00"
      },
      "outputs": [
        {
          "data": {
            "text/plain": [
              "(1114, 11970)"
            ]
          },
          "execution_count": 11,
          "metadata": {},
          "output_type": "execute_result"
        }
      ],
      "source": [
        "X_test = np.zeros((test_df.shape[0], vocab_size))\n",
        "\n",
        "for i, msg in enumerate(test_df.message.values):\n",
        "  for t in msg.lower().split():\n",
        "    if t in vocab:\n",
        "      X_test[i,word2idx[t]]+=1\n",
        "X_test.shape"
      ]
    },
    {
      "cell_type": "code",
      "execution_count": 12,
      "metadata": {
        "id": "KVYn1PhWkXwu"
      },
      "outputs": [],
      "source": [
        "X_max = X_train.max(axis=0, keepdims=True)\n",
        "X_min = X_train.min(axis=0, keepdims=True)\n",
        "X_train_scaled = (X_train - X_min)/(X_max - X_min)\n",
        "X_test_scaled = (X_test - X_min)/(X_max - X_min)"
      ]
    },
    {
      "cell_type": "code",
      "execution_count": 13,
      "metadata": {
        "colab": {
          "base_uri": "https://localhost:8080/"
        },
        "id": "yBylsqgPkqKq",
        "outputId": "55b7404a-6add-466f-9fdf-19efeb7d3d55"
      },
      "outputs": [
        {
          "name": "stdout",
          "output_type": "stream",
          "text": [
            "(4458, 1) (1114, 1)\n"
          ]
        }
      ],
      "source": [
        "y_train = train_df.loc[:,[\"label\"]].values\n",
        "y_test = test_df.loc[:,[\"label\"]].values\n",
        "print(y_train.shape,y_test.shape)"
      ]
    },
    {
      "cell_type": "code",
      "execution_count": 14,
      "metadata": {
        "colab": {
          "base_uri": "https://localhost:8080/"
        },
        "id": "SKAxaCB_k-bG",
        "outputId": "cd16e9cd-260b-4baa-dd2e-97dabbf87b9b"
      },
      "outputs": [
        {
          "data": {
            "text/plain": [
              "array([[0],\n",
              "       [0],\n",
              "       [0],\n",
              "       ...,\n",
              "       [1],\n",
              "       [1],\n",
              "       [1]])"
            ]
          },
          "execution_count": 14,
          "metadata": {},
          "output_type": "execute_result"
        }
      ],
      "source": [
        "y_train_new = np.where(y_train == 'spam',0,1)\n",
        "y_test_new = np.where(y_test == 'spam',0,1)\n",
        "y_train_new"
      ]
    },
    {
      "cell_type": "code",
      "execution_count": 15,
      "metadata": {
        "id": "WqUmJA5XbUx-"
      },
      "outputs": [],
      "source": [
        "import numpy as np\n",
        "\n",
        "class LogisticRegression1:\n",
        "    def __init__(self, learning_rate=0.02, num_iterations=1000, fit_intercept=True):\n",
        "        self.learning_rate = learning_rate\n",
        "        self.num_iterations = num_iterations\n",
        "        self.fit_intercept = fit_intercept\n",
        "    \n",
        "    def __add_intercept(self, X):\n",
        "        intercept = np.ones((X.shape[0], 1))\n",
        "        return np.concatenate((intercept, X), axis=1)\n",
        "    \n",
        "    def __sigmoid(self, z):\n",
        "        return 1 / (1 + np.exp(-z))\n",
        "    \n",
        "    def __loss(self, h, y):\n",
        "        return (-y * np.log(h) - (1 - y) * np.log(1 - h)).mean()\n",
        "    \n",
        "    def fit(self, X, y):\n",
        "        if self.fit_intercept:\n",
        "            X = self.__add_intercept(X)\n",
        "        \n",
        "        # Khởi tạo các tham số\n",
        "        self.theta = np.zeros(X.shape[1])\n",
        "        \n",
        "        for i in range(self.num_iterations):\n",
        "            z = np.dot(X, self.theta)\n",
        "            h = self.__sigmoid(z)\n",
        "            gradient = np.dot(X.T, (h - y)) / y.size\n",
        "            self.theta -= self.learning_rate * gradient\n",
        "            \n",
        "            if(i % 10000 == 0):\n",
        "                z = np.dot(X, self.theta)\n",
        "                h = self.__sigmoid(z)\n",
        "                print(f'loss: {self.__loss(h, y)} \\t')\n",
        "    \n",
        "    def predict_prob(self, X):\n",
        "        if self.fit_intercept:\n",
        "            X = self.__add_intercept(X)\n",
        "    \n",
        "        return self.__sigmoid(np.dot(X, self.theta))\n",
        "    \n",
        "    def predict(self, X, threshold = 0.5):\n",
        "        y_pred = self.predict_prob(X)\n",
        "        y_pred[y_pred >=threshold] =1\n",
        "        y_pred[y_pred <threshold] =0\n",
        "        return y_pred"
      ]
    },
    {
      "cell_type": "code",
      "execution_count": 16,
      "metadata": {
        "colab": {
          "base_uri": "https://localhost:8080/"
        },
        "id": "DMC8rgJAbW0Z",
        "outputId": "99f16320-25fd-4720-883e-e7b5e1beb68a"
      },
      "outputs": [
        {
          "name": "stdout",
          "output_type": "stream",
          "text": [
            "loss: 0.6929659429853519 \t\n"
          ]
        }
      ],
      "source": [
        "model = LogisticRegression1(fit_intercept=False)\n",
        "model.fit(X_train_scaled, y_train_new[:,0])\n",
        "y_hat = model.predict(X_test_scaled)"
      ]
    },
    {
      "cell_type": "markdown",
      "metadata": {
        "id": "FtPhrF7suftB"
      },
      "source": [
        "## **Đánh giá mô hình: accuracy, recall, f1_score**"
      ]
    },
    {
      "cell_type": "code",
      "execution_count": 17,
      "metadata": {
        "id": "L9lm8vy8bYUp"
      },
      "outputs": [],
      "source": [
        "def evaluation(y_true, y_pred):\n",
        "    # y_true và y_pred là hai danh sách chứa nhãn thực tế và nhãn dự đoán của các mẫu\n",
        "    # Giả sử nhãn Positive là 1 và nhãn Negative là 0\n",
        "    tp = tn = fp = fn = 0 # Khởi tạo các biến đếm\n",
        "    for i in range(len(y_true)): # Duyệt qua từng cặp nhãn\n",
        "        if y_true[i] == 1 and y_pred[i] == 1: # Nếu cả hai nhãn đều là Positive\n",
        "            tp += 1 # Tăng biến tp lên 1\n",
        "        elif y_true[i] == 0 and y_pred[i] == 0: # Nếu cả hai nhãn đều là Negative\n",
        "            tn += 1 # Tăng biến tn lên 1\n",
        "        elif y_true[i] == 0 and y_pred[i] == 1: # Nếu nhãn thực tế là Negative nhưng nhãn dự đoán lại là Positive\n",
        "            fp += 1 # Tăng biến fp lên 1\n",
        "        elif y_true[i] == 1 and y_pred[i] == 0: # Trường hợp còn lại, tức là nhãn thực tế là Positive nhưng nhãn dự đoán lại là Negative\n",
        "            fn += 1 # Tăng biến fn lên 1\n",
        "    \n",
        "    accuracy = (tp+tn)/(tp+tn+fp+fn)\n",
        "    precision = (tp)/(tp+fp)\n",
        "    recall = (tp)/(tp+fn)\n",
        "    f1_score = 2*precision*recall/(precision+recall)\n",
        "    print(f\"Accuracy = {accuracy}\")\n",
        "    print(f\"Precision = {precision}\")\n",
        "    print(f\"Recall = {recall}\")\n",
        "    print(f\"F1 Score = {f1_score}\")"
      ]
    },
    {
      "cell_type": "code",
      "execution_count": 18,
      "metadata": {
        "colab": {
          "base_uri": "https://localhost:8080/"
        },
        "id": "iOQCnmtxbZnR",
        "outputId": "b92cac89-57bb-472b-dc3f-a615d2190dcb"
      },
      "outputs": [
        {
          "name": "stdout",
          "output_type": "stream",
          "text": [
            "Accuracy = 0.9254937163375224\n",
            "Precision = 0.9216061185468452\n",
            "Recall = 0.9989637305699481\n",
            "F1 Score = 0.9587270014917951\n"
          ]
        }
      ],
      "source": [
        "evaluation(y_test_new, y_hat)"
      ]
    },
    {
      "cell_type": "markdown",
      "metadata": {
        "id": "IGEtX8v0uk0m"
      },
      "source": [
        "## **Khởi tạo hàm batch_generator để chia nhỏ dữ liệu khi train trên từng epochs**"
      ]
    },
    {
      "cell_type": "code",
      "execution_count": 19,
      "metadata": {
        "id": "ffPk0d_Rba0p"
      },
      "outputs": [],
      "source": [
        "import numpy as np\n",
        "\n",
        "def batch_generator(X, y, batch_size):\n",
        "    \"\"\"\n",
        "    Hàm chia dữ liệu thành các batch để train trên từng epoch\n",
        "    \n",
        "    Arguments:\n",
        "    X -- ma trận đầu vào (m, n)\n",
        "    y -- ma trận đầu ra (m, 1)\n",
        "    batch_size -- kích thước mỗi batch\n",
        "    \n",
        "    Returns:\n",
        "    batches -- list chứa các batch được chia từ dữ liệu đầu vào\n",
        "    \"\"\"\n",
        "    \n",
        "    m = X.shape[0]  # số lượng mẫu dữ liệu\n",
        "    batches = []  # khởi tạo list chứa các batch\n",
        "    \n",
        "    # chia dữ liệu thành các batch\n",
        "    for i in range(0, m, batch_size):\n",
        "        X_batch = X[i:i+batch_size, :]\n",
        "        y_batch = y[i:i+batch_size]\n",
        "        batch = (X_batch, y_batch)\n",
        "        batches.append(batch)\n",
        "    \n",
        "    return batches\n"
      ]
    },
    {
      "cell_type": "markdown",
      "metadata": {
        "id": "eFx7Nr6LuyXu"
      },
      "source": [
        "## **Khởi tạo 1 class có tên là binary1, sử dụng các hàm ở trên và tích hợp trong class để huấn luyện mô hình. Đồng thời thêm hệ số bias. Đánh giá mô hình: accuracy, recall, f1_score**"
      ]
    },
    {
      "cell_type": "code",
      "execution_count": 20,
      "metadata": {
        "id": "6kiVVZMPbcfx"
      },
      "outputs": [],
      "source": [
        "# class binary1:\n",
        "#     def __init__(self, learning_rate=0.1, n_iters=1000):\n",
        "#         self.lr = learning_rate\n",
        "#         self.n_iters = n_iters\n",
        "#         self.weights = None\n",
        "#         self.bias = None\n",
        "\n",
        "#     def sigmoid(self, z):\n",
        "#         return 1 / (1 + np.exp(-z))\n",
        "\n",
        "#     def fit(self, X, y):\n",
        "#         n_samples, n_features = X.shape\n",
        "\n",
        "#         # init parameters\n",
        "#         self.weights = np.zeros(n_features)\n",
        "#         self.bias = 0\n",
        "\n",
        "#         # gradient descent\n",
        "#         for _ in range(self.n_iters):\n",
        "#             linear_model = np.dot(X, self.weights) + self.bias\n",
        "#             y_predicted = self.sigmoid(linear_model)\n",
        "\n",
        "#             # compute gradients\n",
        "#             dw = (1 / n_samples) * np.dot(X.T, (y_predicted - y))\n",
        "#             db = (1 / n_samples) * np.sum(y_predicted - y)\n",
        "\n",
        "#             # update parameters\n",
        "#             self.weights -= self.lr * dw\n",
        "#             self.bias -= self.lr * db\n",
        "\n",
        "#     def predict(self, X):\n",
        "#         linear_model = np.dot(X, self.weights) + self.bias\n",
        "#         y_predicted = self.sigmoid(linear_model)\n",
        "#         y_predicted_cls = [1 if i > 0.5 else 0 for i in y_predicted]\n",
        "#         return y_predicted_cls"
      ]
    },
    {
      "cell_type": "code",
      "execution_count": 21,
      "metadata": {},
      "outputs": [
        {
          "name": "stdout",
          "output_type": "stream",
          "text": [
            "[(array([[1., 2., 1., ..., 0., 0., 0.],\n",
            "       [0., 0., 0., ..., 0., 0., 0.],\n",
            "       [1., 0., 0., ..., 0., 0., 0.],\n",
            "       ...,\n",
            "       [0., 0., 1., ..., 1., 0., 0.],\n",
            "       [1., 0., 1., ..., 0., 1., 0.],\n",
            "       [0., 0., 0., ..., 0., 0., 1.]]), array([['spam'],\n",
            "       ['spam'],\n",
            "       ['spam'],\n",
            "       ...,\n",
            "       ['ham'],\n",
            "       ['ham'],\n",
            "       ['ham']], dtype=object))]\n"
          ]
        }
      ],
      "source": [
        "batch = batch_generator(X_train, y_train, 4458)\n",
        "print(batch)"
      ]
    },
    {
      "cell_type": "code",
      "execution_count": 22,
      "metadata": {},
      "outputs": [],
      "source": [
        "bias = np.ones((X_train.shape[0],1))\n",
        "X_train_scaled = np.hstack((bias,X_train_scaled));"
      ]
    },
    {
      "cell_type": "code",
      "execution_count": 23,
      "metadata": {},
      "outputs": [],
      "source": [
        "bias = np.ones((X_test.shape[0],1))\n",
        "X_test_scaled = np.hstack((bias,X_test_scaled));"
      ]
    },
    {
      "cell_type": "code",
      "execution_count": 24,
      "metadata": {},
      "outputs": [],
      "source": [
        "# sigmoid function\n",
        "g = lambda z : np.exp(z) / (1+np.exp(z))\n",
        "\n",
        "def predict_prob(X,w):\n",
        "  z = np.dot(X,w)\n",
        "  a = g(z)\n",
        "  return a\n",
        "def predict(X,w):\n",
        "  y_hat = predict_prob(X,w)\n",
        "  y_hat[y_hat >=0.5] =1\n",
        "  y_hat[y_hat <0.5] =0\n",
        "  return y_hat\n",
        "# loss function\n",
        "def loss(X,y,w):\n",
        "  y_hat = predict_prob(X,w)\n",
        "  l = y*np.log(y_hat) + (1-y)*np.log(1-y_hat)\n",
        "  return -np.mean(l)"
      ]
    },
    {
      "cell_type": "code",
      "execution_count": 25,
      "metadata": {},
      "outputs": [],
      "source": [
        "# gradient\n",
        "def grad(X,y,w):\n",
        "  y_hat = predict_prob(X,w)\n",
        "  delta = y_hat - y\n",
        "  dw = np.dot(X.T,delta)\n",
        "  return dw"
      ]
    },
    {
      "cell_type": "code",
      "execution_count": 26,
      "metadata": {},
      "outputs": [],
      "source": [
        "def gradient(X,y,lr = 1e-7, epochs = 2000):\n",
        "  w = np.zeros((X.shape[1],1))\n",
        "  losses = []\n",
        "  for i in range(epochs):\n",
        "    dw = grad(X,y,w)\n",
        "    w -= lr*dw\n",
        "    a = loss(X,y,w)\n",
        "    losses.append(a)\n",
        "  return losses,w"
      ]
    },
    {
      "cell_type": "code",
      "execution_count": 28,
      "metadata": {},
      "outputs": [
        {
          "data": {
            "text/plain": [
              "[<matplotlib.lines.Line2D at 0x24b62bc2d00>]"
            ]
          },
          "execution_count": 28,
          "metadata": {},
          "output_type": "execute_result"
        },
        {
          "data": {
            "image/png": "[encoded data removed]",
            "text/plain": [
              "<Figure size 640x480 with 1 Axes>"
            ]
          },
          "metadata": {},
          "output_type": "display_data"
        }
      ],
      "source": [
        "loss,w = gradient(X_train_scaled,y_train_new)\n",
        "plt.plot(loss)"
      ]
    },
    {
      "cell_type": "code",
      "execution_count": 29,
      "metadata": {},
      "outputs": [],
      "source": [
        "y_hat = predict(X_test_scaled,w)"
      ]
    },
    {
      "cell_type": "code",
      "execution_count": 30,
      "metadata": {
        "colab": {
          "base_uri": "https://localhost:8080/"
        },
        "id": "ifQX1oJQs1YB",
        "outputId": "30dd07e0-e96b-44c3-b570-87bba8c365c0"
      },
      "outputs": [
        {
          "name": "stdout",
          "output_type": "stream",
          "text": [
            "Accuracy = 0.8662477558348295\n",
            "Precision = 0.8662477558348295\n",
            "Recall = 1.0\n",
            "F1 Score = 0.9283309283309285\n"
          ]
        }
      ],
      "source": [
        "# model = binary1()\n",
        "# model.fit(X_train_scaled, y_train_new[:,0])\n",
        "# y_hat = model.predict(X_test_scaled)\n",
        "evaluation(y_test_new, y_hat)"
      ]
    }
  ],
  "metadata": {
    "colab": {
      "provenance": []
    },
    "kernelspec": {
      "display_name": "Python 3",
      "name": "python3"
    },
    "language_info": {
      "codemirror_mode": {
        "name": "ipython",
        "version": 3
      },
      "file_extension": ".py",
      "mimetype": "text/x-python",
      "name": "python",
      "nbconvert_exporter": "python",
      "pygments_lexer": "ipython3",
      "version": "3.9.11"
    }
  },
  "nbformat": 4,
  "nbformat_minor": 0
}
