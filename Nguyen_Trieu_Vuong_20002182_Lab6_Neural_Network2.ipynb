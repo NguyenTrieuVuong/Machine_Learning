{
  "nbformat": 4,
  "nbformat_minor": 0,
  "metadata": {
    "colab": {
      "provenance": []
    },
    "kernelspec": {
      "name": "python3",
      "display_name": "Python 3"
    },
    "language_info": {
      "name": "python"
    }
  },
  "cells": [
    {
      "cell_type": "markdown",
      "source": [
        "## **Activity 1. Warmup**"
      ],
      "metadata": {
        "id": "50wv9CttRv_w"
      }
    },
    {
      "cell_type": "markdown",
      "source": [
        "**Import thư viện numpy, pandas, matplotlib**"
      ],
      "metadata": {
        "id": "OebzYPIrR1H5"
      }
    },
    {
      "cell_type": "code",
      "execution_count": null,
      "metadata": {
        "id": "rlI8DI4aqbV3"
      },
      "outputs": [],
      "source": [
        "import numpy as np\n",
        "import pandas as pd\n",
        "from matplotlib import pyplot as plt"
      ]
    },
    {
      "cell_type": "markdown",
      "source": [
        "## **Activity 2. Load data and preprocessing**"
      ],
      "metadata": {
        "id": "EL0uWTjRR41V"
      }
    },
    {
      "cell_type": "markdown",
      "source": [
        "**Tạo DataFrame của pandas từ file “Social_Network_Ads.csv”**"
      ],
      "metadata": {
        "id": "WHRHEcjhR9Ru"
      }
    },
    {
      "cell_type": "code",
      "source": [
        "data = pd.read_csv('/content/Social_Network_Ads.csv')"
      ],
      "metadata": {
        "id": "I_D4qRA7HT0h"
      },
      "execution_count": null,
      "outputs": []
    },
    {
      "cell_type": "markdown",
      "source": [
        "**Trích xuất input và output**"
      ],
      "metadata": {
        "id": "mdZN8iFlSJfw"
      }
    },
    {
      "cell_type": "code",
      "source": [
        "X = data.iloc[:,[2,3]].values\n",
        "y = data.iloc[:,-1:].values"
      ],
      "metadata": {
        "id": "-HbRF6T8HKal"
      },
      "execution_count": null,
      "outputs": []
    },
    {
      "cell_type": "markdown",
      "source": [
        "**Chia dữ liệu thành train set và test set**"
      ],
      "metadata": {
        "id": "eplGiJTvSO2g"
      }
    },
    {
      "cell_type": "code",
      "source": [
        "from sklearn.model_selection import train_test_split\n",
        "X_train, X_test, y_train, y_test = train_test_split(X,y,test_size = 0.2,\n",
        "                                                    random_state = 42)"
      ],
      "metadata": {
        "id": "8Fna95RoHliX"
      },
      "execution_count": null,
      "outputs": []
    },
    {
      "cell_type": "markdown",
      "source": [
        "**Chuẩn hoá input**"
      ],
      "metadata": {
        "id": "R26SMySnTcWT"
      }
    },
    {
      "cell_type": "code",
      "source": [
        "X_mean = X_train.mean(axis=0, keepdims=True)\n",
        "X_std=X_train.std(axis=0,keepdims=True)\n",
        "X_train_scaled = (X_train - X_mean) / X_std\n",
        "X_test_scaled = (X_test - X_mean) / X_std"
      ],
      "metadata": {
        "id": "qz5RfhOZH8qN"
      },
      "execution_count": null,
      "outputs": []
    },
    {
      "cell_type": "markdown",
      "source": [
        "## **Activity 3. Xây dựng và huấn luyện mô hình**"
      ],
      "metadata": {
        "id": "6f7BCPkOTrWq"
      }
    },
    {
      "cell_type": "markdown",
      "source": [
        "**Hàm dự báo, hàm loss, gàm gradient**"
      ],
      "metadata": {
        "id": "0xl2NQGPTsm7"
      }
    },
    {
      "cell_type": "code",
      "source": [
        "g = lambda z: np.exp(z)/(1+np.exp(z))\n",
        "\n",
        "def predict_prob(X,w):\n",
        "  z = np.dot(X,w.T)\n",
        "  z = np.float64(z)\n",
        "  return g(z)\n",
        "def predict(X,w):\n",
        "  y_hat = predict_prob(X,w)\n",
        "  y_hat[y_hat >=0.5]=1\n",
        "  y_hat[y_hat <0.5]=0\n",
        "  return y_hat\n",
        "def loss(X,y,w):\n",
        "  y_hat = predict_prob(X,w)\n",
        "  theta = 1e-3\n",
        "  l = y*np.log(y_hat+theta)+(1-y)*np.log(1-y_hat+theta)\n",
        "  return -np.mean(l)\n",
        "def grad(X,y,w):\n",
        "  y_hat = predict_prob(X,w)\n",
        "  delta = y_hat - y\n",
        "  dw = np.dot(X.T,delta)\n",
        "  return dw.T"
      ],
      "metadata": {
        "id": "z4Z0t9aOIX6Z"
      },
      "execution_count": null,
      "outputs": []
    },
    {
      "cell_type": "markdown",
      "source": [
        "**Hàm batch_genrator**"
      ],
      "metadata": {
        "id": "OX92RlSjTvEK"
      }
    },
    {
      "cell_type": "code",
      "source": [
        "def batch_generator(X,y,batch_size):\n",
        "  idx = np.arange(X.shape[0])\n",
        "  np.random.shuffle(idx)\n",
        "\n",
        "  n_batch = len(idx)//batch_size\n",
        "  for i in range(n_batch):\n",
        "    i_start = i*batch_size\n",
        "    i_stop = min((i+1)*batch_size,len(idx))\n",
        "    yield X[idx[i_start:i_stop],:], y[idx[i_start:i_stop],:]"
      ],
      "metadata": {
        "id": "Z-DyrmJBLrNe"
      },
      "execution_count": null,
      "outputs": []
    },
    {
      "cell_type": "markdown",
      "source": [
        "**Gradient descent: viết hàm batch_genrator và thực thi thuật toán gradient với mini-batch để huấn luyện mô hình logistic regression.**"
      ],
      "metadata": {
        "id": "iTHt4BUWUBEx"
      }
    },
    {
      "cell_type": "code",
      "source": [
        "def gradient_descent(X, y, lr=0.005, epochs=100):\n",
        "  w = np.zeros((1,X.shape[1]))\n",
        "  losses = []\n",
        "  for i in range(epochs):\n",
        "    for X_batch, y_batch in batch_generator(X, y, 32):\n",
        "      dw = grad(X_batch, y_batch, w)\n",
        "      w -= lr * dw\n",
        "      a = loss(X, y, w)\n",
        "      losses.append(a)\n",
        "  return losses, w"
      ],
      "metadata": {
        "id": "hn8sfaRbMdWC"
      },
      "execution_count": null,
      "outputs": []
    },
    {
      "cell_type": "code",
      "source": [
        "print(y_train.shape)"
      ],
      "metadata": {
        "colab": {
          "base_uri": "https://localhost:8080/"
        },
        "id": "7crclkH5TugB",
        "outputId": "fd539faa-ba4d-45b4-ae23-1888b02c4cdd"
      },
      "execution_count": null,
      "outputs": [
        {
          "output_type": "stream",
          "name": "stdout",
          "text": [
            "(320, 1)\n"
          ]
        }
      ]
    },
    {
      "cell_type": "code",
      "source": [
        "loss,w = gradient_descent(X_train_scaled,y_train)"
      ],
      "metadata": {
        "id": "z95RcMFPS2Am"
      },
      "execution_count": null,
      "outputs": []
    },
    {
      "cell_type": "code",
      "source": [
        "print(w.shape)"
      ],
      "metadata": {
        "colab": {
          "base_uri": "https://localhost:8080/"
        },
        "id": "l3bdtSBkteFo",
        "outputId": "1744d708-7050-4c2f-c632-0371521fa606"
      },
      "execution_count": null,
      "outputs": [
        {
          "output_type": "stream",
          "name": "stdout",
          "text": [
            "(1, 2)\n"
          ]
        }
      ]
    },
    {
      "cell_type": "markdown",
      "source": [
        "**Vẽ hàm loss sau khi thực thi gradient descent**"
      ],
      "metadata": {
        "id": "g-XlDoHrUKGU"
      }
    },
    {
      "cell_type": "code",
      "source": [
        "plt.plot(loss)"
      ],
      "metadata": {
        "colab": {
          "base_uri": "https://localhost:8080/",
          "height": 447
        },
        "id": "WxhJa4mIaNJB",
        "outputId": "3a30c812-4746-4f47-ac0b-dcca9f7e0de7"
      },
      "execution_count": null,
      "outputs": [
        {
          "output_type": "execute_result",
          "data": {
            "text/plain": [
              "[<matplotlib.lines.Line2D at 0x7f07c21af2e0>]"
            ]
          },
          "metadata": {},
          "execution_count": 12
        },
        {
          "output_type": "display_data",
          "data": {
            "text/plain": [
              "<Figure size 640x480 with 1 Axes>"
            ],
            "image/png": "[encoded data removed]"
          },
          "metadata": {}
        }
      ]
    },
    {
      "cell_type": "markdown",
      "source": [
        "**Tính y dự đoán**"
      ],
      "metadata": {
        "id": "8kWkTKqEUT8x"
      }
    },
    {
      "cell_type": "code",
      "source": [
        "y_pred = predict(X_test_scaled,w)"
      ],
      "metadata": {
        "id": "4HwnjwZmX6O7"
      },
      "execution_count": null,
      "outputs": []
    },
    {
      "cell_type": "code",
      "source": [
        "print(y_pred.shape)"
      ],
      "metadata": {
        "colab": {
          "base_uri": "https://localhost:8080/"
        },
        "id": "98X0FcjwZqGS",
        "outputId": "0ec540e5-9dfa-4ebf-bdcc-d6a2239fdd93"
      },
      "execution_count": null,
      "outputs": [
        {
          "output_type": "stream",
          "name": "stdout",
          "text": [
            "(80, 1)\n"
          ]
        }
      ]
    },
    {
      "cell_type": "markdown",
      "source": [
        "**Hàm classification_report**"
      ],
      "metadata": {
        "id": "-uk8HZTiUWV-"
      }
    },
    {
      "cell_type": "code",
      "source": [
        "def classification_report(y_true, y_pred):\n",
        "    tp = np.sum((y_true == 1) & (y_pred == 1))\n",
        "    fp = np.sum((y_true == 0) & (y_pred == 1))\n",
        "    tn = np.sum((y_true == 0) & (y_pred == 0))\n",
        "    fn = np.sum((y_true == 1) & (y_pred == 0))\n",
        "    \n",
        "    conf_mat = np.array([[tp, fn],[fp, tn]])\n",
        "    accuracy = (tp + tn) / (tp + fp + tn + fn)\n",
        "    precision = tp / (tp + fp)\n",
        "    recall = tp / (tp + fn)\n",
        "    f1_score = 2 * (precision * recall) / (precision + recall)\n",
        "    \n",
        "    print('Confusion matrix: \\n',conf_mat)\n",
        "    print('Accuracy:', accuracy)\n",
        "    print('Precision:', precision)\n",
        "    print('Recall:', recall)\n",
        "    print('F1-score:', f1_score)"
      ],
      "metadata": {
        "id": "JqfVDfIcX_Lb"
      },
      "execution_count": null,
      "outputs": []
    },
    {
      "cell_type": "markdown",
      "source": [
        "**Sử dụng hàm classification_report để đánh giá hiệu quả của mô hình.**"
      ],
      "metadata": {
        "id": "7BD1vr_2UZuw"
      }
    },
    {
      "cell_type": "code",
      "source": [
        "classification_report(y_test, y_pred)"
      ],
      "metadata": {
        "colab": {
          "base_uri": "https://localhost:8080/"
        },
        "id": "rDpN1S4RYsYD",
        "outputId": "feec674e-cf27-4827-f5aa-0127af28cd40"
      },
      "execution_count": null,
      "outputs": [
        {
          "output_type": "stream",
          "name": "stdout",
          "text": [
            "Confusion matrix: \n",
            " [[28  0]\n",
            " [ 7 45]]\n",
            "Accuracy: 0.9125\n",
            "Precision: 0.8\n",
            "Recall: 1.0\n",
            "F1-score: 0.888888888888889\n"
          ]
        }
      ]
    },
    {
      "cell_type": "markdown",
      "source": [
        "## **Activity 4. Xây dựng mô hình neural networks dự đoán khả năng mua hàng của khách hàng**"
      ],
      "metadata": {
        "id": "suL312F2VTF6"
      }
    },
    {
      "cell_type": "markdown",
      "source": [
        "**Xây dựng class SigmoidLayer**"
      ],
      "metadata": {
        "id": "x52Kj80wVWLK"
      }
    },
    {
      "cell_type": "code",
      "source": [
        "g = lambda z: 1/(1+np.exp(-z))\n",
        "\n",
        "class SigmoidLayer:\n",
        "  def __init__(self,n_in,n_out,bias = True):\n",
        "    if bias: n_in += 1\n",
        "    w = np.random.randn(n_in,n_out)\n",
        "    self.w = w\n",
        "    self.bias = bias\n",
        "    self.is_forward = False\n",
        "  def forward(self,X):\n",
        "    if self.bias:\n",
        "      X = np.hstack((np.ones((X.shape[0],1)),X))\n",
        "    z = np.dot(X,self.w)\n",
        "    a = g(z)\n",
        "\n",
        "    self.is_forward = True\n",
        "    self.x = X\n",
        "    self.a = a\n",
        "    return a\n",
        "  def back_propagation(self,delta):\n",
        "    a = self.a\n",
        "    dw = np.dot(self.x.T,delta*a*(1.0-a))\n",
        "\n",
        "    if self.bias:\n",
        "      da = np.dot(delta*a*(1.0-a),self.w.T)[:,1:]\n",
        "    else:\n",
        "      da = np.dot(delta*a*(1.0-a),self.w.T)\n",
        "    return dw,da"
      ],
      "metadata": {
        "id": "uRtXq5VGF972"
      },
      "execution_count": null,
      "outputs": []
    },
    {
      "cell_type": "code",
      "source": [
        "print(X_train_scaled.shape)"
      ],
      "metadata": {
        "colab": {
          "base_uri": "https://localhost:8080/"
        },
        "id": "59T0InoOLmSM",
        "outputId": "4c827843-ed46-4550-b32c-6043c2c3449a"
      },
      "execution_count": null,
      "outputs": [
        {
          "output_type": "stream",
          "name": "stdout",
          "text": [
            "(320, 2)\n"
          ]
        }
      ]
    },
    {
      "cell_type": "markdown",
      "source": [
        "**Xây dựng mô hình**"
      ],
      "metadata": {
        "id": "tzvhruSsVY8I"
      }
    },
    {
      "cell_type": "code",
      "source": [
        "NDIMS = 2\n",
        "L1 = 32\n",
        "L2 = 32\n",
        "epochs = 500\n",
        "lr = 0.02\n",
        "\n",
        "layers = [SigmoidLayer(NDIMS,L1,bias = False),\n",
        "         SigmoidLayer(L1,L2),\n",
        "         SigmoidLayer(L2,1)]\n",
        "def predict_proba(X,model):\n",
        "  for l in model:\n",
        "    X = l.forward(X)\n",
        "  return X\n",
        "y_pred = predict_proba(X_train_scaled,model = layers)"
      ],
      "metadata": {
        "id": "BxSzB3RvIAYP"
      },
      "execution_count": null,
      "outputs": []
    },
    {
      "cell_type": "markdown",
      "source": [
        "**Định nghĩa hàm train_step**"
      ],
      "metadata": {
        "id": "0cfzT66AVbdu"
      }
    },
    {
      "cell_type": "code",
      "source": [
        "def train_step(X,y,model,lr = 0.01):\n",
        "  y_pred = predict_proba(X,model)\n",
        "  delta = y_pred - y\n",
        "  \n",
        "  for l in reversed(model):\n",
        "    dw,delta = l.back_propagation(delta)\n",
        "    l.w -= lr*dw\n",
        "for i in range(1000):\n",
        "  train_step(X_train_scaled,y_train,model = layers)"
      ],
      "metadata": {
        "id": "95M1eqocLkXh"
      },
      "execution_count": null,
      "outputs": []
    },
    {
      "cell_type": "markdown",
      "source": [
        "**Hàm dự đoán**"
      ],
      "metadata": {
        "id": "XwrG1dsRVi9w"
      }
    },
    {
      "cell_type": "code",
      "source": [
        "def predict(X, model):\n",
        "    for layer in model:\n",
        "        X = layer.forward(X)\n",
        "    return np.round(X).astype(int)"
      ],
      "metadata": {
        "id": "r3KtpPuhaKDZ"
      },
      "execution_count": null,
      "outputs": []
    },
    {
      "cell_type": "markdown",
      "source": [
        "**Tính y dự đoán binary và đánh giá hiệu quả của mô hình**"
      ],
      "metadata": {
        "id": "Aue1OXilVgwM"
      }
    },
    {
      "cell_type": "code",
      "source": [
        "y_pred = predict(X_test_scaled, layers)\n",
        "y_test_binary = np.where(y_test >= 0.5, 1, 0)\n",
        "\n",
        "classification_report(y_test_binary, y_pred)"
      ],
      "metadata": {
        "colab": {
          "base_uri": "https://localhost:8080/"
        },
        "id": "s8Rw7djdZUYD",
        "outputId": "69fdffe8-8832-4927-f80b-036a5140525b"
      },
      "execution_count": null,
      "outputs": [
        {
          "output_type": "stream",
          "name": "stdout",
          "text": [
            "Confusion matrix: \n",
            " [[27  1]\n",
            " [ 4 48]]\n",
            "Accuracy: 0.9375\n",
            "Precision: 0.8709677419354839\n",
            "Recall: 0.9642857142857143\n",
            "F1-score: 0.9152542372881356\n"
          ]
        }
      ]
    },
    {
      "cell_type": "markdown",
      "source": [
        "**Thay đổi kiến trúc của mạng neural lên thành 5 lớp, và huấn luyện với mini-batch gradient descent.**"
      ],
      "metadata": {
        "id": "Vg8_050ZWqt_"
      }
    },
    {
      "cell_type": "code",
      "source": [
        "NDIMS = 2\n",
        "L1 = 32\n",
        "L2 = 64\n",
        "L3 = 128\n",
        "L4 = 48\n",
        "L5 = 16\n",
        "epochs = 500\n",
        "lr = 0.02\n",
        "\n",
        "layers = [SigmoidLayer(NDIMS,L1,bias = True),\n",
        "         SigmoidLayer(L1,L2,bias = True),\n",
        "         SigmoidLayer(L2,L3,bias = True),\n",
        "         SigmoidLayer(L3,L4,bias = True),\n",
        "         SigmoidLayer(L4,L5,bias = True),\n",
        "         SigmoidLayer(L5,1,bias = True)]"
      ],
      "metadata": {
        "id": "UuhW4VB-WuFP"
      },
      "execution_count": null,
      "outputs": []
    },
    {
      "cell_type": "markdown",
      "source": [
        "**Sử dụng hàm batch_gerator để thực thi mini-batch gradient descent**"
      ],
      "metadata": {
        "id": "5nZgHVSMeWHl"
      }
    },
    {
      "cell_type": "code",
      "source": [
        "def train_step(X,y,model,lr = 0.001):\n",
        "  y_pred = predict_proba(X,model)\n",
        "  delta = y_pred - y\n",
        "  \n",
        "  for l in reversed(model):\n",
        "    dw,delta = l.back_propagation(delta)\n",
        "    l.w -= lr*dw\n",
        "for i in range(2000):\n",
        "    for X_batch, y_batch in batch_generator(X_train_scaled, y_train, 32):\n",
        "        train_step(X_batch,y_batch,model = layers)"
      ],
      "metadata": {
        "id": "_eAEtEqQZlX5"
      },
      "execution_count": null,
      "outputs": []
    },
    {
      "cell_type": "markdown",
      "source": [
        "**Hàm dự đoán**"
      ],
      "metadata": {
        "id": "jZVWBfd5WKUW"
      }
    },
    {
      "cell_type": "code",
      "source": [
        "def predict(X, model):\n",
        "    for layer in model:\n",
        "        X = layer.forward(X)\n",
        "    return np.round(X).astype(int)"
      ],
      "metadata": {
        "id": "SlDKRM50nELn"
      },
      "execution_count": null,
      "outputs": []
    },
    {
      "cell_type": "markdown",
      "source": [
        "**Tính y dự đoán binary**"
      ],
      "metadata": {
        "id": "AxYbTGCFe9cr"
      }
    },
    {
      "cell_type": "code",
      "source": [
        "y_pred = predict(X_test_scaled, layers)\n",
        "y_test_binary = np.where(y_test >= 0.5, 1, 0)"
      ],
      "metadata": {
        "id": "mo0uR9nqk6Ec"
      },
      "execution_count": null,
      "outputs": []
    },
    {
      "cell_type": "markdown",
      "source": [
        "**Đánh giá hiệu quả của mô hình bằng hàm classification_report sau khi thay đổi số nơron**"
      ],
      "metadata": {
        "id": "RpqsopBWewQ1"
      }
    },
    {
      "cell_type": "code",
      "source": [
        "classification_report(y_test_binary, y_pred)"
      ],
      "metadata": {
        "colab": {
          "base_uri": "https://localhost:8080/"
        },
        "id": "n4AQ0gQxikea",
        "outputId": "40797490-8bba-47b2-b9ce-db08523b283b"
      },
      "execution_count": null,
      "outputs": [
        {
          "output_type": "stream",
          "name": "stdout",
          "text": [
            "Confusion matrix: \n",
            " [[27  1]\n",
            " [ 4 48]]\n",
            "Accuracy: 0.9375\n",
            "Precision: 0.8709677419354839\n",
            "Recall: 0.9642857142857143\n",
            "F1-score: 0.9152542372881356\n"
          ]
        }
      ]
    },
    {
      "cell_type": "code",
      "source": [
        "import tensorflow as tf"
      ],
      "metadata": {
        "id": "e7CrdzTp-K1N"
      },
      "execution_count": null,
      "outputs": []
    },
    {
      "cell_type": "code",
      "source": [],
      "metadata": {
        "id": "96F-jR7S-SLa"
      },
      "execution_count": null,
      "outputs": []
    }
  ]
}