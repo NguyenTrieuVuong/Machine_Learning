{
  "cells": [
    {
      "cell_type": "markdown",
      "metadata": {
        "id": "G8H_-v_yT2ND"
      },
      "source": [
        "# **Lab Gradient Descent: Linear Regression**"
      ]
    },
    {
      "cell_type": "markdown",
      "metadata": {
        "id": "M4UsNW0KT8P2"
      },
      "source": [
        "### **Activity 1. Warmup**\n",
        "\n"
      ]
    },
    {
      "cell_type": "code",
      "execution_count": 3,
      "metadata": {
        "id": "nniT_NfQQDPr"
      },
      "outputs": [],
      "source": [
        "import math\n",
        "import numpy as np\n",
        "import pandas as pd\n",
        "from matplotlib import pyplot as plt"
      ]
    },
    {
      "cell_type": "markdown",
      "metadata": {
        "id": "QQKICm9lURdG"
      },
      "source": [
        "### **Activity 2. Load data and preprocessing**"
      ]
    },
    {
      "cell_type": "code",
      "execution_count": 4,
      "metadata": {
        "colab": {
          "base_uri": "https://localhost:8080/",
          "height": 206
        },
        "id": "n1W1epDJRG5d",
        "outputId": "6b0f73c7-7e03-4e72-b4f7-e7a9de2ca7b3"
      },
      "outputs": [
        {
          "data": {
            "text/html": [
              "\n",
              "  <div id=\"df-073cc89a-64bc-4b37-b4d8-c2d07f8cbf97\">\n",
              "    <div class=\"colab-df-container\">\n",
              "      <div>\n",
              "<style scoped>\n",
              "    .dataframe tbody tr th:only-of-type {\n",
              "        vertical-align: middle;\n",
              "    }\n",
              "\n",
              "    .dataframe tbody tr th {\n",
              "        vertical-align: top;\n",
              "    }\n",
              "\n",
              "    .dataframe thead th {\n",
              "        text-align: right;\n",
              "    }\n",
              "</style>\n",
              "<table border=\"1\" class=\"dataframe\">\n",
              "  <thead>\n",
              "    <tr style=\"text-align: right;\">\n",
              "      <th></th>\n",
              "      <th>R&amp;D Spend</th>\n",
              "      <th>Administration</th>\n",
              "      <th>Marketing Spend</th>\n",
              "      <th>State</th>\n",
              "      <th>Profit</th>\n",
              "    </tr>\n",
              "  </thead>\n",
              "  <tbody>\n",
              "    <tr>\n",
              "      <th>0</th>\n",
              "      <td>165349.20</td>\n",
              "      <td>136897.80</td>\n",
              "      <td>471784.10</td>\n",
              "      <td>New York</td>\n",
              "      <td>192261.83</td>\n",
              "    </tr>\n",
              "    <tr>\n",
              "      <th>1</th>\n",
              "      <td>162597.70</td>\n",
              "      <td>151377.59</td>\n",
              "      <td>443898.53</td>\n",
              "      <td>California</td>\n",
              "      <td>191792.06</td>\n",
              "    </tr>\n",
              "    <tr>\n",
              "      <th>2</th>\n",
              "      <td>153441.51</td>\n",
              "      <td>101145.55</td>\n",
              "      <td>407934.54</td>\n",
              "      <td>Florida</td>\n",
              "      <td>191050.39</td>\n",
              "    </tr>\n",
              "    <tr>\n",
              "      <th>3</th>\n",
              "      <td>144372.41</td>\n",
              "      <td>118671.85</td>\n",
              "      <td>383199.62</td>\n",
              "      <td>New York</td>\n",
              "      <td>182901.99</td>\n",
              "    </tr>\n",
              "    <tr>\n",
              "      <th>4</th>\n",
              "      <td>142107.34</td>\n",
              "      <td>91391.77</td>\n",
              "      <td>366168.42</td>\n",
              "      <td>Florida</td>\n",
              "      <td>166187.94</td>\n",
              "    </tr>\n",
              "  </tbody>\n",
              "</table>\n",
              "</div>\n",
              "      <button class=\"colab-df-convert\" onclick=\"convertToInteractive('df-073cc89a-64bc-4b37-b4d8-c2d07f8cbf97')\"\n",
              "              title=\"Convert this dataframe to an interactive table.\"\n",
              "              style=\"display:none;\">\n",
              "        \n",
              "  <svg xmlns=\"http://www.w3.org/2000/svg\" height=\"24px\"viewBox=\"0 0 24 24\"\n",
              "       width=\"24px\">\n",
              "    <path d=\"M0 0h24v24H0V0z\" fill=\"none\"/>\n",
              "    <path d=\"M18.56 5.44l.94 2.06.94-2.06 2.06-.94-2.06-.94-.94-2.06-.94 2.06-2.06.94zm-11 1L8.5 8.5l.94-2.06 2.06-.94-2.06-.94L8.5 2.5l-.94 2.06-2.06.94zm10 10l.94 2.06.94-2.06 2.06-.94-2.06-.94-.94-2.06-.94 2.06-2.06.94z\"/><path d=\"M17.41 7.96l-1.37-1.37c-.4-.4-.92-.59-1.43-.59-.52 0-1.04.2-1.43.59L10.3 9.45l-7.72 7.72c-.78.78-.78 2.05 0 2.83L4 21.41c.39.39.9.59 1.41.59.51 0 1.02-.2 1.41-.59l7.78-7.78 2.81-2.81c.8-.78.8-2.07 0-2.86zM5.41 20L4 18.59l7.72-7.72 1.47 1.35L5.41 20z\"/>\n",
              "  </svg>\n",
              "      </button>\n",
              "      \n",
              "  <style>\n",
              "    .colab-df-container {\n",
              "      display:flex;\n",
              "      flex-wrap:wrap;\n",
              "      gap: 12px;\n",
              "    }\n",
              "\n",
              "    .colab-df-convert {\n",
              "      background-color: #E8F0FE;\n",
              "      border: none;\n",
              "      border-radius: 50%;\n",
              "      cursor: pointer;\n",
              "      display: none;\n",
              "      fill: #1967D2;\n",
              "      height: 32px;\n",
              "      padding: 0 0 0 0;\n",
              "      width: 32px;\n",
              "    }\n",
              "\n",
              "    .colab-df-convert:hover {\n",
              "      background-color: #E2EBFA;\n",
              "      box-shadow: 0px 1px 2px rgba(60, 64, 67, 0.3), 0px 1px 3px 1px rgba(60, 64, 67, 0.15);\n",
              "      fill: #174EA6;\n",
              "    }\n",
              "\n",
              "    [theme=dark] .colab-df-convert {\n",
              "      background-color: #3B4455;\n",
              "      fill: #D2E3FC;\n",
              "    }\n",
              "\n",
              "    [theme=dark] .colab-df-convert:hover {\n",
              "      background-color: #434B5C;\n",
              "      box-shadow: 0px 1px 3px 1px rgba(0, 0, 0, 0.15);\n",
              "      filter: drop-shadow(0px 1px 2px rgba(0, 0, 0, 0.3));\n",
              "      fill: #FFFFFF;\n",
              "    }\n",
              "  </style>\n",
              "\n",
              "      <script>\n",
              "        const buttonEl =\n",
              "          document.querySelector('#df-073cc89a-64bc-4b37-b4d8-c2d07f8cbf97 button.colab-df-convert');\n",
              "        buttonEl.style.display =\n",
              "          google.colab.kernel.accessAllowed ? 'block' : 'none';\n",
              "\n",
              "        async function convertToInteractive(key) {\n",
              "          const element = document.querySelector('#df-073cc89a-64bc-4b37-b4d8-c2d07f8cbf97');\n",
              "          const dataTable =\n",
              "            await google.colab.kernel.invokeFunction('convertToInteractive',\n",
              "                                                     [key], {});\n",
              "          if (!dataTable) return;\n",
              "\n",
              "          const docLinkHtml = 'Like what you see? Visit the ' +\n",
              "            '<a target=\"_blank\" href=https://colab.research.google.com/notebooks/data_table.ipynb>data table notebook</a>'\n",
              "            + ' to learn more about interactive tables.';\n",
              "          element.innerHTML = '';\n",
              "          dataTable['output_type'] = 'display_data';\n",
              "          await google.colab.output.renderOutput(dataTable, element);\n",
              "          const docLink = document.createElement('div');\n",
              "          docLink.innerHTML = docLinkHtml;\n",
              "          element.appendChild(docLink);\n",
              "        }\n",
              "      </script>\n",
              "    </div>\n",
              "  </div>\n",
              "  "
            ],
            "text/plain": [
              "   R&D Spend  Administration  Marketing Spend       State     Profit\n",
              "0  165349.20       136897.80        471784.10    New York  192261.83\n",
              "1  162597.70       151377.59        443898.53  California  191792.06\n",
              "2  153441.51       101145.55        407934.54     Florida  191050.39\n",
              "3  144372.41       118671.85        383199.62    New York  182901.99\n",
              "4  142107.34        91391.77        366168.42     Florida  166187.94"
            ]
          },
          "execution_count": 4,
          "metadata": {},
          "output_type": "execute_result"
        }
      ],
      "source": [
        "# Create pandas DataFrame from “50_startups.csv” file\n",
        "data = pd.read_csv('50_Startups.csv')\n",
        "data.head()"
      ]
    },
    {
      "cell_type": "code",
      "execution_count": 5,
      "metadata": {
        "colab": {
          "base_uri": "https://localhost:8080/"
        },
        "id": "KZnGsS4xRXbz",
        "outputId": "ba99d3a8-795f-4a9b-a5f8-655dbfe37690"
      },
      "outputs": [
        {
          "name": "stdout",
          "output_type": "stream",
          "text": [
            "(50, 3)\n",
            "(50, 1)\n"
          ]
        }
      ],
      "source": [
        "# Extract Input and Output\n",
        "x = data.iloc[:,[0,1,2]].values\n",
        "y = data.iloc[:,-1:].values\n",
        "print(x.shape)\n",
        "print(y.shape)"
      ]
    },
    {
      "cell_type": "code",
      "execution_count": 6,
      "metadata": {
        "colab": {
          "base_uri": "https://localhost:8080/"
        },
        "id": "PuOSh7u8R1W-",
        "outputId": "5c0d02bd-e7e0-4593-f2c4-cfcff9f1ac35"
      },
      "outputs": [
        {
          "name": "stdout",
          "output_type": "stream",
          "text": [
            "(40, 3) (10, 3)\n",
            "(40, 1) (10, 1)\n"
          ]
        }
      ],
      "source": [
        "# Split the dataset into train set and test set\n",
        "from sklearn.model_selection import train_test_split\n",
        "X_train, X_test, y_train, y_test = train_test_split(x, y, test_size = 0.2, random_state=42)\n",
        "print(X_train.shape, X_test.shape)\n",
        "print(y_train.shape, y_test.shape)"
      ]
    },
    {
      "cell_type": "code",
      "execution_count": 7,
      "metadata": {
        "colab": {
          "base_uri": "https://localhost:8080/"
        },
        "id": "Pfy5eQ9WSzJU",
        "outputId": "cd23eceb-6e68-4f69-b51a-2c561e2aaeb0"
      },
      "outputs": [
        {
          "name": "stdout",
          "output_type": "stream",
          "text": [
            "(1, 3) (1, 3)\n",
            "[[165349.2  182645.56 471784.1 ]]\n",
            "[[    0.   51283.14     0.  ]]\n"
          ]
        }
      ],
      "source": [
        "# Input normalization\n",
        "X_max = X_train.max(axis=0, keepdims=True)\n",
        "X_min = X_train.min(axis=0, keepdims=True)\n",
        "print(X_max.shape, X_min.shape)\n",
        "print(X_max)\n",
        "print(X_min)"
      ]
    },
    {
      "cell_type": "code",
      "execution_count": 8,
      "metadata": {
        "colab": {
          "base_uri": "https://localhost:8080/"
        },
        "id": "shM1e5A-UCKe",
        "outputId": "141d9564-39d7-4730-a070-f706fe31f1ae"
      },
      "outputs": [
        {
          "name": "stdout",
          "output_type": "stream",
          "text": [
            "0.0 1.0\n"
          ]
        }
      ],
      "source": [
        "X_train_scaled = (X_train - X_min)/(X_max - X_min)\n",
        "print(X_train_scaled.min(), X_train_scaled.max())"
      ]
    },
    {
      "cell_type": "code",
      "execution_count": 9,
      "metadata": {
        "colab": {
          "base_uri": "https://localhost:8080/"
        },
        "id": "kEjiOL77VATz",
        "outputId": "568d1940-a471-41e5-ff48-b0e134b8342a"
      },
      "outputs": [
        {
          "name": "stdout",
          "output_type": "stream",
          "text": [
            "0.0 0.7782360434590044\n"
          ]
        }
      ],
      "source": [
        "X_test_scaled = (X_test - X_min)/(X_max - X_min)\n",
        "print(X_test_scaled.min(), X_test_scaled.max())"
      ]
    },
    {
      "cell_type": "code",
      "execution_count": 10,
      "metadata": {
        "colab": {
          "base_uri": "https://localhost:8080/"
        },
        "id": "-EtKfNfoVSJB",
        "outputId": "b4cdd8d2-afba-4fb9-ba52-efc654bd0bd4"
      },
      "outputs": [
        {
          "name": "stdout",
          "output_type": "stream",
          "text": [
            "1.8464513788878065 -2.433579441809424\n",
            "0.449636647684142 -1.9276315184465596\n"
          ]
        }
      ],
      "source": [
        "# Output normalization\n",
        "y_mean = y_train.mean(axis=0, keepdims=True)\n",
        "y_std=y_train.std(axis=0,keepdims=True)\n",
        "\n",
        "y_train_scaled = (y_train - y_mean) / y_std\n",
        "y_test_scaled = (y_test - y_mean) / y_std\n",
        "\n",
        "print(y_train_scaled.max(), y_train_scaled.min())\n",
        "print(y_test_scaled.max(), y_test_scaled.min())\n"
      ]
    },
    {
      "cell_type": "markdown",
      "metadata": {
        "id": "yuh_zEESUjv4"
      },
      "source": [
        "### **Activity 3. Xây dựng và huấn luyện mô hình**"
      ]
    },
    {
      "cell_type": "code",
      "execution_count": 11,
      "metadata": {
        "id": "yA_Ya_FJV5cp"
      },
      "outputs": [],
      "source": [
        "# Predict model\n",
        "def predict(X,w):\n",
        "  y_pred = np.dot(X, w.T)\n",
        "  return y_pred\n",
        "\n",
        "# Loss function\n",
        "def loss(X, y,w):\n",
        "  y_pred = predict(X,w)\n",
        "  return np.mean((y_pred-y)**2)\n",
        "\n",
        "# Gradients\n",
        "def grad(X,y,w):\n",
        "  y_pred = predict(X,w)\n",
        "  delta = y_pred-y\n",
        "  dw = np.dot(X.T,delta)\n",
        "  return dw.T"
      ]
    },
    {
      "cell_type": "code",
      "execution_count": 12,
      "metadata": {
        "colab": {
          "base_uri": "https://localhost:8080/"
        },
        "id": "qd4au08tWlQq",
        "outputId": "b3088566-4637-4732-8d5d-3a977fc2cfa7"
      },
      "outputs": [
        {
          "name": "stdout",
          "output_type": "stream",
          "text": [
            "Initial loss:  1.0\n",
            "Final loss:  0.2783395482101783\n"
          ]
        }
      ],
      "source": [
        "# Gradient Descent\n",
        "w = np.zeros((1,3))\n",
        "l_rate = 0.01\n",
        "epoch = 100\n",
        "l = loss(X_train_scaled, y_train_scaled, w)\n",
        "print(f\"Initial loss: \",l)\n",
        "history = [l]\n",
        "for i in range(epoch):\n",
        "  l = loss(X_train_scaled, y_train_scaled, w)\n",
        "  dw = grad(X_train_scaled, y_train_scaled, w)\n",
        "  w -= l_rate*dw\n",
        "print(f\"Final loss: \",l)"
      ]
    },
    {
      "cell_type": "markdown",
      "metadata": {
        "id": "91GbZ4n654Fg"
      },
      "source": [
        "# **Code hàm LinearRegression và đánh giá mô hình dựa trên tập dữ liệu test set.**"
      ]
    },
    {
      "cell_type": "code",
      "execution_count": 13,
      "metadata": {
        "id": "DPf_B0qHcrKb"
      },
      "outputs": [],
      "source": [
        "import numpy as np\n",
        "\n",
        "class LinearRegression:\n",
        "    def __init__(self, lr=0.01, n_iters=1000000):\n",
        "        self.lr = lr\n",
        "        self.n_iters = n_iters\n",
        "        self.weights = None\n",
        "        self.bias = None\n",
        "\n",
        "    def fit(self, X, y):\n",
        "        # Initialize weights and bias to zero\n",
        "        n_samples, n_features = X.shape\n",
        "        self.weights = np.zeros(n_features)\n",
        "        self.bias = 0\n",
        "\n",
        "        # Gradient descent for n_iters iterations\n",
        "        for _ in range(self.n_iters):\n",
        "            y_predicted = np.dot(X, self.weights) + self.bias\n",
        "            dw = (1/n_samples) * np.dot(X.T, (y_predicted - y))\n",
        "            db = (1/n_samples) * np.sum(y_predicted - y)\n",
        "\n",
        "            # Update weights and bias\n",
        "            self.weights -= self.lr * dw\n",
        "            self.bias -= self.lr * db\n",
        "\n",
        "    def predict(self, X):\n",
        "        y_predicted = np.dot(X, self.weights) + self.bias\n",
        "        return y_predicted"
      ]
    },
    {
      "cell_type": "code",
      "execution_count": 14,
      "metadata": {
        "id": "pVBlf1Fsg4yk"
      },
      "outputs": [],
      "source": [
        "model = LinearRegression(lr=0.01, n_iters=1000000)\n",
        "model.fit(X_train_scaled, y_train_scaled.T[0,:])\n",
        "y_pred = model.predict(X_test_scaled)"
      ]
    },
    {
      "cell_type": "markdown",
      "metadata": {
        "id": "7CCzB2A_5XEr"
      },
      "source": [
        "# **Lập hàm và tính MSE, MAE, RMSE dựa trên tập pred và tập test**"
      ]
    },
    {
      "cell_type": "code",
      "execution_count": 15,
      "metadata": {
        "id": "u74LEE9LpOvF"
      },
      "outputs": [],
      "source": [
        "# Mean squared error\n",
        "def mean_squared_error(y_test, y_pred):\n",
        "    sum_of_squared_errors = 0\n",
        "    for i in range(len(y_test)):\n",
        "        error = y_test[i] - y_pred[i]\n",
        "        sum_of_squared_errors += error**2\n",
        "    mse = sum_of_squared_errors / len(y_test)\n",
        "    return mse\n",
        "\n",
        "# Root mean squared error\n",
        "def root_mean_squared_error(y_test, y_pred):\n",
        "    return math.sqrt(mean_squared_error(y_test, y_pred))\n",
        "\n",
        "# Mean absolute error\n",
        "def mean_absolute_error(y_test, y_pred):\n",
        "    absolute_errors = []\n",
        "    for i in range(len(y_test)):\n",
        "        error = abs(y_test[i] - y_pred[i])\n",
        "        absolute_errors.append(error)\n",
        "    mae = sum(absolute_errors) / len(y_test)\n",
        "    return mae"
      ]
    },
    {
      "cell_type": "code",
      "execution_count": 16,
      "metadata": {
        "colab": {
          "base_uri": "https://localhost:8080/"
        },
        "id": "gdnQC6r13r-V",
        "outputId": "c7072b29-a43d-474d-ada1-6d3a53300444"
      },
      "outputs": [
        {
          "name": "stdout",
          "output_type": "stream",
          "text": [
            "MSE: [0.04701034]\n",
            "MAE: [0.16821103]\n",
            "RMSE: 0.21681867815320063\n"
          ]
        }
      ],
      "source": [
        "mse = mean_squared_error(y_test_scaled, y_pred)\n",
        "mae = mean_absolute_error(y_test_scaled, y_pred)\n",
        "rmse = root_mean_squared_error(y_test_scaled, y_pred)\n",
        "print(\"MSE: {0}\".format(mse))\n",
        "print(\"MAE: {0}\".format(mae))\n",
        "print(\"RMSE: {0}\".format(rmse))"
      ]
    },
    {
      "cell_type": "markdown",
      "metadata": {
        "id": "2-vCwAMmtozp"
      },
      "source": [
        "# **Thêm hệ số bias và đánh giá mô hình dựa trên tập dữ liệu test set.**\n"
      ]
    },
    {
      "cell_type": "code",
      "execution_count": 17,
      "metadata": {
        "id": "HlfZeXJNt8Fi"
      },
      "outputs": [],
      "source": [
        "bias = np.ones((X_train.shape[0],1))\n",
        "X_train_scaled = np.hstack((bias,X_train_scaled));"
      ]
    },
    {
      "cell_type": "code",
      "execution_count": 18,
      "metadata": {
        "id": "XjjqR_NvvzSz"
      },
      "outputs": [],
      "source": [
        "bias = np.ones((X_test.shape[0],1))\n",
        "X_test_scaled = np.hstack((bias,X_test_scaled));"
      ]
    },
    {
      "cell_type": "code",
      "execution_count": 19,
      "metadata": {
        "colab": {
          "base_uri": "https://localhost:8080/"
        },
        "id": "dKUjG20VwDYj",
        "outputId": "07d9d1a7-03c9-4859-e5a1-e076fd3514ff"
      },
      "outputs": [
        {
          "name": "stdout",
          "output_type": "stream",
          "text": [
            "Initial loss:  1.0\n",
            "Final loss:  0.04640777934696909\n"
          ]
        }
      ],
      "source": [
        "w = np.zeros((1,4))\n",
        "l_rate = 0.01\n",
        "epoch = 1000\n",
        "l = loss(X_train_scaled, y_train_scaled, w)\n",
        "print(f\"Initial loss: \",l)\n",
        "history = [l]\n",
        "for i in range(epoch):\n",
        "  l = loss(X_train_scaled, y_train_scaled, w)\n",
        "  dw = grad(X_train_scaled, y_train_scaled, w)\n",
        "  w -= l_rate*dw\n",
        "  history.append(l)\n",
        "print(f\"Final loss: \",l)"
      ]
    },
    {
      "cell_type": "code",
      "execution_count": 20,
      "metadata": {
        "colab": {
          "base_uri": "https://localhost:8080/",
          "height": 265
        },
        "id": "bc29bEbF0PX8",
        "outputId": "0378719e-9417-44b4-b8d2-43ff32b6e14b"
      },
      "outputs": [
        {
          "data": {
            "image/png": "[encoded data removed]",
            "text/plain": [
              "<Figure size 432x288 with 1 Axes>"
            ]
          },
          "metadata": {
            "needs_background": "light"
          },
          "output_type": "display_data"
        }
      ],
      "source": [
        "plt.plot(history)\n",
        "plt.show()"
      ]
    },
    {
      "cell_type": "code",
      "execution_count": 21,
      "metadata": {
        "id": "ANUn4PAL2dvn"
      },
      "outputs": [],
      "source": [
        "model = LinearRegression(lr=0.01, n_iters=1000000)\n",
        "model.fit(X_train_scaled, y_train_scaled.T[0,:])\n",
        "y_pred = model.predict(X_test_scaled)"
      ]
    },
    {
      "cell_type": "code",
      "execution_count": 22,
      "metadata": {
        "colab": {
          "base_uri": "https://localhost:8080/"
        },
        "id": "rEUXv85R2SId",
        "outputId": "d5a9138e-7da1-49f0-badd-481e55e3a432"
      },
      "outputs": [
        {
          "name": "stdout",
          "output_type": "stream",
          "text": [
            "MSE: [0.04701034]\n",
            "MAE: [0.16821103]\n",
            "RMSE: 0.21681867815320546\n"
          ]
        }
      ],
      "source": [
        "mse = mean_squared_error(y_test_scaled, y_pred)\n",
        "mae = mean_absolute_error(y_test_scaled, y_pred)\n",
        "rmse = root_mean_squared_error(y_test_scaled, y_pred)\n",
        "print(\"MSE: {0}\".format(mse))\n",
        "print(\"MAE: {0}\".format(mae))\n",
        "print(\"RMSE: {0}\".format(rmse))"
      ]
    },
    {
      "cell_type": "code",
      "execution_count": 23,
      "metadata": {
        "colab": {
          "base_uri": "https://localhost:8080/"
        },
        "id": "RQEu6VBB-2uW",
        "outputId": "5ae52101-b877-4b9f-aa71-118229fa2311"
      },
      "outputs": [
        {
          "name": "stdout",
          "output_type": "stream",
          "text": [
            "Mean squared error:  0.04701033919609864\n",
            "Mean absolute error:  0.1682110283350694\n",
            "Root mean squared error:  0.21681867815319472\n"
          ]
        }
      ],
      "source": [
        "# Using Scikit Learn libraries to calculate errors\n",
        "\n",
        "import numpy as np\n",
        "from sklearn.linear_model import LinearRegression\n",
        "from sklearn.model_selection import train_test_split\n",
        "from sklearn.metrics import mean_squared_error\n",
        "from sklearn.metrics import mean_absolute_error\n",
        "\n",
        "model = LinearRegression(fit_intercept=True)\n",
        "model.fit(X_train_scaled, y_train_scaled)\n",
        "\n",
        "# Evaluate the model on the test data\n",
        "y_pred = model.predict(X_test_scaled)\n",
        "mse = mean_squared_error(y_test_scaled, y_pred)\n",
        "mae = mean_absolute_error(y_test_scaled, y_pred)\n",
        "rmse = math.sqrt(mse)\n",
        "\n",
        "# Print the evaluation metrics\n",
        "print(\"Mean squared error: \", mse)\n",
        "print(\"Mean absolute error: \", mae)\n",
        "print(\"Root mean squared error: \", rmse)\n"
      ]
    },
    {
      "cell_type": "code",
      "execution_count": 24,
      "metadata": {
        "colab": {
          "base_uri": "https://localhost:8080/",
          "height": 265
        },
        "id": "6DJ5tI0_0U6Y",
        "outputId": "2d9eace8-8519-452a-95df-9115457c8b4e"
      },
      "outputs": [
        {
          "data": {
            "image/png": "[encoded data removed]",
            "text/plain": [
              "<Figure size 432x288 with 1 Axes>"
            ]
          },
          "metadata": {
            "needs_background": "light"
          },
          "output_type": "display_data"
        }
      ],
      "source": [
        "plt.plot(y_test_scaled)\n",
        "plt.plot(y_pred)\n",
        "plt.show()"
      ]
    }
  ],
  "metadata": {
    "colab": {
      "provenance": []
    },
    "kernelspec": {
      "display_name": "Python 3",
      "name": "python3"
    },
    "language_info": {
      "name": "python",
      "version": "3.9.11"
    }
  },
  "nbformat": 4,
  "nbformat_minor": 0
}
