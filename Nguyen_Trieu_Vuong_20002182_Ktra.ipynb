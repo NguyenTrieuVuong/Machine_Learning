{
 "cells": [
  {
   "cell_type": "code",
   "execution_count": 905,
   "metadata": {},
   "outputs": [],
   "source": [
    "import numpy as np\n",
    "import pandas as pd\n",
    "from matplotlib import pyplot as plt"
   ]
  },
  {
   "cell_type": "code",
   "execution_count": 906,
   "metadata": {},
   "outputs": [
    {
     "name": "stdout",
     "output_type": "stream",
     "text": [
      "[-10.   -9.8  -9.6  -9.4  -9.2  -9.   -8.8  -8.6  -8.4  -8.2  -8.   -7.8\n",
      "  -7.6  -7.4  -7.2  -7.   -6.8  -6.6  -6.4  -6.2  -6.   -5.8  -5.6  -5.4\n",
      "  -5.2  -5.   -4.8  -4.6  -4.4  -4.2  -4.   -3.8  -3.6  -3.4  -3.2  -3.\n",
      "  -2.8  -2.6  -2.4  -2.2  -2.   -1.8  -1.6  -1.4  -1.2  -1.   -0.8  -0.6\n",
      "  -0.4  -0.2   0.    0.2   0.4   0.6   0.8   1.    1.2   1.4   1.6   1.8\n",
      "   2.    2.2   2.4   2.6   2.8   3.    3.2   3.4   3.6   3.8   4.    4.2\n",
      "   4.4   4.6   4.8   5.    5.2   5.4   5.6   5.8   6.    6.2   6.4   6.6\n",
      "   6.8   7.    7.2   7.4   7.6   7.8   8.    8.2   8.4   8.6   8.8   9.\n",
      "   9.2   9.4   9.6   9.8  10. ]\n"
     ]
    }
   ],
   "source": [
    "x = np.linspace(-10,10,101)\n",
    "print(x)"
   ]
  },
  {
   "cell_type": "code",
   "execution_count": 907,
   "metadata": {},
   "outputs": [],
   "source": [
    "def g(x):\n",
    "    return 1/(1+np.exp(-x))"
   ]
  },
  {
   "cell_type": "code",
   "execution_count": 908,
   "metadata": {},
   "outputs": [
    {
     "name": "stdout",
     "output_type": "stream",
     "text": [
      "[4.53978687e-05 5.54485247e-05 6.77241496e-05 8.27172229e-05\n",
      " 1.01029194e-04 1.23394576e-04 1.50710358e-04 1.84071905e-04\n",
      " 2.24816770e-04 2.74578156e-04 3.35350130e-04 4.09567165e-04\n",
      " 5.00201107e-04 6.10879359e-04 7.46028834e-04 9.11051194e-04\n",
      " 1.11253603e-03 1.35851995e-03 1.65880108e-03 2.02532039e-03\n",
      " 2.47262316e-03 3.01841632e-03 3.68423990e-03 4.49627316e-03\n",
      " 5.48629890e-03 6.69285092e-03 8.16257115e-03 9.95180187e-03\n",
      " 1.21284350e-02 1.47740317e-02 1.79862100e-02 2.18812709e-02\n",
      " 2.65969936e-02 3.22954647e-02 3.91657228e-02 4.74258732e-02\n",
      " 5.73241759e-02 6.91384203e-02 8.31726965e-02 9.97504891e-02\n",
      " 1.19202922e-01 1.41851065e-01 1.67981615e-01 1.97816111e-01\n",
      " 2.31475217e-01 2.68941421e-01 3.10025519e-01 3.54343694e-01\n",
      " 4.01312340e-01 4.50166003e-01 5.00000000e-01 5.49833997e-01\n",
      " 5.98687660e-01 6.45656306e-01 6.89974481e-01 7.31058579e-01\n",
      " 7.68524783e-01 8.02183889e-01 8.32018385e-01 8.58148935e-01\n",
      " 8.80797078e-01 9.00249511e-01 9.16827304e-01 9.30861580e-01\n",
      " 9.42675824e-01 9.52574127e-01 9.60834277e-01 9.67704535e-01\n",
      " 9.73403006e-01 9.78118729e-01 9.82013790e-01 9.85225968e-01\n",
      " 9.87871565e-01 9.90048198e-01 9.91837429e-01 9.93307149e-01\n",
      " 9.94513701e-01 9.95503727e-01 9.96315760e-01 9.96981584e-01\n",
      " 9.97527377e-01 9.97974680e-01 9.98341199e-01 9.98641480e-01\n",
      " 9.98887464e-01 9.99088949e-01 9.99253971e-01 9.99389121e-01\n",
      " 9.99499799e-01 9.99590433e-01 9.99664650e-01 9.99725422e-01\n",
      " 9.99775183e-01 9.99815928e-01 9.99849290e-01 9.99876605e-01\n",
      " 9.99898971e-01 9.99917283e-01 9.99932276e-01 9.99944551e-01\n",
      " 9.99954602e-01]\n"
     ]
    }
   ],
   "source": [
    "y = g(x)\n",
    "print(y)\n"
   ]
  },
  {
   "cell_type": "code",
   "execution_count": 909,
   "metadata": {},
   "outputs": [
    {
     "data": {
      "text/plain": [
       "[<matplotlib.lines.Line2D at 0x218c08ee370>]"
      ]
     },
     "execution_count": 909,
     "metadata": {},
     "output_type": "execute_result"
    },
    {
     "data": {
      "image/png": "[encoded data removed]",
      "text/plain": [
       "<Figure size 640x480 with 1 Axes>"
      ]
     },
     "metadata": {},
     "output_type": "display_data"
    }
   ],
   "source": [
    "plt.plot(y)"
   ]
  },
  {
   "cell_type": "code",
   "execution_count": 910,
   "metadata": {},
   "outputs": [
    {
     "data": {
      "text/html": [
       "<div>\n",
       "<style scoped>\n",
       "    .dataframe tbody tr th:only-of-type {\n",
       "        vertical-align: middle;\n",
       "    }\n",
       "\n",
       "    .dataframe tbody tr th {\n",
       "        vertical-align: top;\n",
       "    }\n",
       "\n",
       "    .dataframe thead th {\n",
       "        text-align: right;\n",
       "    }\n",
       "</style>\n",
       "<table border=\"1\" class=\"dataframe\">\n",
       "  <thead>\n",
       "    <tr style=\"text-align: right;\">\n",
       "      <th></th>\n",
       "      <th>User ID</th>\n",
       "      <th>Gender</th>\n",
       "      <th>Age</th>\n",
       "      <th>EstimatedSalary</th>\n",
       "      <th>Purchased</th>\n",
       "    </tr>\n",
       "  </thead>\n",
       "  <tbody>\n",
       "    <tr>\n",
       "      <th>0</th>\n",
       "      <td>15624510</td>\n",
       "      <td>Male</td>\n",
       "      <td>19</td>\n",
       "      <td>19000</td>\n",
       "      <td>0</td>\n",
       "    </tr>\n",
       "    <tr>\n",
       "      <th>1</th>\n",
       "      <td>15810944</td>\n",
       "      <td>Male</td>\n",
       "      <td>35</td>\n",
       "      <td>20000</td>\n",
       "      <td>0</td>\n",
       "    </tr>\n",
       "    <tr>\n",
       "      <th>2</th>\n",
       "      <td>15668575</td>\n",
       "      <td>Female</td>\n",
       "      <td>26</td>\n",
       "      <td>43000</td>\n",
       "      <td>0</td>\n",
       "    </tr>\n",
       "    <tr>\n",
       "      <th>3</th>\n",
       "      <td>15603246</td>\n",
       "      <td>Female</td>\n",
       "      <td>27</td>\n",
       "      <td>57000</td>\n",
       "      <td>0</td>\n",
       "    </tr>\n",
       "    <tr>\n",
       "      <th>4</th>\n",
       "      <td>15804002</td>\n",
       "      <td>Male</td>\n",
       "      <td>19</td>\n",
       "      <td>76000</td>\n",
       "      <td>0</td>\n",
       "    </tr>\n",
       "  </tbody>\n",
       "</table>\n",
       "</div>"
      ],
      "text/plain": [
       "    User ID  Gender  Age  EstimatedSalary  Purchased\n",
       "0  15624510    Male   19            19000          0\n",
       "1  15810944    Male   35            20000          0\n",
       "2  15668575  Female   26            43000          0\n",
       "3  15603246  Female   27            57000          0\n",
       "4  15804002    Male   19            76000          0"
      ]
     },
     "execution_count": 910,
     "metadata": {},
     "output_type": "execute_result"
    }
   ],
   "source": [
    "data = pd.read_csv('E:/Python/Social_Network_Ads.csv')\n",
    "data.head(5)"
   ]
  },
  {
   "cell_type": "code",
   "execution_count": 911,
   "metadata": {},
   "outputs": [
    {
     "name": "stdout",
     "output_type": "stream",
     "text": [
      "32.793774319066145 46.39160839160839 60544.74708171206 86272.72727272728\n"
     ]
    }
   ],
   "source": [
    "purchased_0 = data.loc[data['Purchased']==0,:]\n",
    "purchased_1 = data.loc[data['Purchased']==1,:]\n",
    "age_0 = purchased_0['Age'].mean()\n",
    "age_1 = purchased_1['Age'].mean()\n",
    "salary_0 = purchased_0['EstimatedSalary'].mean()\n",
    "salary_1 = purchased_1['EstimatedSalary'].mean()\n",
    "print(age_0, age_1,salary_0, salary_1 )"
   ]
  },
  {
   "cell_type": "code",
   "execution_count": 912,
   "metadata": {},
   "outputs": [],
   "source": [
    "x = data.iloc[:,[2,3]].values\n",
    "y = data.iloc[:,-1:].values"
   ]
  },
  {
   "cell_type": "code",
   "execution_count": 913,
   "metadata": {},
   "outputs": [
    {
     "name": "stdout",
     "output_type": "stream",
     "text": [
      "(320, 2) (80, 2)\n",
      "(320, 1) (80, 1)\n"
     ]
    }
   ],
   "source": [
    "from sklearn.model_selection import train_test_split\n",
    "X_train, X_test, y_train, y_test = train_test_split(x, y, test_size = 0.2, random_state=\n",
    "42)\n",
    "print(X_train.shape, X_test.shape)\n",
    "print(y_train.shape, y_test.shape)"
   ]
  },
  {
   "cell_type": "code",
   "execution_count": 914,
   "metadata": {},
   "outputs": [
    {
     "name": "stdout",
     "output_type": "stream",
     "text": [
      "2.3189753465047365 -1.949835834910827\n",
      "2.1712199319080927 -1.949835834910827\n"
     ]
    }
   ],
   "source": [
    "X_mean = X_train.mean(axis=0, keepdims=True)\n",
    "X_std=X_train.std(axis=0,keepdims=True)\n",
    "X_train_scaled = (X_train - X_mean) / X_std\n",
    "X_test_scaled = (X_test - X_mean) / X_std\n",
    "print(X_train_scaled.max(), X_train_scaled.min())\n",
    "print(X_test_scaled.max(), X_test_scaled.min())"
   ]
  },
  {
   "cell_type": "code",
   "execution_count": 916,
   "metadata": {},
   "outputs": [],
   "source": [
    "def predict_prob(X,w):\n",
    "    z = np.dot(X,w.T)\n",
    "    return g(z)\n",
    "def predict(X,w):\n",
    "    y_hat = predict_prob(X,w)\n",
    "    y_hat[y_hat >=0.5] =1\n",
    "    y_hat[y_hat <0.5] =0\n",
    "    return y_hat"
   ]
  },
  {
   "cell_type": "code",
   "execution_count": 917,
   "metadata": {},
   "outputs": [],
   "source": [
    "def loss(X, y, w):\n",
    "    y_hat = predict_prob(X, w)\n",
    "    theta = 1e-4\n",
    "    l = y*np.log(y_hat+theta) + (1-y)*np.log(1-y_hat+theta)\n",
    "    return -np.mean(l)"
   ]
  },
  {
   "cell_type": "code",
   "execution_count": 918,
   "metadata": {},
   "outputs": [],
   "source": [
    "def grad(X, y, w):\n",
    "    y_hat = predict_prob(X, w)\n",
    "    delta = y_hat - y\n",
    "    dw = np.dot(X.T, delta)\n",
    "    return dw.T"
   ]
  },
  {
   "cell_type": "code",
   "execution_count": 919,
   "metadata": {},
   "outputs": [],
   "source": [
    "def batch_generator(X, y, batch_size):\n",
    "    # Chia nhiều batches để huấn luyện\n",
    "    idx = np.arange(X.shape[0])\n",
    "    np.random.shuffle(idx)\n",
    "    n_batch = len(idx) // batch_size\n",
    "    for i in range(n_batch):\n",
    "        i_start = i * batch_size\n",
    "        i_stop = min((i + 1) * batch_size, len(idx))\n",
    "        yield X[idx[i_start:i_stop], :], y[idx[i_start:i_stop],:]"
   ]
  },
  {
   "cell_type": "code",
   "execution_count": 920,
   "metadata": {},
   "outputs": [],
   "source": [
    "def gradient_descent(X, y, lr=0.005, epochs=100, batch_size = 32):\n",
    "    w = np.zeros((1,X.shape[1]))\n",
    "    losses = []\n",
    "    for i in range(epochs):\n",
    "        for X_batch, y_batch in batch_generator(X, y, batch_size):\n",
    "            dw = grad(X_batch, y_batch, w)\n",
    "            w -= lr * dw\n",
    "            a = loss(X, y, w)\n",
    "            losses.append(a)\n",
    "    return losses, w"
   ]
  },
  {
   "cell_type": "code",
   "execution_count": 921,
   "metadata": {},
   "outputs": [],
   "source": [
    "loss,w = gradient_descent(X_train_scaled,y_train)"
   ]
  },
  {
   "cell_type": "code",
   "execution_count": 922,
   "metadata": {},
   "outputs": [
    {
     "data": {
      "text/plain": [
       "[<matplotlib.lines.Line2D at 0x218c09640a0>]"
      ]
     },
     "execution_count": 922,
     "metadata": {},
     "output_type": "execute_result"
    },
    {
     "data": {
      "image/png": "[encoded data removed]",
      "text/plain": [
       "<Figure size 640x480 with 1 Axes>"
      ]
     },
     "metadata": {},
     "output_type": "display_data"
    }
   ],
   "source": [
    "plt.plot(loss)"
   ]
  },
  {
   "cell_type": "code",
   "execution_count": 923,
   "metadata": {},
   "outputs": [],
   "source": [
    "y_hat = predict(X_test_scaled,w)"
   ]
  },
  {
   "cell_type": "code",
   "execution_count": 924,
   "metadata": {},
   "outputs": [],
   "source": [
    "def accuracy(y_true, y_pred):\n",
    "# y_true và y_pred là hai danh sách chứa nhãn thực tế và nhãn dự đoán của các mẫu\n",
    "# Giả sử nhãn Positive là 1 và nhãn Negative là 0\n",
    "    tp = tn = fp = fn = 0 # Khởi tạo các biến đếm\n",
    "    for i in range(len(y_true)): # Duyệt qua từng cặp nhãn\n",
    "        if y_true[i] == 1 and y_pred[i] == 1: # Nếu cả hai nhãn đều là Positive\n",
    "            tp += 1 # Tăng biến tp lên 1\n",
    "        elif y_true[i] == 0 and y_pred[i] == 0: # Nếu cả hai nhãn đều là Negative\n",
    "            tn += 1 # Tăng biến tn lên 1\n",
    "        elif y_true[i] == 0 and y_pred[i] == 1: # Nếu nhãn thực tế là Negative nhưng nhãn dự đoán lại là Positive\n",
    "\n",
    "            fp += 1 # Tăng biến fp lên 1\n",
    "        elif y_true[i] == 1 and y_pred[i] == 0: # Trường hợp còn lại, tức là nhãn thực tế là Positive nhưng nhãn dự đoán lại là Negative\n",
    "            fn += 1 # Tăng biến fn lên 1\n",
    "    print(f\"Accuracy = {(tp+tn)/(tp+tn+fp+fn)}\")\n",
    "    print(f\"Precision = {(tp)/(tp+fp)}\")\n",
    "    print(f\"Recall = {(tp)/(tp+fn)}\")"
   ]
  },
  {
   "cell_type": "code",
   "execution_count": 925,
   "metadata": {},
   "outputs": [
    {
     "name": "stdout",
     "output_type": "stream",
     "text": [
      "Accuracy = 0.9125\n",
      "Precision = 0.8\n",
      "Recall = 1.0\n"
     ]
    }
   ],
   "source": [
    "accuracy(y_test, y_hat)"
   ]
  },
  {
   "cell_type": "code",
   "execution_count": 926,
   "metadata": {},
   "outputs": [],
   "source": [
    "def addBias(X):\n",
    "    bias = np.ones((X.shape[0],1))\n",
    "    X = np.hstack((bias,X))\n",
    "    return X"
   ]
  },
  {
   "cell_type": "code",
   "execution_count": 927,
   "metadata": {},
   "outputs": [],
   "source": [
    "X_train_scaled_bias = addBias(X_train_scaled)\n",
    "X_test_scaled_bias = addBias(X_test_scaled)"
   ]
  },
  {
   "cell_type": "code",
   "execution_count": 928,
   "metadata": {},
   "outputs": [],
   "source": [
    "def loss_l2(X, y, w, alpha):\n",
    "    y_hat = predict_prob(X, w)\n",
    "    theta = 1e-4\n",
    "    l = y*np.log(y_hat+theta) + (1-y)*np.log(1-y_hat+theta)\n",
    "    l2 = alpha * np.sum(w**2)\n",
    "    return -np.mean(l) + l2/(2*X.shape[0])"
   ]
  },
  {
   "cell_type": "code",
   "execution_count": 929,
   "metadata": {},
   "outputs": [],
   "source": [
    "def gradient_descent_l2(X, y, lr=0.005, epochs=100, alpha=1e-2, batch_size = 32):\n",
    "    w = np.zeros((1,X.shape[1]))\n",
    "    losses = []\n",
    "    for i in range(epochs):\n",
    "        for X_batch, y_batch in batch_generator(X, y, batch_size):\n",
    "            dw = grad(X_batch, y_batch, w)\n",
    "            w -= lr * dw\n",
    "            a = loss_l2(X, y, w, alpha)\n",
    "            losses.append(a)\n",
    "    return losses, w"
   ]
  },
  {
   "cell_type": "code",
   "execution_count": 930,
   "metadata": {},
   "outputs": [],
   "source": [
    "loss, w2 = gradient_descent_l2(X_train_scaled_bias, y_train)"
   ]
  },
  {
   "cell_type": "code",
   "execution_count": 931,
   "metadata": {},
   "outputs": [
    {
     "data": {
      "text/plain": [
       "[<matplotlib.lines.Line2D at 0x218c09cef10>]"
      ]
     },
     "execution_count": 931,
     "metadata": {},
     "output_type": "execute_result"
    },
    {
     "data": {
      "image/png": "[encoded data removed]",
      "text/plain": [
       "<Figure size 640x480 with 1 Axes>"
      ]
     },
     "metadata": {},
     "output_type": "display_data"
    }
   ],
   "source": [
    "plt.plot(loss)"
   ]
  },
  {
   "cell_type": "code",
   "execution_count": 932,
   "metadata": {},
   "outputs": [],
   "source": [
    "y_pred2 = predict(X_test_scaled_bias, w2)"
   ]
  },
  {
   "cell_type": "code",
   "execution_count": 933,
   "metadata": {},
   "outputs": [
    {
     "name": "stdout",
     "output_type": "stream",
     "text": [
      "Accuracy = 0.8875\n",
      "Precision = 0.9130434782608695\n",
      "Recall = 0.75\n"
     ]
    }
   ],
   "source": [
    "accuracy(y_test, y_pred2)"
   ]
  },
  {
   "cell_type": "code",
   "execution_count": 934,
   "metadata": {},
   "outputs": [
    {
     "name": "stdout",
     "output_type": "stream",
     "text": [
      "[[45, 7], [0, 28]]\n"
     ]
    }
   ],
   "source": [
    "confusion_matrix = [[0, 0], [0, 0]]\n",
    "for i in range(len(y_test)):\n",
    "    if y_test[i] == 0 and y_hat[i] == 0:\n",
    "        confusion_matrix[0][0] += 1\n",
    "    elif y_test[i] == 0 and y_hat[i] == 1:\n",
    "        confusion_matrix[0][1] += 1\n",
    "    elif y_test[i] == 1 and y_hat[i] == 0:\n",
    "        confusion_matrix[1][0] += 1\n",
    "    elif y_test[i] == 1 and y_hat[i] == 1:\n",
    "        confusion_matrix[1][1] += 1\n",
    "\n",
    "print(confusion_matrix)"
   ]
  },
  {
   "cell_type": "code",
   "execution_count": 935,
   "metadata": {},
   "outputs": [
    {
     "name": "stdout",
     "output_type": "stream",
     "text": [
      "[[50, 2], [7, 21]]\n"
     ]
    }
   ],
   "source": [
    "confusion_matrix = [[0, 0], [0, 0]]\n",
    "for i in range(len(y_test)):\n",
    "    if y_test[i] == 0 and y_pred2[i] == 0:\n",
    "        confusion_matrix[0][0] += 1\n",
    "    elif y_test[i] == 0 and y_pred2[i] == 1:\n",
    "        confusion_matrix[0][1] += 1\n",
    "    elif y_test[i] == 1 and y_pred2[i] == 0:\n",
    "        confusion_matrix[1][0] += 1\n",
    "    elif y_test[i] == 1 and y_pred2[i] == 1:\n",
    "        confusion_matrix[1][1] += 1\n",
    "\n",
    "print(confusion_matrix)"
   ]
  }
 ],
 "metadata": {
  "kernelspec": {
   "display_name": "Python 3",
   "language": "python",
   "name": "python3"
  },
  "language_info": {
   "codemirror_mode": {
    "name": "ipython",
    "version": 3
   },
   "file_extension": ".py",
   "mimetype": "text/x-python",
   "name": "python",
   "nbconvert_exporter": "python",
   "pygments_lexer": "ipython3",
   "version": "3.9.11"
  },
  "orig_nbformat": 4
 },
 "nbformat": 4,
 "nbformat_minor": 2
}
