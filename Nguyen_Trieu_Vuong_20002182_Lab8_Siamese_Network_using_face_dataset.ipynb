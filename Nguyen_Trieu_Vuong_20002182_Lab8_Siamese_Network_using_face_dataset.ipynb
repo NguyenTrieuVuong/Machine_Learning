{
  "cells": [
    {
      "attachments": {},
      "cell_type": "markdown",
      "metadata": {
        "id": "vr1qhE7sRq5a"
      },
      "source": [
        "# **Siamese Network using face dataset**"
      ]
    },
    {
      "cell_type": "code",
      "execution_count": null,
      "metadata": {
        "colab": {
          "base_uri": "https://localhost:8080/"
        },
        "id": "KGd2NnLBsBL0",
        "outputId": "efe7ff31-c37d-422e-d50f-ff316d47925f"
      },
      "outputs": [
        {
          "name": "stdout",
          "output_type": "stream",
          "text": [
            "Mounted at /content/gdrive\n"
          ]
        }
      ],
      "source": [
        "from google.colab import drive\n",
        "drive.mount('/content/gdrive')"
      ]
    },
    {
      "attachments": {},
      "cell_type": "markdown",
      "metadata": {
        "id": "XkzKj4HURw0C"
      },
      "source": [
        "**Load data:**"
      ]
    },
    {
      "cell_type": "code",
      "execution_count": null,
      "metadata": {
        "id": "1ek_tsXBsW7u"
      },
      "outputs": [],
      "source": [
        "!unzip /content/gdrive/Shareddrives/data_face_HUS/data_face_HUS.zip -d \"/content/\""
      ]
    },
    {
      "attachments": {},
      "cell_type": "markdown",
      "metadata": {
        "id": "c1K0iVToRzAW"
      },
      "source": [
        "**Import all neeeded libraries and preprocess**"
      ]
    },
    {
      "cell_type": "code",
      "execution_count": null,
      "metadata": {
        "id": "VeXKzLw6EERn"
      },
      "outputs": [],
      "source": [
        "import os\n",
        "import glob\n",
        "import cv2\n",
        "import numpy as np\n",
        "\n",
        "folder_path = 'data_face_HUS/*/*'\n",
        "\n",
        "# Find all files in subfolders\n",
        "files = glob.glob(folder_path, recursive=True)\n",
        "\n",
        "X_train_label = []\n",
        "X_train_list = []\n",
        "X_test_label = []\n",
        "X_test_list = []\n",
        "for category, files in files.items():\n",
        "    train_list = glob.glob('data_face_HUS/'+category+'/*')\n",
        "    for name in train_list:\n",
        "        img = cv2.imread(name)\n",
        "        img = cv2.resize(img,(96,96))\n",
        "        X_train_list.append(img)\n",
        "        X_train_label.append(category)"
      ]
    },
    {
      "attachments": {},
      "cell_type": "markdown",
      "metadata": {
        "id": "PWPh1MfDSCRU"
      },
      "source": [
        "**Divide into train and test**"
      ]
    },
    {
      "cell_type": "code",
      "execution_count": null,
      "metadata": {
        "id": "iAmzfCIfBoeY"
      },
      "outputs": [],
      "source": [
        "from sklearn.model_selection import train_test_split\n",
        "X_train, X_test, y_train, y_test = train_test_split(X_train, y_train, test_size=0.2, random_state = 42)"
      ]
    },
    {
      "attachments": {},
      "cell_type": "markdown",
      "metadata": {
        "id": "_y4kR8HdSc0s"
      },
      "source": [
        "**Build model CNN**"
      ]
    },
    {
      "cell_type": "code",
      "execution_count": null,
      "metadata": {
        "colab": {
          "base_uri": "https://localhost:8080/"
        },
        "id": "tmvjV9A9EwcB",
        "outputId": "c4d9f45b-ae6f-4868-db3d-787089ceb662"
      },
      "outputs": [
        {
          "name": "stdout",
          "output_type": "stream",
          "text": [
            "Model: \"model_3\"\n",
            "__________________________________________________________________________________________________\n",
            " Layer (type)                   Output Shape         Param #     Connected to                     \n",
            "==================================================================================================\n",
            " input_5 (InputLayer)           [(None, 96, 96, 1)]  0           []                               \n",
            "                                                                                                  \n",
            " input_6 (InputLayer)           [(None, 96, 96, 1)]  0           []                               \n",
            "                                                                                                  \n",
            " model_2 (Functional)           (None, 2)            565682      ['input_5[0][0]',                \n",
            "                                                                  'input_6[0][0]']                \n",
            "                                                                                                  \n",
            " tf.math.subtract_1 (TFOpLambda  (None, 2)           0           ['model_2[0][0]',                \n",
            " )                                                                'model_2[1][0]']                \n",
            "                                                                                                  \n",
            " tf.math.square_1 (TFOpLambda)  (None, 2)            0           ['tf.math.subtract_1[0][0]']     \n",
            "                                                                                                  \n",
            " tf.math.reduce_sum_1 (TFOpLamb  (None, 1)           0           ['tf.math.square_1[0][0]']       \n",
            " da)                                                                                              \n",
            "                                                                                                  \n",
            " tf.math.maximum_1 (TFOpLambda)  (None, 1)           0           ['tf.math.reduce_sum_1[0][0]']   \n",
            "                                                                                                  \n",
            " tf.math.sqrt_1 (TFOpLambda)    (None, 1)            0           ['tf.math.maximum_1[0][0]']      \n",
            "                                                                                                  \n",
            "==================================================================================================\n",
            "Total params: 565,682\n",
            "Trainable params: 565,682\n",
            "Non-trainable params: 0\n",
            "__________________________________________________________________________________________________\n",
            "Model: \"model_2\"\n",
            "_________________________________________________________________\n",
            " Layer (type)                Output Shape              Param #   \n",
            "=================================================================\n",
            " input_4 (InputLayer)        [(None, 96, 96, 1)]       0         \n",
            "                                                                 \n",
            " conv2d_1 (Conv2D)           (None, 94, 94, 8)         80        \n",
            "                                                                 \n",
            " max_pooling2d_1 (MaxPooling  (None, 47, 47, 8)        0         \n",
            " 2D)                                                             \n",
            "                                                                 \n",
            " flatten_1 (Flatten)         (None, 17672)             0         \n",
            "                                                                 \n",
            " dense_2 (Dense)             (None, 32)                565536    \n",
            "                                                                 \n",
            " dense_3 (Dense)             (None, 2)                 66        \n",
            "                                                                 \n",
            "=================================================================\n",
            "Total params: 565,682\n",
            "Trainable params: 565,682\n",
            "Non-trainable params: 0\n",
            "_________________________________________________________________\n"
          ]
        }
      ],
      "source": [
        "from tensorflow.keras.layers import Conv2D, MaxPooling2D, Flatten, Dense, Input\n",
        "from tensorflow.keras.models import Model\n",
        "from tensorflow.keras import backend as K\n",
        "\n",
        "inp = Input(shape=(96,96,1))\n",
        "x = Conv2D(filters = 8, kernel_size = 3, activation = 'relu')(inp)\n",
        "x = MaxPooling2D(pool_size = (2,2))(x)\n",
        "\n",
        "x = Flatten()(x)\n",
        "x = Dense(units = 32, activation = 'relu')(x)\n",
        "x = Dense(units = 2)(x)\n",
        "\n",
        "cnn = Model(inputs = inp, outputs = x)\n",
        "img1 = Input(shape = (96,96,1))\n",
        "img2 = Input(shape = (96,96,1))\n",
        "\n",
        "f1 = cnn(img1)\n",
        "f2 = cnn(img2)\n",
        "\n",
        "d = K.sqrt(K.sum(K.square(f1 - f2),axis = 1, keepdims = True))\n",
        "\n",
        "model = Model(inputs = [img1,img2], outputs = d)\n",
        "model.summary()\n",
        "cnn.summary()\n",
        "\n",
        "def loss(y_true, y_pred):\n",
        "  proba = K.exp(-K.square(y_pred))\n",
        "  return -K.mean(y_true * K.log(proba) + (1-y_true) * K.log(1-proba))\n",
        "\n",
        "def loss1(y_true, y_pred):\n",
        "  return K.mean(y_true * K.square(y_pred) + (1-y_true) * K.square(K.maximum(1.0 - y_pred, 0)))\n",
        "\n",
        "model.compile(optimizer = 'adam', loss = loss1)"
      ]
    },
    {
      "attachments": {},
      "cell_type": "markdown",
      "metadata": {
        "id": "UgGjtUEdSocE"
      },
      "source": [
        "**Make all pairs or other strategies; some innovation here**"
      ]
    },
    {
      "cell_type": "code",
      "execution_count": null,
      "metadata": {
        "colab": {
          "base_uri": "https://localhost:8080/",
          "height": 342
        },
        "id": "soStx1FWHZuy",
        "outputId": "9f04f5e8-fa7c-4688-bb77-01f66ab29623"
      },
      "outputs": [],
      "source": [
        "import numpy as np\n",
        "from matplotlib import pyplot as plt\n",
        "\n",
        "def generator(X,y,k = 8):\n",
        "  unique_labels = np.unique(y)\n",
        "\n",
        "  while True:\n",
        "    X1 = []\n",
        "    X2 = []\n",
        "    y_batch = []\n",
        "    for label in unique_labels:\n",
        "      label_idx = np.where(y == label)[0]\n",
        "      other_labels = set(unique_labels) - {label}\n",
        "\n",
        "      for i in range(k):\n",
        "        i1 = np.random.choice(label_idx)\n",
        "        i2 = np.random.choice(label_idx)\n",
        "        # i1 must be different from i2\n",
        "        # while i1 == i2:\n",
        "        #   i2 = np.random.choice(label_idx)\n",
        "        # create positive example\n",
        "        X1.append(X[i1][:,:,None])\n",
        "        X2.append(X[i2][:,:,None])\n",
        "        y_batch.append(1.0)\n",
        "\n",
        "        # create negative example\n",
        "        i1 = np.random.choice(label_idx)\n",
        "        my_label = np.random.choice(list(other_labels))\n",
        "        i2 = np.random.choice(list(np.where(y == my_label)[0]))\n",
        "        X1.append(X[i1][:,:,None])\n",
        "        X2.append(X[i2][:,:,None])\n",
        "        y_batch.append(0.0)\n",
        "    yield [np.array(X1) / 255., np.array(X2) / 255.], np.array(y_batch)\n",
        "\n",
        "# For testing\n",
        "for pair, y in generator(X_test, y_test):\n",
        "  print('Batch size: ', len(y))\n",
        "  idx = np.random.choice(range(len(y)))\n",
        "  print(pair[0][idx].shape)\n",
        "  print('Pair label:', y[idx])\n",
        "  plt.subplot(121)\n",
        "  plt.imshow(pair[0][idx].reshape(96,96), cmap = 'gray')\n",
        "  plt.subplot(122)\n",
        "  plt.imshow(pair[1][idx].reshape(96,96), cmap = 'gray')\n",
        "\n",
        "  break"
      ]
    },
    {
      "attachments": {},
      "cell_type": "markdown",
      "metadata": {
        "id": "u9MFlxa9Srla"
      },
      "source": [
        "**Fit model**"
      ]
    },
    {
      "cell_type": "code",
      "execution_count": null,
      "metadata": {
        "colab": {
          "base_uri": "https://localhost:8080/"
        },
        "id": "1HBX7T9mKTIL",
        "outputId": "4dc9595e-0447-4a45-959c-56f159a180da"
      },
      "outputs": [],
      "source": [
        "history = model.fit(generator(X_train, y_train, k = 32),\n",
        "                    steps_per_epoch = 5,\n",
        "                    epochs = 500,\n",
        "                    validation_data = generator(X_test, y_test, k = 8),\n",
        "                    validation_steps = 5)"
      ]
    },
    {
      "attachments": {},
      "cell_type": "markdown",
      "metadata": {
        "id": "hDm_B-fLSuoN"
      },
      "source": [
        "**Visualize learning process**"
      ]
    },
    {
      "cell_type": "code",
      "execution_count": null,
      "metadata": {
        "colab": {
          "base_uri": "https://localhost:8080/",
          "height": 472
        },
        "id": "Gt5_T1jsOU7f",
        "outputId": "cd149f9c-c05e-4a79-99cd-f48ff8bed172"
      },
      "outputs": [],
      "source": [
        "plt.plot(history.history['loss'], label = 'Train', c = 'b')\n",
        "plt.plot(history.history['val_loss'], label = 'Validation', c = 'r')\n",
        "plt.legend()\n",
        "plt.xlabel('Epoch', fontsize = 16)\n",
        "plt.ylabel('Loss', fontsize = 16)"
      ]
    },
    {
      "cell_type": "code",
      "execution_count": null,
      "metadata": {
        "colab": {
          "base_uri": "https://localhost:8080/",
          "height": 377
        },
        "id": "LPHbthSaOzpk",
        "outputId": "8e0af89b-389b-424f-c7ef-3dd2e4c91446"
      },
      "outputs": [
        {
          "name": "stdout",
          "output_type": "stream",
          "text": [
            "27/27 [==============================] - 0s 5ms/step\n",
            "Batch_size:  848\n",
            "Pair label: 1.0\n",
            "Distance: [0.]\n",
            "Distance by features: [0.]\n"
          ]
        },
        {
          "data": {
            "image/png": "[encoded data removed]",
            "text/plain": [
              "<Figure size 640x480 with 2 Axes>"
            ]
          },
          "metadata": {},
          "output_type": "display_data"
        }
      ],
      "source": [
        "for pair, y in generator(X_test, y_test):\n",
        "  y_pred = model.predict(pair)\n",
        "  print('Batch_size: ', len(y))\n",
        "  idx = np.random.choice(range(len(y)))\n",
        "  print('Pair label:', y[idx])\n",
        "  print('Distance:', y_pred[idx])\n",
        "\n",
        "  f1 = cnn(pair[0])\n",
        "  f2 = cnn(pair[1])\n",
        "  d = np.sqrt(np.sum((f1-f2)**2,axis = 1, keepdims = True))\n",
        "  print('Distance by features:', d[idx])\n",
        "\n",
        "  plt.subplot(121)\n",
        "  plt.imshow(pair[0][idx].reshape(96,96),cmap = 'gray')\n",
        "  plt.subplot(122)\n",
        "  plt.imshow(pair[1][idx].reshape(96,96),cmap = 'gray')\n",
        "  break"
      ]
    },
    {
      "attachments": {},
      "cell_type": "markdown",
      "metadata": {
        "id": "N9PFbbM1S4KP"
      },
      "source": [
        "**Visualize new feature space**"
      ]
    },
    {
      "cell_type": "code",
      "execution_count": null,
      "metadata": {
        "colab": {
          "base_uri": "https://localhost:8080/",
          "height": 1000
        },
        "id": "rvlhpW2rRRMg",
        "outputId": "5a002abf-17c7-4ad2-e950-af660f45aa85"
      },
      "outputs": [],
      "source": [
        "f = cnn.predict(X_test/255.)\n",
        "p = plt.scatter(f[:,0],f[:,1], c = y_test, s=1)\n",
        "plt.colorbar(p)"
      ]
    },
    {
      "attachments": {},
      "cell_type": "markdown",
      "metadata": {
        "id": "c_GpHJ-3S-SO"
      },
      "source": [
        "**Save model**"
      ]
    },
    {
      "cell_type": "code",
      "execution_count": null,
      "metadata": {
        "colab": {
          "base_uri": "https://localhost:8080/"
        },
        "id": "d1z8ySVNRoyW",
        "outputId": "a7d42199-d3dc-4ad9-e53e-7961d528317f"
      },
      "outputs": [
        {
          "name": "stderr",
          "output_type": "stream",
          "text": [
            "WARNING:tensorflow:Compiled the loaded model, but the compiled metrics have yet to be built. `model.compile_metrics` will be empty until you train or evaluate the model.\n"
          ]
        }
      ],
      "source": [
        "cnn.save('cnn_loss1.h5')"
      ]
    },
    {
      "attachments": {},
      "cell_type": "markdown",
      "metadata": {
        "id": "Dj7V7Ev3TAg7"
      },
      "source": [
        "**Load model and test**"
      ]
    },
    {
      "cell_type": "code",
      "execution_count": null,
      "metadata": {
        "colab": {
          "base_uri": "https://localhost:8080/",
          "height": 1000
        },
        "id": "ixWPqfncRsVr",
        "outputId": "c208b36a-928b-4fe8-cd1d-c9284391a405"
      },
      "outputs": [],
      "source": [
        "from tensorflow.keras.models import load_model\n",
        "m = load_model('cnn_loss1.h5')\n",
        "\n",
        "f1 = m.predict(X_test / 255.)\n",
        "p = plt.scatter(f1[:,0],f1[:,1],c=y_test,s=1)\n",
        "plt.colorbar(p)"
      ]
    },
    {
      "attachments": {},
      "cell_type": "markdown",
      "metadata": {
        "id": "-D_5y0fXTDGK"
      },
      "source": [
        "**Visualize negative distance and positive distance**"
      ]
    },
    {
      "cell_type": "code",
      "execution_count": null,
      "metadata": {
        "id": "Ve9TX8IUStM8"
      },
      "outputs": [],
      "source": [
        "i = 0\n",
        "y_true = []\n",
        "y_pred = []\n",
        "for pair,y in generator(X_test,y_test):\n",
        "  f1 = cnn(pair[0])\n",
        "  f2 = cnn(pair[1])\n",
        "  d = np.sqrt(np.sum((f1 - f2)**2, axis = 1, keepdims = True))\n",
        "  y_pred +=list(d.ravel())\n",
        "  y_true +=list(y)\n",
        "  i+=1\n",
        "  if i>500:\n",
        "    break"
      ]
    },
    {
      "attachments": {},
      "cell_type": "markdown",
      "metadata": {
        "id": "_pGIOrgCTGzk"
      },
      "source": [
        "**Plot histogram**"
      ]
    },
    {
      "cell_type": "code",
      "execution_count": null,
      "metadata": {
        "colab": {
          "base_uri": "https://localhost:8080/",
          "height": 604
        },
        "id": "Bme_3CCdTTmt",
        "outputId": "2f0b573c-5e1b-4808-f28c-79e2827f4824"
      },
      "outputs": [
        {
          "data": {
            "text/plain": [
              "(array([0.02634509, 0.10031626, 0.17699612, 0.22444551, 0.25864591,\n",
              "        0.28979592, 0.26608888, 0.25474781, 0.22733087, 0.17763216,\n",
              "        0.15015638, 0.11891207, 0.0917426 , 0.05465692, 0.03801606,\n",
              "        0.02003263, 0.01449747, 0.00660688, 0.00369797, 0.00104815]),\n",
              " array([0.01694522, 0.41667154, 0.81639785, 1.21612418, 1.61585057,\n",
              "        2.01557684, 2.41530323, 2.81502962, 3.21475577, 3.61448216,\n",
              "        4.01420832, 4.41393471, 4.8136611 , 5.21338749, 5.61311388,\n",
              "        6.01284027, 6.41256666, 6.81229258, 7.21201897, 7.61174536,\n",
              "        8.01147175]),\n",
              " <BarContainer object of 20 artists>)"
            ]
          },
          "execution_count": 18,
          "metadata": {},
          "output_type": "execute_result"
        },
        {
          "data": {
            "image/png": "[encoded data removed]",
            "text/plain": [
              "<Figure size 640x480 with 1 Axes>"
            ]
          },
          "metadata": {},
          "output_type": "display_data"
        }
      ],
      "source": [
        "y_pred = np.array(y_pred)\n",
        "y_true = np.array(y_true)\n",
        "\n",
        "positive_distances = y_pred[y_true == 1]\n",
        "negative_distances = y_pred[y_true == 0]\n",
        "\n",
        "plt.hist(positive_distances, color = 'r', density = True, bins = 20)\n",
        "plt.hist(negative_distances, color = 'b', density = True, bins = 20)"
      ]
    },
    {
      "attachments": {},
      "cell_type": "markdown",
      "metadata": {
        "id": "XX_1wPYFTJiU"
      },
      "source": [
        "**Check report using sklearn**"
      ]
    },
    {
      "cell_type": "code",
      "execution_count": null,
      "metadata": {
        "colab": {
          "base_uri": "https://localhost:8080/"
        },
        "id": "p-c-GOHBTvq1",
        "outputId": "4011974d-a314-4cf8-c51e-8535345bdef7"
      },
      "outputs": [
        {
          "name": "stdout",
          "output_type": "stream",
          "text": [
            "              precision    recall  f1-score   support\n",
            "\n",
            "         0.0       0.80      0.98      0.88    212424\n",
            "         1.0       0.98      0.75      0.85    212424\n",
            "\n",
            "    accuracy                           0.87    424848\n",
            "   macro avg       0.89      0.87      0.87    424848\n",
            "weighted avg       0.89      0.87      0.87    424848\n",
            "\n"
          ]
        }
      ],
      "source": [
        "thresh = 0.5\n",
        "y_pred_ = y_pred < thresh\n",
        "y_pred_.astype('uint8')\n",
        "from sklearn.metrics import classification_report\n",
        "print(classification_report(y_true, y_pred_))"
      ]
    }
  ],
  "metadata": {
    "accelerator": "GPU",
    "colab": {
      "gpuType": "T4",
      "provenance": []
    },
    "gpuClass": "standard",
    "kernelspec": {
      "display_name": "Python 3",
      "name": "python3"
    },
    "language_info": {
      "name": "python"
    }
  },
  "nbformat": 4,
  "nbformat_minor": 0
}
