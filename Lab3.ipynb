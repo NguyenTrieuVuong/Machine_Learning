{
  "cells": [
    {
      "cell_type": "code",
      "execution_count": 3,
      "metadata": {
        "id": "Lkd0Lxv516-K"
      },
      "outputs": [],
      "source": [
        "import os\n",
        "import cv2\n",
        "import numpy as np\n",
        "import pandas as pd\n",
        "from matplotlib import pyplot as plt\n",
        "import glob"
      ]
    },
    {
      "cell_type": "code",
      "execution_count": 4,
      "metadata": {
        "colab": {
          "base_uri": "https://localhost:8080/"
        },
        "id": "3w4OariD5EHv",
        "outputId": "24ff4f22-fe31-4107-88de-2d4feadef28d"
      },
      "outputs": [
        {
          "name": "stdout",
          "output_type": "stream",
          "text": [
            "12500\n"
          ]
        },
        {
          "data": {
            "text/plain": [
              "12500"
            ]
          },
          "execution_count": 4,
          "metadata": {},
          "output_type": "execute_result"
        }
      ],
      "source": [
        "name_list = glob.glob('dogs-vs-cats/test1/cat*')\n",
        "print(len(name_list))\n",
        "\n",
        "X = []\n",
        "name_label = []\n",
        "\n",
        "for name in name_list:\n",
        "  name_label.append(0)\n",
        "\n",
        "  img = cv2.imread(name)\n",
        "  img = cv2.cvtColor(img, cv2.COLOR_BGR2GRAY)\n",
        "  img = cv2.resize(img, (64,64))\n",
        "\n",
        "  X.append((img))\n",
        "\n",
        "len(X)"
      ]
    },
    {
      "cell_type": "code",
      "execution_count": 5,
      "metadata": {
        "colab": {
          "base_uri": "https://localhost:8080/"
        },
        "id": "b4kU3hU36l0K",
        "outputId": "bb540286-19b3-434b-dead-ad2135f7f1ec"
      },
      "outputs": [
        {
          "name": "stdout",
          "output_type": "stream",
          "text": [
            "12500\n"
          ]
        },
        {
          "data": {
            "text/plain": [
              "25000"
            ]
          },
          "execution_count": 5,
          "metadata": {},
          "output_type": "execute_result"
        }
      ],
      "source": [
        "name_list = glob.glob('dogs-vs-cats/test1/dog*')\n",
        "print(len(name_list))\n",
        "\n",
        "for name in name_list:\n",
        "  name_label.append(1)\n",
        "\n",
        "  img = cv2.imread(name)\n",
        "  img = cv2.cvtColor(img, cv2.COLOR_BGR2GRAY)\n",
        "  img = cv2.resize(img, (64,64))\n",
        "\n",
        "  X.append((img))\n",
        "  \n",
        "len(X)"
      ]
    },
    {
      "cell_type": "code",
      "execution_count": 6,
      "metadata": {
        "colab": {
          "base_uri": "https://localhost:8080/"
        },
        "id": "HBs7hSh5_Kjt",
        "outputId": "93c88587-5e39-428f-eae1-5488f13fce67"
      },
      "outputs": [
        {
          "name": "stdout",
          "output_type": "stream",
          "text": [
            "(25000, 64, 64)\n",
            "(25000,)\n"
          ]
        }
      ],
      "source": [
        "X = np.array(X)\n",
        "y = np.array(name_label)\n",
        "\n",
        "print(X.shape)\n",
        "print(y.shape)"
      ]
    },
    {
      "cell_type": "code",
      "execution_count": 7,
      "metadata": {
        "colab": {
          "base_uri": "https://localhost:8080/"
        },
        "id": "vUozijo4_X25",
        "outputId": "64fb4bcf-dad4-4bc3-d79e-a633639261eb"
      },
      "outputs": [
        {
          "name": "stdout",
          "output_type": "stream",
          "text": [
            "(20000, 64, 64) (5000, 64, 64)\n",
            "(20000,) (5000,)\n"
          ]
        }
      ],
      "source": [
        "# Split the dataset into train set and test set\n",
        "from sklearn.model_selection import train_test_split\n",
        "X_train, X_test, y_train, y_test = train_test_split(X, y, test_size = 0.2, random_state=42)\n",
        "print(X_train.shape, X_test.shape)\n",
        "print(y_train.shape, y_test.shape)"
      ]
    },
    {
      "cell_type": "code",
      "execution_count": 8,
      "metadata": {
        "colab": {
          "base_uri": "https://localhost:8080/"
        },
        "id": "wdY0BLdB_7F4",
        "outputId": "8f9f2d85-e5bb-49e7-b677-7eae0ac05a78"
      },
      "outputs": [
        {
          "name": "stdout",
          "output_type": "stream",
          "text": [
            "(20000, 4096)\n",
            "(5000, 4096)\n"
          ]
        }
      ],
      "source": [
        "X_train_scaled = np.array([x.ravel()/255. for x in X_train])\n",
        "X_test_scaled = np.array([x.ravel()/255. for x in X_test])\n",
        "\n",
        "print(X_train_scaled.shape)\n",
        "print(X_test_scaled.shape)"
      ]
    },
    {
      "cell_type": "code",
      "execution_count": 9,
      "metadata": {
        "id": "eLE6gPZCMVbL"
      },
      "outputs": [],
      "source": [
        "y_train_scaled = np.array([y for y in y_train])\n",
        "y_test_scaled = np.array([y for y in y_test])"
      ]
    },
    {
      "cell_type": "code",
      "execution_count": 10,
      "metadata": {
        "id": "qY5Kg5TVD02l"
      },
      "outputs": [],
      "source": [
        "# sigmoid function\n",
        "g = lambda z : np.exp(z) / (1+np.exp(z))\n",
        "\n",
        "def predict_prob(X,w):\n",
        "  z = np.dot(X,w)\n",
        "  a = g(z)\n",
        "  return a\n",
        "def predict(X,w):\n",
        "  y_hat = predict_prob(X,w)\n",
        "  y_hat[y_hat >=0.5] =1\n",
        "  y_hat[y_hat <0.5] =0\n",
        "  return y_hat\n",
        "# loss function\n",
        "def loss(X,y,w):\n",
        "  y_hat = predict_prob(X,w)\n",
        "  l = y*np.log(y_hat) + (1-y)*np.log(1-y_hat)\n",
        "  return -np.mean(l)"
      ]
    },
    {
      "cell_type": "code",
      "execution_count": 11,
      "metadata": {
        "id": "lg2WNx6pEKiQ"
      },
      "outputs": [],
      "source": [
        "# gradient\n",
        "def grad(X,y,w):\n",
        "  y_hat = predict_prob(X,w)\n",
        "  delta = y_hat - y\n",
        "  dw = np.dot(X.T,delta)\n",
        "  return dw"
      ]
    },
    {
      "cell_type": "code",
      "execution_count": 12,
      "metadata": {
        "id": "m8ZOyIzVEoXE"
      },
      "outputs": [],
      "source": [
        "def gradient_descent(X,y,lr = 1e-7, epochs = 2000):\n",
        "  w = np.zeros((X.shape[1],1))\n",
        "  losses = []\n",
        "  for i in range(epochs):\n",
        "    dw = grad(X,y,w)\n",
        "    w -= lr*dw\n",
        "    a = loss(X,y,w)\n",
        "    losses.append(a)\n",
        "  return losses,w"
      ]
    },
    {
      "cell_type": "code",
      "execution_count": 14,
      "metadata": {
        "colab": {
          "base_uri": "https://localhost:8080/",
          "height": 447
        },
        "id": "DhQLruAlEz6d",
        "outputId": "8529c75b-e4db-4f17-c042-5de6f783ee3e"
      },
      "outputs": [
        {
          "data": {
            "text/plain": [
              "[<matplotlib.lines.Line2D at 0x7fa95f195ee0>]"
            ]
          },
          "execution_count": 14,
          "metadata": {},
          "output_type": "execute_result"
        },
        {
          "data": {
            "image/png": "[encoded data removed]",
            "text/plain": [
              "<Figure size 640x480 with 1 Axes>"
            ]
          },
          "metadata": {},
          "output_type": "display_data"
        }
      ],
      "source": [
        "loss,w = gradient_descent(X_train_scaled,np.array([y_train_scaled]).T)\n",
        "plt.plot(loss)"
      ]
    },
    {
      "cell_type": "code",
      "execution_count": 16,
      "metadata": {
        "id": "7yQ3692rUu5U"
      },
      "outputs": [],
      "source": [
        "y_hat = predict(X_test_scaled,w)"
      ]
    },
    {
      "cell_type": "markdown",
      "metadata": {
        "id": "otOWnUxXu-Gn"
      },
      "source": [
        "## **Đánh giá mô hình: accuracy, recall, f1_score**"
      ]
    },
    {
      "cell_type": "code",
      "execution_count": 17,
      "metadata": {
        "id": "IaEN1kQrVcwT"
      },
      "outputs": [],
      "source": [
        "def evaluation(y_true, y_pred):\n",
        "    tp = tn = fp = fn = 0 \n",
        "    for i in range(len(y_true)):\n",
        "        if y_true[i] == 1 and y_pred[i] == 1: \n",
        "            tp += 1 \n",
        "        elif y_true[i] == 0 and y_pred[i] == 0: \n",
        "            tn += 1 \n",
        "        elif y_true[i] == 0 and y_pred[i] == 1: \n",
        "            fp += 1 \n",
        "        elif y_true[i] == 1 and y_pred[i] == 0:\n",
        "            fn += 1\n",
        "    \n",
        "    accuracy = (tp+tn)/(tp+tn+fp+fn)\n",
        "    precision = (tp)/(tp+fp)\n",
        "    recall = (tp)/(tp+fn)\n",
        "    f1_score = 2*precision*recall/(precision+recall)\n",
        "    print(f\"Accuracy = {accuracy}\")\n",
        "    print(f\"Precision = {precision}\")\n",
        "    print(f\"Recall = {recall}\")\n",
        "    print(f\"F1 Score = {f1_score}\")"
      ]
    },
    {
      "cell_type": "code",
      "execution_count": 18,
      "metadata": {
        "colab": {
          "base_uri": "https://localhost:8080/"
        },
        "id": "LywnSoZyVfCf",
        "outputId": "af5d0af8-417c-4141-8789-ae20eded8811"
      },
      "outputs": [
        {
          "name": "stdout",
          "output_type": "stream",
          "text": [
            "Accuracy = 0.5694\n",
            "Precision = 0.5639445300462249\n",
            "Recall = 0.5891348088531188\n",
            "F1 Score = 0.5762645148592797\n"
          ]
        }
      ],
      "source": [
        "evaluation(y_test, y_hat)"
      ]
    },
    {
      "cell_type": "markdown",
      "metadata": {
        "id": "l4L8WYdnvBgc"
      },
      "source": [
        "## **Khởi tạo hàm batch_generator để chia nhỏ dữ liệu khi train trên từng epochs.**"
      ]
    },
    {
      "cell_type": "code",
      "execution_count": 19,
      "metadata": {
        "id": "muZKXmwjTpDo"
      },
      "outputs": [],
      "source": [
        "import numpy as np\n",
        "\n",
        "def batch_generator(X, y, batch_size):\n",
        "    \n",
        "    m = X.shape[0]  # số lượng mẫu dữ liệu\n",
        "    batches = []  # khởi tạo list chứa các batch\n",
        "    \n",
        "    # chia dữ liệu thành các batch\n",
        "    for i in range(0, m, batch_size):\n",
        "        X_batch = X[i:i+batch_size, :]\n",
        "        y_batch = y[i:i+batch_size]\n",
        "        batch = (X_batch, y_batch)\n",
        "        batches.append(batch)\n",
        "    \n",
        "    return batches\n"
      ]
    },
    {
      "cell_type": "code",
      "execution_count": 35,
      "metadata": {
        "id": "bbs90AkVtX6a"
      },
      "outputs": [],
      "source": [
        "y_hat = predict(X_test_scaled,w)"
      ]
    },
    {
      "cell_type": "code",
      "execution_count": 36,
      "metadata": {
        "colab": {
          "base_uri": "https://localhost:8080/"
        },
        "id": "XB8Tx5UgtcI2",
        "outputId": "3ee26f24-17d5-44e7-f11d-527a1d846054"
      },
      "outputs": [
        {
          "name": "stdout",
          "output_type": "stream",
          "text": [
            "Accuracy = 0.5696\n",
            "Precision = 0.5641124374278013\n",
            "Recall = 0.5895372233400402\n",
            "F1 Score = 0.5765446674537583\n"
          ]
        }
      ],
      "source": [
        "evaluation(y_test, y_hat)"
      ]
    }
  ],
  "metadata": {
    "colab": {
      "provenance": []
    },
    "gpuClass": "standard",
    "kernelspec": {
      "display_name": "Python 3",
      "name": "python3"
    },
    "language_info": {
      "name": "python",
      "version": "3.9.11"
    }
  },
  "nbformat": 4,
  "nbformat_minor": 0
}
