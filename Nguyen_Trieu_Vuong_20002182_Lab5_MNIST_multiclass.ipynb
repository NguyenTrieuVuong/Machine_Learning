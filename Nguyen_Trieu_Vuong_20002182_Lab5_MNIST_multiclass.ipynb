{
  "nbformat": 4,
  "nbformat_minor": 0,
  "metadata": {
    "colab": {
      "provenance": [],
      "gpuType": "T4"
    },
    "kernelspec": {
      "name": "python3",
      "display_name": "Python 3"
    },
    "language_info": {
      "name": "python"
    },
    "gpuClass": "standard"
  },
  "cells": [
    {
      "cell_type": "markdown",
      "source": [
        "## **Import thư viện và data**"
      ],
      "metadata": {
        "id": "O7D0SMcRrQvW"
      }
    },
    {
      "cell_type": "code",
      "execution_count": 18,
      "metadata": {
        "id": "wD6qArM3dQjS"
      },
      "outputs": [],
      "source": [
        "from keras.datasets import mnist\n",
        "import numpy as np\n",
        "from matplotlib import pyplot as plt\n",
        "import seaborn as sn"
      ]
    },
    {
      "cell_type": "markdown",
      "source": [
        "## **Load data và preprocessing**"
      ],
      "metadata": {
        "id": "5EbgOx7crbMz"
      }
    },
    {
      "cell_type": "code",
      "source": [
        "(X_train, y_train), (X_test, y_test) = mnist.load_data()"
      ],
      "metadata": {
        "id": "PA52XelqrdRd"
      },
      "execution_count": 19,
      "outputs": []
    },
    {
      "cell_type": "code",
      "source": [
        "print(y_train[0])\n",
        "plt.imshow(X_train[0],cmap = 'gray')"
      ],
      "metadata": {
        "colab": {
          "base_uri": "https://localhost:8080/",
          "height": 465
        },
        "id": "WTZMxs3ZnyVB",
        "outputId": "be250d00-54d0-46d8-d0ec-9dbc724f2331"
      },
      "execution_count": 20,
      "outputs": [
        {
          "output_type": "stream",
          "name": "stdout",
          "text": [
            "5\n"
          ]
        },
        {
          "output_type": "execute_result",
          "data": {
            "text/plain": [
              "<matplotlib.image.AxesImage at 0x7f1161e7ed60>"
            ]
          },
          "metadata": {},
          "execution_count": 20
        },
        {
          "output_type": "display_data",
          "data": {
            "text/plain": [
              "<Figure size 640x480 with 1 Axes>"
            ],
            "image/png": "[encoded data removed]"
          },
          "metadata": {}
        }
      ]
    },
    {
      "cell_type": "markdown",
      "source": [
        "## **Duỗi vector, chuẩn hoá input**"
      ],
      "metadata": {
        "id": "Pl-wt34hrk5q"
      }
    },
    {
      "cell_type": "code",
      "source": [
        "X_train_scaled = np.array([x.ravel()/255. for x in X_train])\n",
        "\n",
        "X_test_scaled = np.array([x.ravel()/255. for x in X_test])\n",
        "\n",
        "print(X_train_scaled.shape)"
      ],
      "metadata": {
        "colab": {
          "base_uri": "https://localhost:8080/"
        },
        "id": "x6Y9tfa-oXXY",
        "outputId": "3d87364e-e00e-447c-af32-8db5acf55a64"
      },
      "execution_count": 21,
      "outputs": [
        {
          "output_type": "stream",
          "name": "stdout",
          "text": [
            "(60000, 784)\n"
          ]
        }
      ]
    },
    {
      "cell_type": "markdown",
      "source": [
        "## **Chuẩn hoá output**"
      ],
      "metadata": {
        "id": "ULq7z0EhrnKc"
      }
    },
    {
      "cell_type": "code",
      "source": [
        "classes = np.unique(y_train)\n",
        "\n",
        "y_train_onehot = np.zeros((len(y_train), len(classes)))\n",
        "for i in range(len(y_train)):\n",
        "    y_train_onehot[i, y_train[i]] = 1\n",
        "\n",
        "y_test_onehot = np.zeros((len(y_test), len(classes)))\n",
        "for i in range(len(y_test)):\n",
        "    y_test_onehot[i, y_test[i]] = 1\n",
        "print(y_train.shape)\n",
        "print(y_train_onehot.shape)"
      ],
      "metadata": {
        "colab": {
          "base_uri": "https://localhost:8080/"
        },
        "id": "1rOAn6sOqWRr",
        "outputId": "645d5551-6fb4-4cf8-d95e-0d8160a88b0f"
      },
      "execution_count": 22,
      "outputs": [
        {
          "output_type": "stream",
          "name": "stdout",
          "text": [
            "(60000,)\n",
            "(60000, 10)\n"
          ]
        }
      ]
    },
    {
      "cell_type": "markdown",
      "source": [
        "# **Huấn luyện dữ liệu**"
      ],
      "metadata": {
        "id": "QCPFQkNcsMoH"
      }
    },
    {
      "cell_type": "code",
      "source": [
        "def predict(X,w):\n",
        "  h = np.dot(X,w)\n",
        "  softmax = np.exp(h)\n",
        "  y_pred = softmax/np.sum(softmax, axis = 1, keepdims = True)\n",
        "  return y_pred\n",
        "def loss(X,w,y):\n",
        "  y_pred = predict(X,w)\n",
        "  return -np.sum(y*np.log(y_pred))/y.shape[0]\n",
        "def grad(X,w,y):\n",
        "  y_pred = predict(X,w)\n",
        "  delta = y_pred - y\n",
        "  return np.dot(X.T,delta)/X.shape[0]\n",
        "def gradient_descent(X,y,lr = 0.1, epochs = 500):\n",
        "  w = np.zeros((X.shape[1], y.shape[1]))\n",
        "  losses = []\n",
        "  for i in range(epochs):\n",
        "    w-= lr*grad(X,w,y)\n",
        "    l = loss(X,w,y)\n",
        "    losses.append(l)\n",
        "  print(f'Loss cross entropy: {loss(X,w,y)}')\n",
        "  return losses, w"
      ],
      "metadata": {
        "id": "cWCC6_QJvJYw"
      },
      "execution_count": 23,
      "outputs": []
    },
    {
      "cell_type": "code",
      "source": [
        "print(X_train_scaled.shape)\n",
        "print(y_train_onehot.shape)"
      ],
      "metadata": {
        "colab": {
          "base_uri": "https://localhost:8080/"
        },
        "id": "a_nH1pfHz5Wi",
        "outputId": "b5d772e7-60f0-483f-dbb5-ead8fabc3b97"
      },
      "execution_count": 24,
      "outputs": [
        {
          "output_type": "stream",
          "name": "stdout",
          "text": [
            "(60000, 784)\n",
            "(60000, 10)\n"
          ]
        }
      ]
    },
    {
      "cell_type": "markdown",
      "source": [
        "### **Tính loss**"
      ],
      "metadata": {
        "id": "QXgvHdt17ok-"
      }
    },
    {
      "cell_type": "code",
      "source": [
        "losses, w = gradient_descent(X_train_scaled,y_train_onehot)"
      ],
      "metadata": {
        "colab": {
          "base_uri": "https://localhost:8080/"
        },
        "id": "9NBm_EOrxNMQ",
        "outputId": "81f39c77-dd89-4914-afa3-b7cdbbc22265"
      },
      "execution_count": 25,
      "outputs": [
        {
          "output_type": "stream",
          "name": "stdout",
          "text": [
            "Loss cross entropy: 0.3968000714633671\n"
          ]
        }
      ]
    },
    {
      "cell_type": "markdown",
      "source": [
        "### **Vẽ đồ thị Loss ban đầu**"
      ],
      "metadata": {
        "id": "YXKksqXxsSSS"
      }
    },
    {
      "cell_type": "code",
      "source": [
        "plt.plot(losses)\n",
        "plt.xlabel(\"epochs\")\n",
        "plt.ylabel(\"loss\")"
      ],
      "metadata": {
        "colab": {
          "base_uri": "https://localhost:8080/",
          "height": 466
        },
        "id": "jUP3-Y_0ToQs",
        "outputId": "b32b5513-caac-4a08-edf5-ea871e44384c"
      },
      "execution_count": 26,
      "outputs": [
        {
          "output_type": "execute_result",
          "data": {
            "text/plain": [
              "Text(0, 0.5, 'loss')"
            ]
          },
          "metadata": {},
          "execution_count": 26
        },
        {
          "output_type": "display_data",
          "data": {
            "text/plain": [
              "<Figure size 640x480 with 1 Axes>"
            ],
            "image/png": "[encoded data removed]"
          },
          "metadata": {}
        }
      ]
    },
    {
      "cell_type": "code",
      "source": [
        "# Tính y dự đoán\n",
        "y_pred_onehot = predict(X_test_scaled, w)\n",
        "# Tìm y dự đoán sao cho mô hình hiệu quả nhất\n",
        "y_pred = np.argmax(y_pred_onehot, axis=1)"
      ],
      "metadata": {
        "id": "fzB86e2nPzTj"
      },
      "execution_count": 27,
      "outputs": []
    },
    {
      "cell_type": "markdown",
      "source": [
        "## **Hàm đánh giá**"
      ],
      "metadata": {
        "id": "ctLVaiWusZYP"
      }
    },
    {
      "cell_type": "code",
      "source": [
        "def evaluation(y_test, y_pred):\n",
        "    # Calculate accuracy\n",
        "    accuracy = np.mean(y_pred == y_test)\n",
        "\n",
        "    # Calculate precision and recall for each class\n",
        "    precision = np.zeros(len(classes))\n",
        "    recall = np.zeros(len(classes))\n",
        "    for i in range(len(classes)):\n",
        "        tp = np.sum((y_pred == i) & (y_test == i))\n",
        "        tn = np.sum((y_pred != i) & (y_test != i))\n",
        "        fp = np.sum((y_pred == i) & (y_test != i))\n",
        "        fn = np.sum((y_pred != i) & (y_test == i))\n",
        "    precision = tp / (tp + fp) if (tp + fp) != 0 else 0\n",
        "    recall = tp / (tp + fn) if (tp + fn) != 0 else 0\n",
        "\n",
        "    # Calculate macro-averaged precision and recall\n",
        "    macro_precision = np.mean(precision)\n",
        "    macro_recall = np.mean(recall)\n",
        "    print(f'tp = {tp}, tn = {tn}, fp = {fp}, fn = {fn}')\n",
        "    print(f'Accuracy: {accuracy}, Precision: {macro_precision}, Recall: {macro_recall}')\n"
      ],
      "metadata": {
        "id": "2N8UTNgrSjFG"
      },
      "execution_count": 28,
      "outputs": []
    },
    {
      "cell_type": "markdown",
      "source": [
        "### **Đánh giá accuracy, recall, precision**"
      ],
      "metadata": {
        "id": "FdGnlOydsdng"
      }
    },
    {
      "cell_type": "code",
      "source": [
        "evaluation(y_test, y_pred)"
      ],
      "metadata": {
        "colab": {
          "base_uri": "https://localhost:8080/"
        },
        "id": "S8y_FfYSPYaN",
        "outputId": "cb49a69a-9259-4456-e272-dd288d1c265e"
      },
      "execution_count": 29,
      "outputs": [
        {
          "output_type": "stream",
          "name": "stdout",
          "text": [
            "tp = 879, tn = 8856, fp = 135, fn = 130\n",
            "Accuracy: 0.9, Precision: 0.8668639053254438, Recall: 0.8711595639246779\n"
          ]
        }
      ]
    },
    {
      "cell_type": "markdown",
      "source": [
        "# **Hàm LogisticRegression, có bổ sung bias**"
      ],
      "metadata": {
        "id": "7mB-1AGgsj1z"
      }
    },
    {
      "cell_type": "code",
      "source": [
        "class LogisticRegression:\n",
        "    def __init__(self, lr = 1e-6, epochs = 1000):\n",
        "        self.lr = lr\n",
        "        self.epochs = epochs\n",
        "    # Hàm thêm bias vào tập X\n",
        "    def addBias(self,X):\n",
        "        bias = np.ones((X.shape[0],1))\n",
        "        X = np.hstack((bias,X));\n",
        "        return X\n",
        "    # Hàm sigmoid\n",
        "    def predict(self,X,w):\n",
        "        h = np.dot(X,w)\n",
        "        softmax = np.exp(h)\n",
        "        y_pred = softmax/np.sum(softmax, axis = 1, keepdims = True)\n",
        "        return y_pred\n",
        "    # Hàm loss\n",
        "    def loss(self,X,w,y):\n",
        "        y_pred = self.predict(X,w)\n",
        "        return -np.sum(y*np.log(y_pred))/y.shape[0]\n",
        "    # Hàm gradient\n",
        "    def grad(self,X,w,y):\n",
        "        y_pred = self.predict(X,w)\n",
        "        delta = y_pred - y\n",
        "        return np.dot(X.T,delta)/X.shape[0]\n",
        "    # Hàm gradient descent\n",
        "    def gradient_descent(self,X,y,lr = 0.1, epochs = 500):\n",
        "        w = np.zeros((X.shape[1], y.shape[1]))\n",
        "        losses = []\n",
        "        for i in range(epochs):\n",
        "          w-= lr*self.grad(X,w,y)\n",
        "          l = self.loss(X,w,y)\n",
        "          losses.append(l)\n",
        "        print(f'Loss cross entropy: {self.loss(X,w,y)}')\n",
        "        return losses, w"
      ],
      "metadata": {
        "id": "e_aJ3iz3gfQT"
      },
      "execution_count": 30,
      "outputs": []
    },
    {
      "cell_type": "markdown",
      "source": [
        "### **Tính loss sau khi thêm bias**"
      ],
      "metadata": {
        "id": "W8P0kPC67wiF"
      }
    },
    {
      "cell_type": "code",
      "source": [
        "model = LogisticRegression()\n",
        "X_train_scaled_bias = model.addBias(X_train_scaled)\n",
        "X_test_scaled_bias = model.addBias(X_test_scaled)\n",
        "loss,w = model.gradient_descent(X_train_scaled_bias,y_train_onehot)"
      ],
      "metadata": {
        "colab": {
          "base_uri": "https://localhost:8080/"
        },
        "id": "0nsx-zT3gj3a",
        "outputId": "1626a1b6-7b99-47af-9701-e59072542edf"
      },
      "execution_count": 31,
      "outputs": [
        {
          "output_type": "stream",
          "name": "stdout",
          "text": [
            "Loss cross entropy: 0.39325027810607716\n"
          ]
        }
      ]
    },
    {
      "cell_type": "code",
      "source": [
        "# Tính y dự đoán\n",
        "y_pred = model.predict(X_test_scaled_bias,w)\n",
        "# Tìm y dự đoán sao cho mô hình hiệu quả nhất\n",
        "y_pred = np.argmax(y_pred_onehot, axis=1)"
      ],
      "metadata": {
        "id": "69uVIM9Vj8wq"
      },
      "execution_count": 32,
      "outputs": []
    },
    {
      "cell_type": "markdown",
      "source": [
        "# **Đánh giá mô hình sau khi thêm bias**"
      ],
      "metadata": {
        "id": "s5zM5gJIsp0A"
      }
    },
    {
      "cell_type": "code",
      "source": [
        "evaluation(y_test,y_pred)"
      ],
      "metadata": {
        "colab": {
          "base_uri": "https://localhost:8080/"
        },
        "id": "EIy8GbJFkRKk",
        "outputId": "4c78db95-6a4a-4c17-9e3a-b66c370390a1"
      },
      "execution_count": 33,
      "outputs": [
        {
          "output_type": "stream",
          "name": "stdout",
          "text": [
            "tp = 879, tn = 8856, fp = 135, fn = 130\n",
            "Accuracy: 0.9, Precision: 0.8668639053254438, Recall: 0.8711595639246779\n"
          ]
        }
      ]
    },
    {
      "cell_type": "markdown",
      "source": [
        "## **Vẽ confusion matrix dùng thư viện sklearn**\n",
        "\n"
      ],
      "metadata": {
        "id": "DH3s4Uwqsre_"
      }
    },
    {
      "cell_type": "code",
      "source": [
        "import sklearn.metrics\n",
        "\n",
        "# Tạo confusion matrix\n",
        "cm = sklearn.metrics.confusion_matrix(y_test, y_pred)\n",
        "\n",
        "# Vẽ confusion matrix\n",
        "plt.figure()\n",
        "sn.heatmap(cm, annot=True, fmt='d', cmap='Blues')\n",
        "plt.title('Confusion Matrix')\n",
        "plt.xlabel('Predicted')\n",
        "plt.ylabel('True')\n",
        "plt.show()"
      ],
      "metadata": {
        "colab": {
          "base_uri": "https://localhost:8080/",
          "height": 472
        },
        "id": "_NQtC1eak1Pu",
        "outputId": "589dfc62-8a7c-4a6a-bc2d-d8d8d62ba4bf"
      },
      "execution_count": 34,
      "outputs": [
        {
          "output_type": "display_data",
          "data": {
            "text/plain": [
              "<Figure size 640x480 with 2 Axes>"
            ],
            "image/png": "[encoded data removed]"
          },
          "metadata": {}
        }
      ]
    }
  ]
}