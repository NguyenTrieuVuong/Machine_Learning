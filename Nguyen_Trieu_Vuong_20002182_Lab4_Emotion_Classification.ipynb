{
  "nbformat": 4,
  "nbformat_minor": 0,
  "metadata": {
    "colab": {
      "provenance": []
    },
    "kernelspec": {
      "name": "python3",
      "display_name": "Python 3"
    },
    "language_info": {
      "name": "python"
    }
  },
  "cells": [
    {
      "cell_type": "markdown",
      "source": [
        "##**Tải data vào colab**"
      ],
      "metadata": {
        "id": "eKcgdyzxmriL"
      }
    },
    {
      "cell_type": "code",
      "execution_count": 31,
      "metadata": {
        "colab": {
          "base_uri": "https://localhost:8080/"
        },
        "id": "_U7jdQk-W9wg",
        "outputId": "db5fa39f-c57b-4445-ee66-267548c46c06"
      },
      "outputs": [
        {
          "output_type": "stream",
          "name": "stdout",
          "text": [
            "Drive already mounted at /content/gdrive; to attempt to forcibly remount, call drive.mount(\"/content/gdrive\", force_remount=True).\n"
          ]
        }
      ],
      "source": [
        "from google.colab import drive\n",
        "drive.mount('/content/gdrive')"
      ]
    },
    {
      "cell_type": "code",
      "source": [
        "!unzip /content/gdrive/Shareddrives/nhan_dien_dac_diem_khuon_mat/emotions_data.zip -d \"/content/\""
      ],
      "metadata": {
        "colab": {
          "base_uri": "https://localhost:8080/"
        },
        "id": "bIDHZ5npaQl_",
        "outputId": "952b7a11-2691-45ea-e03c-366486d5e9be"
      },
      "execution_count": 32,
      "outputs": [
        {
          "output_type": "stream",
          "name": "stdout",
          "text": [
            "Archive:  /content/gdrive/Shareddrives/nhan_dien_dac_diem_khuon_mat/emotions_data.zip\n",
            "replace /content/images/images/train/angry/0.jpg? [y]es, [n]o, [A]ll, [N]one, [r]ename: N\n"
          ]
        }
      ]
    },
    {
      "cell_type": "markdown",
      "source": [
        "## **Import thư viện**"
      ],
      "metadata": {
        "id": "HpANGfolmhy7"
      }
    },
    {
      "cell_type": "code",
      "source": [
        "import glob\n",
        "import numpy as np\n",
        "from matplotlib import pyplot as plt\n",
        "import pandas as pd\n",
        "import cv2\n",
        "import seaborn as sn"
      ],
      "metadata": {
        "id": "IvVPsUxnaFDG"
      },
      "execution_count": 33,
      "outputs": []
    },
    {
      "cell_type": "markdown",
      "source": [
        "## **Load data và preprocessing**"
      ],
      "metadata": {
        "id": "Y2zIuBcnmRrJ"
      }
    },
    {
      "cell_type": "code",
      "source": [
        "train_dir = '/content/images/train'\n",
        "test_dir = '/content/images/validation'\n",
        "categories = [\"happy\", \"fear\"]\n",
        "img_size = 50"
      ],
      "metadata": {
        "id": "IJVfQ4vINuvd"
      },
      "execution_count": 34,
      "outputs": []
    },
    {
      "cell_type": "code",
      "source": [
        "X_train_label = []\n",
        "X_train_list = []\n",
        "X_test_label = []\n",
        "X_test_list = []"
      ],
      "metadata": {
        "id": "wZHmajkXLZ1L"
      },
      "execution_count": 75,
      "outputs": []
    },
    {
      "cell_type": "markdown",
      "source": [
        "*- Tập train*"
      ],
      "metadata": {
        "id": "pLqXNxHPOmQu"
      }
    },
    {
      "cell_type": "code",
      "source": [
        "happy_train_list = glob.glob(train_dir+\"/\"+categories[0]+\"/*\")\n",
        "fear_train_list = glob.glob(train_dir+\"/\"+categories[1]+\"/*\")\n",
        "for name in happy_train_list:\n",
        "  X_train_label.append(0)\n",
        "  img = cv2.imread(name)\n",
        "  img = cv2.cvtColor(img,cv2.COLOR_BGR2GRAY)\n",
        "  img = cv2.resize(img,(img_size,img_size))\n",
        "  X_train_list.append((img))\n",
        "for name in fear_train_list:\n",
        "  X_train_label.append(1)\n",
        "  img = cv2.imread(name)\n",
        "  img = cv2.cvtColor(img,cv2.COLOR_BGR2GRAY)\n",
        "  img = cv2.resize(img,(img_size,img_size))\n",
        "  X_train_list.append((img))"
      ],
      "metadata": {
        "id": "oXwFSPt3a4XO"
      },
      "execution_count": 76,
      "outputs": []
    },
    {
      "cell_type": "markdown",
      "source": [
        "*- Tập test*"
      ],
      "metadata": {
        "id": "7nV0L0tAOt-J"
      }
    },
    {
      "cell_type": "code",
      "source": [
        "happy_test_list = glob.glob(test_dir+\"/\"+categories[0]+\"/*\")\n",
        "fear_test_list = glob.glob(test_dir+\"/\"+categories[1]+\"/*\")\n",
        "for name in happy_test_list:\n",
        "  X_test_label.append(0)\n",
        "  img = cv2.imread(name)\n",
        "  img = cv2.cvtColor(img,cv2.COLOR_BGR2GRAY)\n",
        "  img = cv2.resize(img,(img_size,img_size))\n",
        "  X_test_list.append((img))\n",
        "for name in fear_test_list:\n",
        "  X_test_label.append(1)\n",
        "  img = cv2.imread(name)\n",
        "  img = cv2.cvtColor(img,cv2.COLOR_BGR2GRAY)\n",
        "  img = cv2.resize(img,(img_size,img_size))\n",
        "  X_test_list.append((img))"
      ],
      "metadata": {
        "id": "pXeSQ67ZdGtA"
      },
      "execution_count": 77,
      "outputs": []
    },
    {
      "cell_type": "markdown",
      "source": [
        "## **Chia dữ liệu thành tập train và test**"
      ],
      "metadata": {
        "id": "z_Qb4nmZOqto"
      }
    },
    {
      "cell_type": "code",
      "source": [
        "X_train = np.array(X_train_list)\n",
        "y_train = np.array(X_train_label)\n",
        "\n",
        "print(X_train.shape)\n",
        "print(y_train.shape)"
      ],
      "metadata": {
        "colab": {
          "base_uri": "https://localhost:8080/"
        },
        "id": "VRFW-st2eB4y",
        "outputId": "33dcd089-5417-45b5-8e98-d6a34d2a9bff"
      },
      "execution_count": 78,
      "outputs": [
        {
          "output_type": "stream",
          "name": "stdout",
          "text": [
            "(11267, 50, 50)\n",
            "(11267,)\n"
          ]
        }
      ]
    },
    {
      "cell_type": "code",
      "source": [
        "X_test = np.array(X_test_list)\n",
        "y_test = np.array(X_test_label)\n",
        "\n",
        "print(X_test.shape)\n",
        "print(y_test.shape)"
      ],
      "metadata": {
        "colab": {
          "base_uri": "https://localhost:8080/"
        },
        "id": "P5w1D3QHOiyR",
        "outputId": "00d65fc9-bb24-4416-c8fe-1542265f1f87"
      },
      "execution_count": 79,
      "outputs": [
        {
          "output_type": "stream",
          "name": "stdout",
          "text": [
            "(2843, 50, 50)\n",
            "(2843,)\n"
          ]
        }
      ]
    },
    {
      "cell_type": "markdown",
      "source": [
        "## **Duỗi vector, chuẩn hoá input**"
      ],
      "metadata": {
        "id": "1WHavAglmEtA"
      }
    },
    {
      "cell_type": "code",
      "source": [
        "X_train_scaled = np.array([x.ravel()/255. for x in X_train])\n",
        "X_test_scaled = np.array([x.ravel()/255. for x in X_test])\n",
        "\n",
        "print(X_train_scaled.shape)\n",
        "print(X_test_scaled.shape)"
      ],
      "metadata": {
        "id": "-ogsyhEJk3ZY",
        "colab": {
          "base_uri": "https://localhost:8080/"
        },
        "outputId": "2723e454-c0ee-434d-ee1d-1ea845e86f02"
      },
      "execution_count": 80,
      "outputs": [
        {
          "output_type": "stream",
          "name": "stdout",
          "text": [
            "(11267, 2500)\n",
            "(2843, 2500)\n"
          ]
        }
      ]
    },
    {
      "cell_type": "markdown",
      "source": [
        "## **Chuẩn hoá output**"
      ],
      "metadata": {
        "id": "MQ_rU6-HmBMa"
      }
    },
    {
      "cell_type": "code",
      "source": [
        "y_train_scaled = np.array([y for y in y_train])\n",
        "y_test_scaled = np.array([y for y in y_test])\n",
        "print(y_train_scaled.shape)"
      ],
      "metadata": {
        "colab": {
          "base_uri": "https://localhost:8080/"
        },
        "id": "B1t87vd98-6E",
        "outputId": "5993072e-77d0-498e-86c4-58a1abca15bc"
      },
      "execution_count": 81,
      "outputs": [
        {
          "output_type": "stream",
          "name": "stdout",
          "text": [
            "(11267,)\n"
          ]
        }
      ]
    },
    {
      "cell_type": "code",
      "source": [
        "# Hàm sigmoid\n",
        "def g(z):\n",
        "  z = np.float64(z)\n",
        "  return np.exp(z)/(1+np.exp(z))\n",
        "# Hàm xác suất dự đoán\n",
        "def predict_prob(X,w):\n",
        "  z = np.dot(X,w)\n",
        "  a = g(z)\n",
        "  return a\n",
        "# Hàm dự đoán binary\n",
        "def predict(X,w):\n",
        "  y_hat = predict_prob(X,w)\n",
        "  y_hat[y_hat >=0.5] =1\n",
        "  y_hat[y_hat <0.5]=0\n",
        "  return y_hat\n",
        "# Hàm loss\n",
        "def loss(X,y,w):\n",
        "  y_hat = predict_prob(X,w)\n",
        "  theta=1e-4\n",
        "  l = y*np.log(y_hat+theta) + (1-y)*np.log(1-y_hat+theta)\n",
        "  return -np.mean(l)"
      ],
      "metadata": {
        "id": "TFr3w5O7m7MY"
      },
      "execution_count": 42,
      "outputs": []
    },
    {
      "cell_type": "code",
      "source": [
        "# Hàm gradient\n",
        "def grad(X,y,w):\n",
        "  y_hat = predict_prob(X,w)\n",
        "  delta = y_hat - y\n",
        "  dw = np.dot(X.T,delta)\n",
        "  return dw"
      ],
      "metadata": {
        "id": "dbiTdoGX5Y46"
      },
      "execution_count": 43,
      "outputs": []
    },
    {
      "cell_type": "code",
      "source": [
        "# Hàm gradient descent\n",
        "def gradient_descent(X,y,lr =1e-7,epochs = 5000):\n",
        "  w = np.zeros((X.shape[1],1))\n",
        "  losses = []\n",
        "  for i in range(epochs):\n",
        "    dw = grad(X,y,w)\n",
        "    w -= lr*dw\n",
        "    a = loss(X,y,w)\n",
        "    losses.append(a)\n",
        "  return losses,w"
      ],
      "metadata": {
        "id": "4nmTLlUV5okf"
      },
      "execution_count": 44,
      "outputs": []
    },
    {
      "cell_type": "code",
      "source": [
        "print(X_train_scaled)\n",
        "# print(np.array([y_train]).T)\n",
        "print(np.array([y_train_scaled]).T)\n",
        "print(X_train_scaled.shape)\n",
        "print(np.array([y_train_scaled]).T.shape)"
      ],
      "metadata": {
        "colab": {
          "base_uri": "https://localhost:8080/"
        },
        "id": "Wx2RAUhf6I0p",
        "outputId": "83e4c45e-efec-4300-94ce-56bf5697fc62"
      },
      "execution_count": 45,
      "outputs": [
        {
          "output_type": "stream",
          "name": "stdout",
          "text": [
            "[[0.49019608 0.61960784 0.6745098  ... 0.45490196 0.42745098 0.41176471]\n",
            " [0.86666667 0.85490196 0.85098039 ... 0.38823529 0.42352941 0.4627451 ]\n",
            " [0.67843137 0.78431373 0.78431373 ... 0.45882353 0.41960784 0.36470588]\n",
            " ...\n",
            " [0.82745098 0.82745098 0.82745098 ... 0.05098039 0.03921569 0.05098039]\n",
            " [0.6        0.61960784 0.6        ... 0.26666667 0.27058824 0.27843137]\n",
            " [0.36862745 0.44313725 0.51372549 ... 0.05882353 0.02745098 0.02745098]]\n",
            "[[0]\n",
            " [0]\n",
            " [0]\n",
            " ...\n",
            " [1]\n",
            " [1]\n",
            " [1]]\n",
            "(11267, 2500)\n",
            "(11267, 1)\n"
          ]
        }
      ]
    },
    {
      "cell_type": "markdown",
      "source": [
        "### **Vẽ đồ thị Loss ban đầu**"
      ],
      "metadata": {
        "id": "6W2EgzAkkOwF"
      }
    },
    {
      "cell_type": "code",
      "source": [
        "loss,w = gradient_descent(X_train_scaled,np.array([y_train_scaled]).T)"
      ],
      "metadata": {
        "id": "3ucRuP8K6XkG"
      },
      "execution_count": 16,
      "outputs": []
    },
    {
      "cell_type": "code",
      "source": [
        "plt.plot(loss)\n",
        "plt.xlabel(\"epochs\")\n",
        "plt.ylabel(\"loss\")"
      ],
      "metadata": {
        "colab": {
          "base_uri": "https://localhost:8080/",
          "height": 466
        },
        "id": "eevHdoJYaLh8",
        "outputId": "f3a244d3-8024-41e1-eed0-3c60cdd84708"
      },
      "execution_count": 17,
      "outputs": [
        {
          "output_type": "execute_result",
          "data": {
            "text/plain": [
              "Text(0, 0.5, 'loss')"
            ]
          },
          "metadata": {},
          "execution_count": 17
        },
        {
          "output_type": "display_data",
          "data": {
            "text/plain": [
              "<Figure size 640x480 with 1 Axes>"
            ],
            "image/png": "[encoded data removed]"
          },
          "metadata": {}
        }
      ]
    },
    {
      "cell_type": "code",
      "source": [
        "# Tính y dự đoán\n",
        "y_hat = predict(X_test_scaled,w)"
      ],
      "metadata": {
        "id": "X8ldOD3wHTKF"
      },
      "execution_count": 18,
      "outputs": []
    },
    {
      "cell_type": "markdown",
      "source": [
        "## **Hàm đánh giá**"
      ],
      "metadata": {
        "id": "hUXoRY0qlumQ"
      }
    },
    {
      "cell_type": "code",
      "source": [
        "def evaluation(y_true, y_pred):\n",
        "    tp = tn = fp = fn = 0 \n",
        "    # So sánh y_true và y_pred\n",
        "    for i in range(len(y_true)):\n",
        "        if y_true[i] == 1 and y_pred[i] == 1: \n",
        "            tp += 1 \n",
        "        elif y_true[i] == 0 and y_pred[i] == 0: \n",
        "            tn += 1 \n",
        "        elif y_true[i] == 0 and y_pred[i] == 1: \n",
        "            fp += 1 \n",
        "        elif y_true[i] == 1 and y_pred[i] == 0: \n",
        "            fn += 1 \n",
        "    \n",
        "    accuracy = (tp+tn)/(tp+tn+fp+fn)\n",
        "    precision = (tp)/(tp+fp)\n",
        "    recall = (tp)/(tp+fn)\n",
        "    f1_score = 2*precision*recall/(precision+recall)\n",
        "    # Tính true positive, true negative, false positive, false negative\n",
        "    print(f\"tp = {tp}, tn = {tn}, fp = {fp}, fn = {fn}\")\n",
        "    # Tính Accuracy, Precision, Recall, F1 score\n",
        "    print(f\"Accuracy = {accuracy}\")\n",
        "    print(f\"Precision = {precision}\")\n",
        "    print(f\"Recall = {recall}\")\n",
        "    print(f\"F1 Score = {f1_score}\")"
      ],
      "metadata": {
        "id": "1SOeyH_WIHCs"
      },
      "execution_count": 19,
      "outputs": []
    },
    {
      "cell_type": "markdown",
      "source": [
        "### **Đánh giá accuracy, recall, precision, f1-score**"
      ],
      "metadata": {
        "id": "ET8DgAjPlAWr"
      }
    },
    {
      "cell_type": "code",
      "source": [
        "evaluation(y_test, y_hat)"
      ],
      "metadata": {
        "id": "AZWABe1tIJDp",
        "colab": {
          "base_uri": "https://localhost:8080/"
        },
        "outputId": "75694fc4-fe45-4c7a-a9ac-812904f01db3"
      },
      "execution_count": 20,
      "outputs": [
        {
          "output_type": "stream",
          "name": "stdout",
          "text": [
            "tp = 369, tn = 1661, fp = 164, fn = 649\n",
            "Accuracy = 0.7140344706296166\n",
            "Precision = 0.6923076923076923\n",
            "Recall = 0.362475442043222\n",
            "F1 Score = 0.4758220502901353\n"
          ]
        }
      ]
    },
    {
      "cell_type": "markdown",
      "source": [
        "# **Ứng dụng phương pháp regularization L2 vào mô hình**"
      ],
      "metadata": {
        "id": "LZyaiZJWk5X6"
      }
    },
    {
      "cell_type": "code",
      "source": [
        "# Hàm sigmoid\n",
        "def g(z):\n",
        "    z = np.float64(z)\n",
        "    return np.exp(z)/(1+np.exp(z))\n",
        "# Hàm xác suất dự đoán\n",
        "def predict_prob(X, w):\n",
        "    z = np.dot(X, w)\n",
        "    a = g(z)\n",
        "    return a\n",
        "# Hàm dự đoán binary\n",
        "def predict(X, w):\n",
        "    y_hat = predict_prob(X, w)\n",
        "    y_hat[y_hat >= 0.5] = 1\n",
        "    y_hat[y_hat < 0.5] = 0\n",
        "    return y_hat\n",
        "# Hàm loss, có bổ sung L2 regularization\n",
        "def loss(X, y, w, lambda_):\n",
        "    y_hat = predict_prob(X, w)\n",
        "    theta = 1e-4\n",
        "    l = y*np.log(y_hat+theta) + (1-y)*np.log(1-y_hat+theta)\n",
        "    l2 = lambda_ * np.sum(w**2)\n",
        "    return -np.mean(l) + l2/(2*X.shape[0])\n",
        "# Hàm gradient, có bổ sung L2 regularization\n",
        "def grad(X, y, w, lambda_):\n",
        "    y_hat = predict_prob(X, w)\n",
        "    delta = y_hat - y\n",
        "    dw = np.dot(X.T, delta)\n",
        "    return dw\n",
        "# Hàm gradient descent\n",
        "def gradient_descent(X, y, lr=1e-7, epochs=5000, lambda_=1e-3):\n",
        "    w = np.zeros((X.shape[1], 1))\n",
        "    losses = []\n",
        "    for i in range(epochs):\n",
        "        dw = grad(X, y, w, lambda_)\n",
        "        w -= lr * dw\n",
        "        a = loss(X, y, w, lambda_)\n",
        "        losses.append(a)\n",
        "    return losses, w"
      ],
      "metadata": {
        "id": "Z2hI7vCQt_VV"
      },
      "execution_count": 21,
      "outputs": []
    },
    {
      "cell_type": "markdown",
      "source": [
        "### **Vẽ đồ thị Loss mới**"
      ],
      "metadata": {
        "id": "RF-jVJZOkIsA"
      }
    },
    {
      "cell_type": "code",
      "source": [
        "loss,w = gradient_descent(X_train_scaled,np.array([y_train_scaled]).T)"
      ],
      "metadata": {
        "id": "cuCNMEtuaCRU"
      },
      "execution_count": 22,
      "outputs": []
    },
    {
      "cell_type": "code",
      "source": [
        "plt.plot(loss)\n",
        "plt.xlabel(\"epochs\")\n",
        "plt.ylabel(\"loss\")"
      ],
      "metadata": {
        "id": "oqewNF1OuMKL",
        "colab": {
          "base_uri": "https://localhost:8080/",
          "height": 466
        },
        "outputId": "c753f2a9-1856-4f5c-c0b8-f3e3d4683f5c"
      },
      "execution_count": 23,
      "outputs": [
        {
          "output_type": "execute_result",
          "data": {
            "text/plain": [
              "Text(0, 0.5, 'loss')"
            ]
          },
          "metadata": {},
          "execution_count": 23
        },
        {
          "output_type": "display_data",
          "data": {
            "text/plain": [
              "<Figure size 640x480 with 1 Axes>"
            ],
            "image/png": "[encoded data removed]"
          },
          "metadata": {}
        }
      ]
    },
    {
      "cell_type": "code",
      "source": [
        "# Tính y dự đoán\n",
        "y_hat = predict(X_test_scaled,w)"
      ],
      "metadata": {
        "id": "-juczTnkuOeH"
      },
      "execution_count": 24,
      "outputs": []
    },
    {
      "cell_type": "markdown",
      "source": [
        "### **Đánh giá accuracy, recall, precision, f1-score**"
      ],
      "metadata": {
        "id": "KZv1Z6u3kYS9"
      }
    },
    {
      "cell_type": "code",
      "source": [
        "evaluation(y_test, y_hat)"
      ],
      "metadata": {
        "id": "0yWPB5iuuR57",
        "colab": {
          "base_uri": "https://localhost:8080/"
        },
        "outputId": "0d6813ec-9c83-4d00-8f1f-6feb4ee8b1a7"
      },
      "execution_count": 25,
      "outputs": [
        {
          "output_type": "stream",
          "name": "stdout",
          "text": [
            "tp = 369, tn = 1661, fp = 164, fn = 649\n",
            "Accuracy = 0.7140344706296166\n",
            "Precision = 0.6923076923076923\n",
            "Recall = 0.362475442043222\n",
            "F1 Score = 0.4758220502901353\n"
          ]
        }
      ]
    },
    {
      "cell_type": "markdown",
      "source": [
        "## **Vẽ confusion matrix dùng thư viện sklearn**\n",
        "\n"
      ],
      "metadata": {
        "id": "oqky6DLEU_oM"
      }
    },
    {
      "cell_type": "code",
      "source": [
        "import sklearn.metrics\n",
        "\n",
        "# Tạo confusion matrix\n",
        "cm = sklearn.metrics.confusion_matrix(y_test, y_hat)\n",
        "\n",
        "# Vẽ confusion matrix\n",
        "plt.figure()\n",
        "sn.heatmap(cm, annot=True, fmt='d', cmap='Blues')\n",
        "plt.title('Confusion Matrix')\n",
        "plt.xlabel('Predicted')\n",
        "plt.ylabel('True')\n",
        "plt.show()"
      ],
      "metadata": {
        "id": "xM1obt-gSnEs",
        "colab": {
          "base_uri": "https://localhost:8080/",
          "height": 472
        },
        "outputId": "fcd91476-6fd8-4659-a10e-3ab9dfeab18b"
      },
      "execution_count": 26,
      "outputs": [
        {
          "output_type": "display_data",
          "data": {
            "text/plain": [
              "<Figure size 640x480 with 2 Axes>"
            ],
            "image/png": "[encoded data removed]"
          },
          "metadata": {}
        }
      ]
    },
    {
      "cell_type": "markdown",
      "source": [
        "## **Code và thực thi hàm batch_generator tối ưu hàm loss**"
      ],
      "metadata": {
        "id": "0H6XTk8IOby4"
      }
    },
    {
      "cell_type": "code",
      "source": [
        "def batch_generator(X, y, batch_size):\n",
        "    # Chia nhiều batches để huấn luyện\n",
        "    idx = np.arange(X.shape[0])\n",
        "    np.random.shuffle(idx)\n",
        "\n",
        "    n_batch = len(idx) // batch_size\n",
        "    for i in range(n_batch):\n",
        "        i_start = i * batch_size\n",
        "        i_stop = min((i + 1) * batch_size, len(idx))\n",
        "        yield X[idx[i_start:i_stop], :], y[idx[i_start:i_stop],:]\n",
        "\n",
        "# Hàm sigmoid\n",
        "def g(z):\n",
        "    z = np.float64(z)\n",
        "    return np.exp(z) / (1 + np.exp(z))\n",
        "\n",
        "# Hàm xác suất dự đoán\n",
        "def predict_prob(X, w):\n",
        "    z = np.dot(X, w)\n",
        "    a = g(z)\n",
        "    return a\n",
        "\n",
        "# Hàm dự đoán binary\n",
        "def predict(X, w):\n",
        "    y_hat = predict_prob(X, w)\n",
        "    y_hat[y_hat >= 0.5] = 1\n",
        "    y_hat[y_hat < 0.5] = 0\n",
        "    return y_hat\n",
        "\n",
        "# Hàm loss, có bổ sung L2 regularization\n",
        "def loss(X, y, w, lambda_):\n",
        "    y_hat = predict_prob(X, w)\n",
        "    theta = 1e-4\n",
        "    l = y*np.log(y_hat+theta) + (1-y)*np.log(1-y_hat+theta)\n",
        "    l2 = lambda_ * np.sum(w**2)\n",
        "    return -np.mean(l) + l2/(2*X.shape[0])\n",
        "\n",
        "# Hàm gradient\n",
        "def grad(X, y, w, lambda_):\n",
        "    y_hat = predict_prob(X, w)\n",
        "    delta = y_hat - y\n",
        "    dw = np.dot(X.T, delta)\n",
        "    return dw\n",
        "\n",
        "# Hàm gradient descent\n",
        "def gradient_descent(X, y, lr=1e-6, epochs=1000, lambda_=0.1):\n",
        "    w = np.zeros((X.shape[1], 1))\n",
        "    losses = []\n",
        "    for i in range(epochs):\n",
        "        for X_batch, y_batch in batch_generator(X, y, batch_size):\n",
        "            dw = grad(X_batch, y_batch, w, lambda_)\n",
        "            w -= lr * dw\n",
        "        a = loss(X, y, w, lambda_)\n",
        "        losses.append(a)\n",
        "        # print(losses[-1])\n",
        "    return losses, w\n",
        "\n",
        "batch_size = 100\n",
        "lr = 1e-7\n",
        "epochs =5000\n",
        "lambda_ = 0.1\n",
        "losses, weight = gradient_descent(X_train_scaled, np.array([y_train_scaled]).T, lr, epochs, lambda_)\n",
        "\n",
        "print(\"Final loss:\", losses[-1])"
      ],
      "metadata": {
        "id": "uBnz7B_jOctb",
        "colab": {
          "base_uri": "https://localhost:8080/"
        },
        "outputId": "837951be-7ea2-4c83-d949-3535f6e5ff8e"
      },
      "execution_count": 27,
      "outputs": [
        {
          "output_type": "stream",
          "name": "stdout",
          "text": [
            "Final loss: 0.5788001336834812\n"
          ]
        }
      ]
    },
    {
      "cell_type": "code",
      "source": [
        "plt.plot(losses)\n",
        "plt.xlabel(\"epoch\")\n",
        "plt.ylabel(\"loss\")"
      ],
      "metadata": {
        "id": "_fJMIcI3UlLv",
        "colab": {
          "base_uri": "https://localhost:8080/",
          "height": 466
        },
        "outputId": "e9018e68-d341-44f7-baed-24ec6a214aba"
      },
      "execution_count": 28,
      "outputs": [
        {
          "output_type": "execute_result",
          "data": {
            "text/plain": [
              "Text(0, 0.5, 'loss')"
            ]
          },
          "metadata": {},
          "execution_count": 28
        },
        {
          "output_type": "display_data",
          "data": {
            "text/plain": [
              "<Figure size 640x480 with 1 Axes>"
            ],
            "image/png": "[encoded data removed]"
          },
          "metadata": {}
        }
      ]
    },
    {
      "cell_type": "code",
      "source": [
        "y_pred = predict(X_test_scaled, weight)\n",
        "evaluation(y_test_scaled, y_pred)"
      ],
      "metadata": {
        "colab": {
          "base_uri": "https://localhost:8080/"
        },
        "id": "8w-jhG6ksqAT",
        "outputId": "9f3e7dc8-8d83-40c4-a31c-36cdd48f4b98"
      },
      "execution_count": 82,
      "outputs": [
        {
          "output_type": "stream",
          "name": "stdout",
          "text": [
            "tp = 369, tn = 1662, fp = 163, fn = 649\n",
            "Accuracy = 0.7143862117481533\n",
            "Precision = 0.693609022556391\n",
            "Recall = 0.362475442043222\n",
            "F1 Score = 0.47612903225806447\n"
          ]
        }
      ]
    },
    {
      "cell_type": "markdown",
      "source": [
        "# **Hàm binary1 bổ sung bias**"
      ],
      "metadata": {
        "id": "mMlNA_fBkfi9"
      }
    },
    {
      "cell_type": "code",
      "source": [
        "class binary1:\n",
        "    def __init__(self, lr = 1e-6, epochs = 1000):\n",
        "        self.lr = lr\n",
        "        self.epochs = epochs\n",
        "    # Hàm thêm bias vào tập X\n",
        "    def addBias(self,X):\n",
        "        bias = np.ones((X.shape[0],1))\n",
        "        X = np.hstack((bias,X));\n",
        "        return X\n",
        "    # Hàm sigmoid\n",
        "    def g(z):\n",
        "        z = np.float64(z)\n",
        "        return np.exp(z)/(1+np.exp(z))\n",
        "    # Hàm xác suất dự đoán\n",
        "    def predict_prob(self,X, w):\n",
        "        z = np.dot(X, w)\n",
        "        a = g(z)\n",
        "        return a\n",
        "    # Hàm dự đoán binary\n",
        "    def predict(self,X, w):\n",
        "        y_hat = self.predict_prob(X, w)\n",
        "        y_hat[y_hat >= 0.5] = 1\n",
        "        y_hat[y_hat < 0.5] = 0\n",
        "        return y_hat\n",
        "    # Hàm loss\n",
        "    def loss(self,X, y, w, lambda_):\n",
        "        y_hat = self.predict_prob(X, w)\n",
        "        theta = 1e-4\n",
        "        l = y*np.log(y_hat+theta) + (1-y)*np.log(1-y_hat+theta)\n",
        "        return -np.mean(l)\n",
        "    # Hàm gradient\n",
        "    def grad(self,X, y, w, lambda_):\n",
        "        y_hat = self.predict_prob(X, w)\n",
        "        delta = y_hat - y\n",
        "        dw = np.dot(X.T, delta)\n",
        "        return dw\n",
        "    # Hàm gradient descent\n",
        "    def gradient_descent(self,X, y, lr=1e-7, epochs=5000, lambda_=0.01):\n",
        "        w = np.zeros((X.shape[1], 1))\n",
        "        losses = []\n",
        "        for i in range(epochs):\n",
        "            dw = self.grad(X, y, w, lambda_)\n",
        "            w -= lr * dw\n",
        "            a = self.loss(X, y, w, lambda_)\n",
        "            losses.append(a)\n",
        "        return losses, w"
      ],
      "metadata": {
        "id": "Mlo7jSi4jQTE"
      },
      "execution_count": 63,
      "outputs": []
    },
    {
      "cell_type": "code",
      "source": [
        "model = binary1()\n",
        "X_train_scaled_bias = model.addBias(X_train_scaled)\n",
        "X_test_scaled_bias = model.addBias(X_test_scaled)\n",
        "loss,w = model.gradient_descent(X_train_scaled_bias,np.array([y_train_scaled]).T)"
      ],
      "metadata": {
        "id": "9SeB09UznlDH"
      },
      "execution_count": null,
      "outputs": []
    },
    {
      "cell_type": "code",
      "source": [
        "plt.xlabel(\"epochs\")\n",
        "plt.ylabel(\"loss\")\n",
        "plt.plot(loss)"
      ],
      "metadata": {
        "id": "eofP4zjCnqmv",
        "colab": {
          "base_uri": "https://localhost:8080/",
          "height": 466
        },
        "outputId": "bbe12e10-b8c3-429e-9b20-ee90400da652"
      },
      "execution_count": 70,
      "outputs": [
        {
          "output_type": "execute_result",
          "data": {
            "text/plain": [
              "[<matplotlib.lines.Line2D at 0x7fe37ce26490>]"
            ]
          },
          "metadata": {},
          "execution_count": 70
        },
        {
          "output_type": "display_data",
          "data": {
            "text/plain": [
              "<Figure size 640x480 with 1 Axes>"
            ],
            "image/png": "[encoded data removed]"
          },
          "metadata": {}
        }
      ]
    },
    {
      "cell_type": "code",
      "source": [
        "print(f\"Final loss: {loss[-1]}\")"
      ],
      "metadata": {
        "colab": {
          "base_uri": "https://localhost:8080/"
        },
        "id": "huaaSvyLnV_u",
        "outputId": "d3b9bd03-396d-469a-c7c4-ddd1b079b08e"
      },
      "execution_count": 71,
      "outputs": [
        {
          "output_type": "stream",
          "name": "stdout",
          "text": [
            "Final loss: 0.577749061553835\n"
          ]
        }
      ]
    },
    {
      "cell_type": "markdown",
      "source": [
        "# **Đánh giá mô hình sau khi thêm bias**"
      ],
      "metadata": {
        "id": "TL9nNn5FlZYP"
      }
    },
    {
      "cell_type": "code",
      "source": [
        "y_pred = model.predict(X_test_scaled_bias,w)"
      ],
      "metadata": {
        "id": "S1c8lpfJlY6s"
      },
      "execution_count": 66,
      "outputs": []
    },
    {
      "cell_type": "code",
      "source": [
        "evaluation(y_test_scaled,y_pred)"
      ],
      "metadata": {
        "colab": {
          "base_uri": "https://localhost:8080/"
        },
        "id": "y3GlDbfVnH9K",
        "outputId": "56fec1d4-f627-4026-c20c-5a77728a7722"
      },
      "execution_count": 68,
      "outputs": [
        {
          "output_type": "stream",
          "name": "stdout",
          "text": [
            "tp = 368, tn = 1665, fp = 160, fn = 650\n",
            "Accuracy = 0.7150896939852269\n",
            "Precision = 0.696969696969697\n",
            "Recall = 0.3614931237721022\n",
            "F1 Score = 0.4760672703751617\n"
          ]
        }
      ]
    }
  ]
}