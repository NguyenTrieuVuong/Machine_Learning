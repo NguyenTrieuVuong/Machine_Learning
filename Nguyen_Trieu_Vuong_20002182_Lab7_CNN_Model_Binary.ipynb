{
  "nbformat": 4,
  "nbformat_minor": 0,
  "metadata": {
    "colab": {
      "provenance": [],
      "gpuType": "T4"
    },
    "kernelspec": {
      "name": "python3",
      "display_name": "Python 3"
    },
    "language_info": {
      "name": "python"
    },
    "accelerator": "GPU",
    "gpuClass": "standard"
  },
  "cells": [
    {
      "cell_type": "markdown",
      "source": [
        "# **Activity: Nhận diện giới tính**"
      ],
      "metadata": {
        "id": "fAdcWpThQSZ9"
      }
    },
    {
      "cell_type": "markdown",
      "source": [
        "**Tải data vào colab**"
      ],
      "metadata": {
        "id": "2cU-0eErBvE-"
      }
    },
    {
      "cell_type": "code",
      "execution_count": 79,
      "metadata": {
        "id": "pBTMnv9ikzIV",
        "colab": {
          "base_uri": "https://localhost:8080/"
        },
        "outputId": "ecd5b01b-0e42-4058-e74f-645d3695a6a9"
      },
      "outputs": [
        {
          "output_type": "stream",
          "name": "stdout",
          "text": [
            "Drive already mounted at /content/gdrive; to attempt to forcibly remount, call drive.mount(\"/content/gdrive\", force_remount=True).\n"
          ]
        }
      ],
      "source": [
        "from google.colab import drive\n",
        "drive.mount('/content/gdrive')"
      ]
    },
    {
      "cell_type": "code",
      "source": [
        "!unzip /content/gdrive/Shareddrives/nhan_dien_dac_diem_khuon_mat/gender_data.zip -d \"/content\""
      ],
      "metadata": {
        "colab": {
          "base_uri": "https://localhost:8080/"
        },
        "id": "lLBS0hEBBzCC",
        "outputId": "818c0a1d-8cf6-4141-ecd8-a6844780ffc9"
      },
      "execution_count": 80,
      "outputs": [
        {
          "output_type": "stream",
          "name": "stdout",
          "text": [
            "Archive:  /content/gdrive/Shareddrives/nhan_dien_dac_diem_khuon_mat/gender_data.zip\n",
            "replace /content/Training/female/131422.jpg.jpg? [y]es, [n]o, [A]ll, [N]one, [r]ename: N\n"
          ]
        }
      ]
    },
    {
      "cell_type": "markdown",
      "source": [
        "**Import thư viện**"
      ],
      "metadata": {
        "id": "mtbhkEG9BySf"
      }
    },
    {
      "cell_type": "code",
      "source": [
        "import os\n",
        "import cv2\n",
        "import numpy as np\n",
        "import pandas as pd\n",
        "from matplotlib import pyplot as plt\n",
        "import glob\n",
        "import seaborn as sn\n",
        "from tensorflow.keras.datasets import mnist\n",
        "import tensorflow\n",
        "from tensorflow.keras.models import Model\n",
        "from tensorflow.keras.layers import Dense, Dropout, Flatten, Input, Reshape\n",
        "from tensorflow.keras.layers import Conv2D, MaxPooling2D"
      ],
      "metadata": {
        "id": "7HZ_uvoVB5I-"
      },
      "execution_count": 81,
      "outputs": []
    },
    {
      "cell_type": "markdown",
      "source": [
        "**Chia 2 thư mục train và test**"
      ],
      "metadata": {
        "id": "e8oKw5lqB_tX"
      }
    },
    {
      "cell_type": "code",
      "source": [
        "train_dir = '/content/Training'\n",
        "test_dir = '/content/Validation'\n",
        "categories = [\"female\", \"male\"]\n",
        "img_size = 50"
      ],
      "metadata": {
        "id": "dF3erCO5CCZN"
      },
      "execution_count": 82,
      "outputs": []
    },
    {
      "cell_type": "code",
      "source": [
        "X_train_label = []\n",
        "X_train_list = []\n",
        "X_test_label = []\n",
        "X_test_list = []"
      ],
      "metadata": {
        "id": "heUHSAxZCDtf"
      },
      "execution_count": 83,
      "outputs": []
    },
    {
      "cell_type": "markdown",
      "source": [
        "**Load data và preprocessing**"
      ],
      "metadata": {
        "id": "GNpLG8XZCAse"
      }
    },
    {
      "cell_type": "code",
      "source": [
        "female_train_list = glob.glob(train_dir+\"/\"+categories[0]+\"/*\")\n",
        "male_train_list = glob.glob(train_dir+\"/\"+categories[1]+\"/*\")\n",
        "for name in female_train_list:\n",
        "  X_train_label.append(0)\n",
        "  img = cv2.imread(name)\n",
        "  img = cv2.cvtColor(img,cv2.COLOR_BGR2GRAY)\n",
        "  img = cv2.resize(img,(img_size,img_size))\n",
        "  X_train_list.append((img))\n",
        "for name in male_train_list:\n",
        "  X_train_label.append(1)\n",
        "  img = cv2.imread(name)\n",
        "  img = cv2.cvtColor(img,cv2.COLOR_BGR2GRAY)\n",
        "  img = cv2.resize(img,(img_size,img_size))\n",
        "  X_train_list.append((img))"
      ],
      "metadata": {
        "id": "vhk-cF-BCLU2"
      },
      "execution_count": 84,
      "outputs": []
    },
    {
      "cell_type": "code",
      "source": [
        "female_test_list = glob.glob(test_dir+\"/\"+categories[0]+\"/*\")\n",
        "male_test_list = glob.glob(test_dir+\"/\"+categories[1]+\"/*\")\n",
        "for name in female_test_list:\n",
        "  X_test_label.append(0)\n",
        "  img = cv2.imread(name)\n",
        "  img = cv2.cvtColor(img,cv2.COLOR_BGR2GRAY)\n",
        "  img = cv2.resize(img,(img_size,img_size))\n",
        "  X_test_list.append((img))\n",
        "for name in male_test_list:\n",
        "  X_test_label.append(1)\n",
        "  img = cv2.imread(name)\n",
        "  img = cv2.cvtColor(img,cv2.COLOR_BGR2GRAY)\n",
        "  img = cv2.resize(img,(img_size,img_size))\n",
        "  X_test_list.append((img))"
      ],
      "metadata": {
        "id": "7Sgus6rvCTFo"
      },
      "execution_count": 85,
      "outputs": []
    },
    {
      "cell_type": "code",
      "source": [
        "X_train = np.array(X_train_list)\n",
        "y_train = np.array(X_train_label)\n",
        "X_test = np.array(X_test_list)\n",
        "y_test = np.array(X_test_label)"
      ],
      "metadata": {
        "id": "S0hRoGJkCWeU"
      },
      "execution_count": 104,
      "outputs": []
    },
    {
      "cell_type": "markdown",
      "source": [
        "**Duỗi vector, chuẩn hoá input, output**"
      ],
      "metadata": {
        "id": "K6KD33U8CceT"
      }
    },
    {
      "cell_type": "code",
      "source": [
        "X_train_scaled = np.array(X_train)/255.\n",
        "X_test_scaled = np.array(X_test)/255.\n",
        "# OnehotVector output\n",
        "from sklearn.preprocessing import OneHotEncoder\n",
        "encoder = OneHotEncoder()\n",
        "encoder.fit(y_train.reshape(-1,1))\n",
        "y_train = encoder.transform(y_train.reshape(-1,1)).toarray()\n",
        "y_test = encoder.transform(y_test.reshape(-1,1)).toarray()\n",
        "print(y_train.shape)"
      ],
      "metadata": {
        "colab": {
          "base_uri": "https://localhost:8080/"
        },
        "id": "M5TUA1EmCdJQ",
        "outputId": "25df5465-fda6-48fe-b3ab-e80ee83b9f4d"
      },
      "execution_count": 87,
      "outputs": [
        {
          "output_type": "stream",
          "name": "stdout",
          "text": [
            "(47009, 2)\n"
          ]
        }
      ]
    },
    {
      "cell_type": "markdown",
      "source": [
        "**Xây dựng mô hình CNN**"
      ],
      "metadata": {
        "id": "7zt-w5HEPuFS"
      }
    },
    {
      "cell_type": "code",
      "source": [
        "from tensorflow.keras.layers import BatchNormalization\n",
        "\n",
        "inp = Input(shape = (50, 50, 1))\n",
        "\n",
        "cnn = Conv2D(filters = 32, kernel_size = 3, activation = 'relu', padding = 'same')(inp) # Thêm padding\n",
        "cnn = BatchNormalization()(cnn)\n",
        "cnn = Conv2D(filters = 32, kernel_size = 3, activation = 'relu', padding = 'same')(cnn)\n",
        "cnn = BatchNormalization()(cnn)\n",
        "pooling = MaxPooling2D(pool_size = (2, 2))(cnn)\n",
        "\n",
        "cnn = Conv2D(filters = 64, kernel_size = 3, activation = 'relu', padding = 'same')(pooling)\n",
        "cnn = BatchNormalization()(cnn)\n",
        "cnn = Conv2D(filters = 64, kernel_size = 3, activation = 'relu', padding = 'same')(cnn)\n",
        "cnn = BatchNormalization()(cnn)\n",
        "pooling = MaxPooling2D(pool_size = (2, 2))(cnn)\n",
        "\n",
        "cnn = Conv2D(filters = 128, kernel_size = 3, activation = 'relu', padding = 'same')(pooling)\n",
        "cnn = BatchNormalization()(cnn)\n",
        "cnn = Conv2D(filters = 128, kernel_size = 3, activation = 'relu', padding = 'same')(cnn)\n",
        "cnn = BatchNormalization()(cnn)\n",
        "pooling = MaxPooling2D(pool_size = (2, 2))(cnn)\n",
        "\n",
        "cnn = Conv2D(filters = 256, kernel_size = 3, activation = 'relu', padding = 'same')(pooling)\n",
        "cnn = BatchNormalization()(cnn)\n",
        "cnn = Conv2D(filters = 256, kernel_size = 3, activation = 'relu', padding = 'same')(cnn)\n",
        "cnn = BatchNormalization()(cnn)\n",
        "pooling = MaxPooling2D(pool_size = (2, 2))(cnn)\n",
        "\n",
        "f = Flatten()(pooling)\n",
        "\n",
        "fc1 = Dense(units = 512, activation = 'relu') (f)\n",
        "drop = Dropout(0.2)(fc1)\n",
        "fc2 = Dense(units = 256, activation = 'relu') (drop)\n",
        "fc3 = Dense(units = 128, activation = 'relu') (fc2)\n",
        "fc4 = Dense(units = 64, activation = 'relu') (fc3)\n",
        "fc5 = Dense(units = 32, activation = 'relu') (fc4)\n",
        "out = Dense(units = 2, activation = 'sigmoid') (fc5)\n",
        "\n",
        "model = Model(inputs=inp, outputs=out)\n",
        "model.summary()"
      ],
      "metadata": {
        "colab": {
          "base_uri": "https://localhost:8080/"
        },
        "id": "sP33rOXnI4qi",
        "outputId": "a39894ae-029c-4a55-b112-b8d02b5cba89"
      },
      "execution_count": 88,
      "outputs": [
        {
          "output_type": "stream",
          "name": "stdout",
          "text": [
            "Model: \"model_8\"\n",
            "_________________________________________________________________\n",
            " Layer (type)                Output Shape              Param #   \n",
            "=================================================================\n",
            " input_10 (InputLayer)       [(None, 50, 50, 1)]       0         \n",
            "                                                                 \n",
            " conv2d_45 (Conv2D)          (None, 50, 50, 32)        320       \n",
            "                                                                 \n",
            " batch_normalization_32 (Bat  (None, 50, 50, 32)       128       \n",
            " chNormalization)                                                \n",
            "                                                                 \n",
            " conv2d_46 (Conv2D)          (None, 50, 50, 32)        9248      \n",
            "                                                                 \n",
            " batch_normalization_33 (Bat  (None, 50, 50, 32)       128       \n",
            " chNormalization)                                                \n",
            "                                                                 \n",
            " max_pooling2d_28 (MaxPoolin  (None, 25, 25, 32)       0         \n",
            " g2D)                                                            \n",
            "                                                                 \n",
            " conv2d_47 (Conv2D)          (None, 25, 25, 64)        18496     \n",
            "                                                                 \n",
            " batch_normalization_34 (Bat  (None, 25, 25, 64)       256       \n",
            " chNormalization)                                                \n",
            "                                                                 \n",
            " conv2d_48 (Conv2D)          (None, 25, 25, 64)        36928     \n",
            "                                                                 \n",
            " batch_normalization_35 (Bat  (None, 25, 25, 64)       256       \n",
            " chNormalization)                                                \n",
            "                                                                 \n",
            " max_pooling2d_29 (MaxPoolin  (None, 12, 12, 64)       0         \n",
            " g2D)                                                            \n",
            "                                                                 \n",
            " conv2d_49 (Conv2D)          (None, 12, 12, 128)       73856     \n",
            "                                                                 \n",
            " batch_normalization_36 (Bat  (None, 12, 12, 128)      512       \n",
            " chNormalization)                                                \n",
            "                                                                 \n",
            " conv2d_50 (Conv2D)          (None, 12, 12, 128)       147584    \n",
            "                                                                 \n",
            " batch_normalization_37 (Bat  (None, 12, 12, 128)      512       \n",
            " chNormalization)                                                \n",
            "                                                                 \n",
            " max_pooling2d_30 (MaxPoolin  (None, 6, 6, 128)        0         \n",
            " g2D)                                                            \n",
            "                                                                 \n",
            " conv2d_51 (Conv2D)          (None, 6, 6, 256)         295168    \n",
            "                                                                 \n",
            " batch_normalization_38 (Bat  (None, 6, 6, 256)        1024      \n",
            " chNormalization)                                                \n",
            "                                                                 \n",
            " conv2d_52 (Conv2D)          (None, 6, 6, 256)         590080    \n",
            "                                                                 \n",
            " batch_normalization_39 (Bat  (None, 6, 6, 256)        1024      \n",
            " chNormalization)                                                \n",
            "                                                                 \n",
            " max_pooling2d_31 (MaxPoolin  (None, 3, 3, 256)        0         \n",
            " g2D)                                                            \n",
            "                                                                 \n",
            " flatten_8 (Flatten)         (None, 2304)              0         \n",
            "                                                                 \n",
            " dense_36 (Dense)            (None, 512)               1180160   \n",
            "                                                                 \n",
            " dropout_12 (Dropout)        (None, 512)               0         \n",
            "                                                                 \n",
            " dense_37 (Dense)            (None, 256)               131328    \n",
            "                                                                 \n",
            " dense_38 (Dense)            (None, 128)               32896     \n",
            "                                                                 \n",
            " dense_39 (Dense)            (None, 64)                8256      \n",
            "                                                                 \n",
            " dense_40 (Dense)            (None, 32)                2080      \n",
            "                                                                 \n",
            " dense_41 (Dense)            (None, 2)                 66        \n",
            "                                                                 \n",
            "=================================================================\n",
            "Total params: 2,530,306\n",
            "Trainable params: 2,528,386\n",
            "Non-trainable params: 1,920\n",
            "_________________________________________________________________\n"
          ]
        }
      ]
    },
    {
      "cell_type": "markdown",
      "source": [
        "**Huấn luyện mô hình**"
      ],
      "metadata": {
        "id": "hbQQN4C-PzvR"
      }
    },
    {
      "cell_type": "code",
      "source": [
        "optimizer1 = tensorflow.keras.optimizers.Adam(learning_rate = 0.001)\n",
        "model.compile(optimizer = optimizer1, loss='categorical_crossentropy',metrics = ['accuracy'])\n",
        "\n",
        "history = model.fit(X_train_scaled,y_train,batch_size=64,\n",
        "                    epochs = 25, validation_data = (X_test_scaled, y_test))"
      ],
      "metadata": {
        "colab": {
          "base_uri": "https://localhost:8080/"
        },
        "id": "RkPMlBrdJYWm",
        "outputId": "33d30199-4e8e-4add-8719-63e715094787"
      },
      "execution_count": 89,
      "outputs": [
        {
          "output_type": "stream",
          "name": "stdout",
          "text": [
            "Epoch 1/25\n",
            "735/735 [==============================] - 26s 25ms/step - loss: 0.1935 - accuracy: 0.9240 - val_loss: 0.1105 - val_accuracy: 0.9604\n",
            "Epoch 2/25\n",
            "735/735 [==============================] - 19s 25ms/step - loss: 0.1184 - accuracy: 0.9586 - val_loss: 0.3729 - val_accuracy: 0.8154\n",
            "Epoch 3/25\n",
            "735/735 [==============================] - 18s 25ms/step - loss: 0.1037 - accuracy: 0.9643 - val_loss: 0.1604 - val_accuracy: 0.9389\n",
            "Epoch 4/25\n",
            "735/735 [==============================] - 19s 26ms/step - loss: 0.0927 - accuracy: 0.9680 - val_loss: 0.1230 - val_accuracy: 0.9506\n",
            "Epoch 5/25\n",
            "735/735 [==============================] - 18s 25ms/step - loss: 0.0853 - accuracy: 0.9704 - val_loss: 0.0955 - val_accuracy: 0.9636\n",
            "Epoch 6/25\n",
            "735/735 [==============================] - 18s 24ms/step - loss: 0.0754 - accuracy: 0.9738 - val_loss: 0.1095 - val_accuracy: 0.9589\n",
            "Epoch 7/25\n",
            "735/735 [==============================] - 18s 25ms/step - loss: 0.0683 - accuracy: 0.9757 - val_loss: 0.1197 - val_accuracy: 0.9628\n",
            "Epoch 8/25\n",
            "735/735 [==============================] - 18s 25ms/step - loss: 0.0570 - accuracy: 0.9795 - val_loss: 0.1011 - val_accuracy: 0.9659\n",
            "Epoch 9/25\n",
            "735/735 [==============================] - 18s 25ms/step - loss: 0.0462 - accuracy: 0.9829 - val_loss: 0.1186 - val_accuracy: 0.9549\n",
            "Epoch 10/25\n",
            "735/735 [==============================] - 18s 25ms/step - loss: 0.0419 - accuracy: 0.9847 - val_loss: 0.1296 - val_accuracy: 0.9656\n",
            "Epoch 11/25\n",
            "735/735 [==============================] - 20s 27ms/step - loss: 0.0350 - accuracy: 0.9876 - val_loss: 0.1644 - val_accuracy: 0.9629\n",
            "Epoch 12/25\n",
            "735/735 [==============================] - 18s 25ms/step - loss: 0.0271 - accuracy: 0.9900 - val_loss: 0.2181 - val_accuracy: 0.9346\n",
            "Epoch 13/25\n",
            "735/735 [==============================] - 18s 24ms/step - loss: 0.0237 - accuracy: 0.9911 - val_loss: 0.1985 - val_accuracy: 0.9648\n",
            "Epoch 14/25\n",
            "735/735 [==============================] - 19s 26ms/step - loss: 0.0211 - accuracy: 0.9927 - val_loss: 0.1699 - val_accuracy: 0.9613\n",
            "Epoch 15/25\n",
            "735/735 [==============================] - 18s 24ms/step - loss: 0.0214 - accuracy: 0.9929 - val_loss: 0.1492 - val_accuracy: 0.9630\n",
            "Epoch 16/25\n",
            "735/735 [==============================] - 18s 25ms/step - loss: 0.0217 - accuracy: 0.9926 - val_loss: 0.1500 - val_accuracy: 0.9585\n",
            "Epoch 17/25\n",
            "735/735 [==============================] - 18s 24ms/step - loss: 0.0139 - accuracy: 0.9950 - val_loss: 0.2858 - val_accuracy: 0.9573\n",
            "Epoch 18/25\n",
            "735/735 [==============================] - 18s 25ms/step - loss: 0.0132 - accuracy: 0.9956 - val_loss: 0.1730 - val_accuracy: 0.9619\n",
            "Epoch 19/25\n",
            "735/735 [==============================] - 18s 25ms/step - loss: 0.0131 - accuracy: 0.9954 - val_loss: 0.1669 - val_accuracy: 0.9626\n",
            "Epoch 20/25\n",
            "735/735 [==============================] - 18s 24ms/step - loss: 0.0130 - accuracy: 0.9955 - val_loss: 0.2628 - val_accuracy: 0.9588\n",
            "Epoch 21/25\n",
            "735/735 [==============================] - 18s 25ms/step - loss: 0.0105 - accuracy: 0.9967 - val_loss: 0.1507 - val_accuracy: 0.9603\n",
            "Epoch 22/25\n",
            "735/735 [==============================] - 18s 24ms/step - loss: 0.0123 - accuracy: 0.9958 - val_loss: 0.2046 - val_accuracy: 0.9590\n",
            "Epoch 23/25\n",
            "735/735 [==============================] - 18s 25ms/step - loss: 0.0119 - accuracy: 0.9964 - val_loss: 0.1768 - val_accuracy: 0.9579\n",
            "Epoch 24/25\n",
            "735/735 [==============================] - 20s 27ms/step - loss: 0.0110 - accuracy: 0.9963 - val_loss: 0.1787 - val_accuracy: 0.9640\n",
            "Epoch 25/25\n",
            "735/735 [==============================] - 18s 25ms/step - loss: 0.0173 - accuracy: 0.9934 - val_loss: 0.2081 - val_accuracy: 0.9536\n"
          ]
        }
      ]
    },
    {
      "cell_type": "markdown",
      "source": [
        "**Trực quan hóa kết quả Accuracy và Loss trên tập Train và Test**"
      ],
      "metadata": {
        "id": "7F5ppWKGP4Mb"
      }
    },
    {
      "cell_type": "code",
      "source": [
        "plt.plot(history.history['accuracy'])\n",
        "plt.plot(history.history['val_accuracy'])\n",
        "plt.title('model accuracy')\n",
        "plt.ylabel('accuracy')\n",
        "plt.xlabel('epoch')\n",
        "plt.legend(['train','test'],loc = 'upper left')\n",
        "plt.show()\n",
        "# summarize history for loss\n",
        "plt.plot(history.history['loss'])\n",
        "plt.plot(history.history['val_loss'])\n",
        "plt.title('model loss')\n",
        "plt.ylabel('loss')\n",
        "plt.xlabel('epoch')\n",
        "plt.legend(['train','text'],loc='upper left')\n",
        "plt.show()"
      ],
      "metadata": {
        "colab": {
          "base_uri": "https://localhost:8080/",
          "height": 927
        },
        "id": "g2Bl2_SnOwMV",
        "outputId": "c4460c1b-c55f-41a6-e984-95d1e691f50b"
      },
      "execution_count": 96,
      "outputs": [
        {
          "output_type": "display_data",
          "data": {
            "text/plain": [
              "<Figure size 640x480 with 1 Axes>"
            ],
            "image/png": "[encoded data removed]"
          },
          "metadata": {}
        },
        {
          "output_type": "display_data",
          "data": {
            "text/plain": [
              "<Figure size 640x480 with 1 Axes>"
            ],
            "image/png": "[encoded data removed]"
          },
          "metadata": {}
        }
      ]
    },
    {
      "cell_type": "markdown",
      "source": [
        "**Lưu mô hình, load mô hình đã lưu từ máy**"
      ],
      "metadata": {
        "id": "bOrtMG9IP-rF"
      }
    },
    {
      "cell_type": "code",
      "source": [
        "model.save('model1.h5')\n",
        "from tensorflow.keras.models import load_model\n",
        "model1 = load_model('/content/model1.h5')"
      ],
      "metadata": {
        "id": "sSDfGlzwJgVO"
      },
      "execution_count": 97,
      "outputs": []
    },
    {
      "cell_type": "markdown",
      "source": [
        "**Tính y dự đoán từ mô hình đã lưu**"
      ],
      "metadata": {
        "id": "vAauFRnDQFih"
      }
    },
    {
      "cell_type": "code",
      "source": [
        "y_hat = model1.predict(X_test_scaled)"
      ],
      "metadata": {
        "colab": {
          "base_uri": "https://localhost:8080/"
        },
        "id": "_X-XcEHHJh7D",
        "outputId": "ee0f9797-ad90-4e72-8069-6674cf26ed50"
      },
      "execution_count": 105,
      "outputs": [
        {
          "output_type": "stream",
          "name": "stdout",
          "text": [
            "365/365 [==============================] - 1s 4ms/step\n"
          ]
        }
      ]
    },
    {
      "cell_type": "markdown",
      "source": [
        "**Lấy argmax của y dự đoán và y test**"
      ],
      "metadata": {
        "id": "sK7nxcyaQJnI"
      }
    },
    {
      "cell_type": "code",
      "source": [
        "# y_test = np.argmax(y_test, axis=1)\n",
        "y_hat = np.argmax(y_hat, axis=1)"
      ],
      "metadata": {
        "id": "ZRNEstoLJjsg"
      },
      "execution_count": 107,
      "outputs": []
    },
    {
      "cell_type": "markdown",
      "source": [
        "### **Sử dụng classification_report trong thư viện Sklearn đánh giá kết quả mô hình ban đầu dựa trên kết quả dự đoán tập test**"
      ],
      "metadata": {
        "id": "Z0Agqr7WQMCe"
      }
    },
    {
      "cell_type": "code",
      "source": [
        "from sklearn.metrics import classification_report\n",
        "target_names = ['female', 'male']\n",
        "print(classification_report(y_test, y_hat,target_names=target_names))"
      ],
      "metadata": {
        "colab": {
          "base_uri": "https://localhost:8080/"
        },
        "id": "NBhojOg7O2i_",
        "outputId": "30f2930b-3592-4daf-eb72-6b739a2871e6"
      },
      "execution_count": 108,
      "outputs": [
        {
          "output_type": "stream",
          "name": "stdout",
          "text": [
            "              precision    recall  f1-score   support\n",
            "\n",
            "      female       0.97      0.94      0.95      5841\n",
            "        male       0.94      0.97      0.95      5808\n",
            "\n",
            "    accuracy                           0.95     11649\n",
            "   macro avg       0.95      0.95      0.95     11649\n",
            "weighted avg       0.95      0.95      0.95     11649\n",
            "\n"
          ]
        }
      ]
    },
    {
      "cell_type": "markdown",
      "source": [
        "### **Sử dụng Confusion_matrix trong thư viện Sklearn biểu diễn kết quả dự đoán trên tập test**"
      ],
      "metadata": {
        "id": "7tsEBH5AQOrE"
      }
    },
    {
      "cell_type": "code",
      "source": [
        "import sklearn.metrics\n",
        "import seaborn as sn\n",
        "\n",
        "# Tạo confusion matrix\n",
        "cm = sklearn.metrics.confusion_matrix(y_test, y_hat)\n",
        "\n",
        "# Vẽ confusion matrix\n",
        "plt.figure()\n",
        "sn.heatmap(cm, annot=True, fmt='d', cmap='Blues')\n",
        "plt.title('Confusion Matrix')\n",
        "plt.xlabel('Predicted')\n",
        "plt.ylabel('True')\n",
        "plt.show()"
      ],
      "metadata": {
        "colab": {
          "base_uri": "https://localhost:8080/",
          "height": 472
        },
        "id": "UeH8JaRJPIs1",
        "outputId": "71443e3d-5822-4c1e-8643-109f1ae65fb6"
      },
      "execution_count": 109,
      "outputs": [
        {
          "output_type": "display_data",
          "data": {
            "text/plain": [
              "<Figure size 640x480 with 2 Axes>"
            ],
            "image/png": "[encoded data removed]"
          },
          "metadata": {}
        }
      ]
    }
  ]
}